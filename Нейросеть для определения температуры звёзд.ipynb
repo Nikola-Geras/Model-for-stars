{
 "cells": [
  {
   "cell_type": "markdown",
   "id": "a528a54e",
   "metadata": {},
   "source": [
    "## Задачи"
   ]
  },
  {
   "cell_type": "markdown",
   "id": "d0ed7fd9",
   "metadata": {},
   "source": [
    "Необходимо придумать, как с помощью нейросети определять температуру на поверхности обнаруженных звёзд. Обычно для расчёта температуры учёные пользуются следующими методами: закон смещения Вина, закон Стефана-Больцмана, спектральный анализ. Каждый из них имеет плюсы и минусы. Обсерватория хочет внедрить технологии машинного обучения для предсказания температуры звёзд, надеясь, что этот метод будет наиболее точным и удобным. В нашем распоряжении следующие **характеристики**:\n",
    "- Относительная светимость **L/Lo** — светимость звезды относительно Солнца;\n",
    "- Относительный радиус **R/Ro** — радиус звезды относительно радиуса Солнца;\n",
    "- Абсолютная звёздная величина **Mv** — физическая величина, характеризующая блеск звезды;\n",
    "- Звёздный цвет (white, red, blue, yellow, yellow-orange и др.) — цвет звезды, который определяют на основе спектрального анализа;\n",
    "- Тип звезды:\n",
    "    - Коричневый карлик\t0\n",
    "    - Красный карлик\t1\n",
    "    - Белый карлик\t2\n",
    "    - Звёзды главной последовательности\t3\n",
    "    - Сверхгигант\t4\n",
    "    - Гипергигант\t5\n",
    "- Абсолютная температура **T(K)** — температура на поверхности звезды в Кельвинах.\n",
    "\n",
    "**Задача**: разработать нейронную сеть, которая поможет предсказывать абсолютную температуру на поверхности звезды.\n",
    "\n",
    "**Этапы работы**: \n",
    "- Знакомство с данными (загрузка)\n",
    "- Анализ и предобработка данных\n",
    "- Построение базовой нейросети\n",
    "- Улучшение прошлой версии нейросети\n",
    "- Выводы"
   ]
  },
  {
   "cell_type": "markdown",
   "id": "6de933b7",
   "metadata": {},
   "source": [
    "## Загрузка библиотек"
   ]
  },
  {
   "cell_type": "code",
   "execution_count": 1,
   "id": "95648f80",
   "metadata": {},
   "outputs": [
    {
     "name": "stdout",
     "output_type": "stream",
     "text": [
      "Requirement already satisfied: pyparsing in /opt/conda/lib/python3.9/site-packages (2.4.7)\n",
      "Requirement already satisfied: phik in /opt/conda/lib/python3.9/site-packages (0.12.4)\n",
      "Requirement already satisfied: pandas>=0.25.1 in /opt/conda/lib/python3.9/site-packages (from phik) (1.2.4)\n",
      "Requirement already satisfied: scipy>=1.5.2 in /opt/conda/lib/python3.9/site-packages (from phik) (1.9.1)\n",
      "Requirement already satisfied: numpy>=1.18.0 in /opt/conda/lib/python3.9/site-packages (from phik) (1.21.1)\n",
      "Requirement already satisfied: matplotlib>=2.2.3 in /opt/conda/lib/python3.9/site-packages (from phik) (3.3.4)\n",
      "Requirement already satisfied: joblib>=0.14.1 in /opt/conda/lib/python3.9/site-packages (from phik) (1.1.0)\n",
      "Requirement already satisfied: pyparsing!=2.0.4,!=2.1.2,!=2.1.6,>=2.0.3 in /opt/conda/lib/python3.9/site-packages (from matplotlib>=2.2.3->phik) (2.4.7)\n",
      "Requirement already satisfied: pillow>=6.2.0 in /opt/conda/lib/python3.9/site-packages (from matplotlib>=2.2.3->phik) (8.4.0)\n",
      "Requirement already satisfied: python-dateutil>=2.1 in /opt/conda/lib/python3.9/site-packages (from matplotlib>=2.2.3->phik) (2.8.1)\n",
      "Requirement already satisfied: cycler>=0.10 in /opt/conda/lib/python3.9/site-packages (from matplotlib>=2.2.3->phik) (0.11.0)\n",
      "Requirement already satisfied: kiwisolver>=1.0.1 in /opt/conda/lib/python3.9/site-packages (from matplotlib>=2.2.3->phik) (1.4.4)\n",
      "Requirement already satisfied: pytz>=2017.3 in /opt/conda/lib/python3.9/site-packages (from pandas>=0.25.1->phik) (2021.1)\n",
      "Requirement already satisfied: six>=1.5 in /opt/conda/lib/python3.9/site-packages (from python-dateutil>=2.1->matplotlib>=2.2.3->phik) (1.16.0)\n"
     ]
    }
   ],
   "source": [
    "# Испортируем необходимые библиотеки\n",
    "\n",
    "#conda activate env-name\n",
    "\n",
    "#conda update conda\n",
    "#conda install scikit-learn=1.2.1\n",
    "\n",
    "import warnings\n",
    "\n",
    "!pip install pyparsing\n",
    "!pip install shap\n",
    "\n",
    "import pandas as pd\n",
    "import numpy as np\n",
    "import seaborn as sns\n",
    "import matplotlib.pyplot as plt\n",
    "from math import ceil\n",
    "\n",
    "!pip install phik\n",
    "import phik\n",
    "from phik.report import plot_correlation_matrix\n",
    "from phik import report\n",
    "\n",
    "import torch\n",
    "import torch.nn as nn\n",
    "from torch.utils.data import Dataset, DataLoader\n",
    "from torch.optim import Adam\n",
    "\n",
    "import sklearn\n",
    "from sklearn.model_selection import train_test_split\n",
    "from sklearn.preprocessing import StandardScaler, OneHotEncoder, LabelBinarizer\n",
    "from sklearn.metrics import mean_squared_error\n",
    "from sklearn.compose import ColumnTransformer"
   ]
  },
  {
   "cell_type": "code",
   "execution_count": 2,
   "id": "c1aabe27",
   "metadata": {},
   "outputs": [],
   "source": [
    "# Пропишем необходимые функции\n",
    "\n",
    "def data_info(df):\n",
    "    '''Информации о DF. Методы: describe, info, с просмотром памяти'''\n",
    "    print(f'Размеры DF: {df.shape}', '\\n')\n",
    "    display(df.head(10), df.describe(), df.info(memory_usage='deep'))\n",
    "\n",
    "def data_spread(column_list, df):\n",
    "    '''Разброс данных. Отображение диаграммы размаха и гистограммы. Входные данные list колонок и df'''\n",
    "    for column in column_list:\n",
    "        df.boxplot(column=column)\n",
    "        plt.title(f'Диаграмма размаха на столбце {column}')\n",
    "        plt.show()\n",
    "        df[column].plot(kind='hist', bins=100, grid=True)\n",
    "        plt.title(f'Гистограмма на столбце {column}')\n",
    "        plt.xlabel(column)\n",
    "        plt.ylabel('Кол-во наблюдений')\n",
    "        plt.show()\n",
    "        print('--------------------------------------------')\n",
    "\n",
    "def uniqueness(colomn_list, df):\n",
    "    '''Просмотр уникальных значений листа'''\n",
    "    for column in colomn_list:\n",
    "        print(f'Количество уникальных значений столбца {column}: {df[column].nunique()}')\n",
    "        print(df[column].unique())\n",
    "        print('-----------------------------')"
   ]
  },
  {
   "cell_type": "markdown",
   "id": "f420a8ed",
   "metadata": {},
   "source": [
    "## Выгрузка и первичный анализ данных"
   ]
  },
  {
   "cell_type": "code",
   "execution_count": 3,
   "id": "498915b6",
   "metadata": {},
   "outputs": [],
   "source": [
    "# Сброс ограничений на число столбцов\n",
    "pd.set_option('display.max_columns', None)"
   ]
  },
  {
   "cell_type": "code",
   "execution_count": 4,
   "id": "c4552e6e",
   "metadata": {},
   "outputs": [],
   "source": [
    "data = pd.read_csv('/datasets/6_class.csv', index_col = 0)"
   ]
  },
  {
   "cell_type": "code",
   "execution_count": 5,
   "id": "a2342aae",
   "metadata": {
    "scrolled": false
   },
   "outputs": [
    {
     "name": "stdout",
     "output_type": "stream",
     "text": [
      "Размеры DF: (240, 6) \n",
      "\n",
      "<class 'pandas.core.frame.DataFrame'>\n",
      "Int64Index: 240 entries, 0 to 239\n",
      "Data columns (total 6 columns):\n",
      " #   Column                  Non-Null Count  Dtype  \n",
      "---  ------                  --------------  -----  \n",
      " 0   Temperature (K)         240 non-null    int64  \n",
      " 1   Luminosity(L/Lo)        240 non-null    float64\n",
      " 2   Radius(R/Ro)            240 non-null    float64\n",
      " 3   Absolute magnitude(Mv)  240 non-null    float64\n",
      " 4   Star type               240 non-null    int64  \n",
      " 5   Star color              240 non-null    object \n",
      "dtypes: float64(3), int64(2), object(1)\n",
      "memory usage: 25.8 KB\n"
     ]
    },
    {
     "data": {
      "text/html": [
       "<div>\n",
       "<style scoped>\n",
       "    .dataframe tbody tr th:only-of-type {\n",
       "        vertical-align: middle;\n",
       "    }\n",
       "\n",
       "    .dataframe tbody tr th {\n",
       "        vertical-align: top;\n",
       "    }\n",
       "\n",
       "    .dataframe thead th {\n",
       "        text-align: right;\n",
       "    }\n",
       "</style>\n",
       "<table border=\"1\" class=\"dataframe\">\n",
       "  <thead>\n",
       "    <tr style=\"text-align: right;\">\n",
       "      <th></th>\n",
       "      <th>Temperature (K)</th>\n",
       "      <th>Luminosity(L/Lo)</th>\n",
       "      <th>Radius(R/Ro)</th>\n",
       "      <th>Absolute magnitude(Mv)</th>\n",
       "      <th>Star type</th>\n",
       "      <th>Star color</th>\n",
       "    </tr>\n",
       "  </thead>\n",
       "  <tbody>\n",
       "    <tr>\n",
       "      <th>0</th>\n",
       "      <td>3068</td>\n",
       "      <td>0.002400</td>\n",
       "      <td>0.1700</td>\n",
       "      <td>16.12</td>\n",
       "      <td>0</td>\n",
       "      <td>Red</td>\n",
       "    </tr>\n",
       "    <tr>\n",
       "      <th>1</th>\n",
       "      <td>3042</td>\n",
       "      <td>0.000500</td>\n",
       "      <td>0.1542</td>\n",
       "      <td>16.60</td>\n",
       "      <td>0</td>\n",
       "      <td>Red</td>\n",
       "    </tr>\n",
       "    <tr>\n",
       "      <th>2</th>\n",
       "      <td>2600</td>\n",
       "      <td>0.000300</td>\n",
       "      <td>0.1020</td>\n",
       "      <td>18.70</td>\n",
       "      <td>0</td>\n",
       "      <td>Red</td>\n",
       "    </tr>\n",
       "    <tr>\n",
       "      <th>3</th>\n",
       "      <td>2800</td>\n",
       "      <td>0.000200</td>\n",
       "      <td>0.1600</td>\n",
       "      <td>16.65</td>\n",
       "      <td>0</td>\n",
       "      <td>Red</td>\n",
       "    </tr>\n",
       "    <tr>\n",
       "      <th>4</th>\n",
       "      <td>1939</td>\n",
       "      <td>0.000138</td>\n",
       "      <td>0.1030</td>\n",
       "      <td>20.06</td>\n",
       "      <td>0</td>\n",
       "      <td>Red</td>\n",
       "    </tr>\n",
       "    <tr>\n",
       "      <th>5</th>\n",
       "      <td>2840</td>\n",
       "      <td>0.000650</td>\n",
       "      <td>0.1100</td>\n",
       "      <td>16.98</td>\n",
       "      <td>0</td>\n",
       "      <td>Red</td>\n",
       "    </tr>\n",
       "    <tr>\n",
       "      <th>6</th>\n",
       "      <td>2637</td>\n",
       "      <td>0.000730</td>\n",
       "      <td>0.1270</td>\n",
       "      <td>17.22</td>\n",
       "      <td>0</td>\n",
       "      <td>Red</td>\n",
       "    </tr>\n",
       "    <tr>\n",
       "      <th>7</th>\n",
       "      <td>2600</td>\n",
       "      <td>0.000400</td>\n",
       "      <td>0.0960</td>\n",
       "      <td>17.40</td>\n",
       "      <td>0</td>\n",
       "      <td>Red</td>\n",
       "    </tr>\n",
       "    <tr>\n",
       "      <th>8</th>\n",
       "      <td>2650</td>\n",
       "      <td>0.000690</td>\n",
       "      <td>0.1100</td>\n",
       "      <td>17.45</td>\n",
       "      <td>0</td>\n",
       "      <td>Red</td>\n",
       "    </tr>\n",
       "    <tr>\n",
       "      <th>9</th>\n",
       "      <td>2700</td>\n",
       "      <td>0.000180</td>\n",
       "      <td>0.1300</td>\n",
       "      <td>16.05</td>\n",
       "      <td>0</td>\n",
       "      <td>Red</td>\n",
       "    </tr>\n",
       "  </tbody>\n",
       "</table>\n",
       "</div>"
      ],
      "text/plain": [
       "   Temperature (K)  Luminosity(L/Lo)  Radius(R/Ro)  Absolute magnitude(Mv)  \\\n",
       "0             3068          0.002400        0.1700                   16.12   \n",
       "1             3042          0.000500        0.1542                   16.60   \n",
       "2             2600          0.000300        0.1020                   18.70   \n",
       "3             2800          0.000200        0.1600                   16.65   \n",
       "4             1939          0.000138        0.1030                   20.06   \n",
       "5             2840          0.000650        0.1100                   16.98   \n",
       "6             2637          0.000730        0.1270                   17.22   \n",
       "7             2600          0.000400        0.0960                   17.40   \n",
       "8             2650          0.000690        0.1100                   17.45   \n",
       "9             2700          0.000180        0.1300                   16.05   \n",
       "\n",
       "   Star type Star color  \n",
       "0          0        Red  \n",
       "1          0        Red  \n",
       "2          0        Red  \n",
       "3          0        Red  \n",
       "4          0        Red  \n",
       "5          0        Red  \n",
       "6          0        Red  \n",
       "7          0        Red  \n",
       "8          0        Red  \n",
       "9          0        Red  "
      ]
     },
     "metadata": {},
     "output_type": "display_data"
    },
    {
     "data": {
      "text/html": [
       "<div>\n",
       "<style scoped>\n",
       "    .dataframe tbody tr th:only-of-type {\n",
       "        vertical-align: middle;\n",
       "    }\n",
       "\n",
       "    .dataframe tbody tr th {\n",
       "        vertical-align: top;\n",
       "    }\n",
       "\n",
       "    .dataframe thead th {\n",
       "        text-align: right;\n",
       "    }\n",
       "</style>\n",
       "<table border=\"1\" class=\"dataframe\">\n",
       "  <thead>\n",
       "    <tr style=\"text-align: right;\">\n",
       "      <th></th>\n",
       "      <th>Temperature (K)</th>\n",
       "      <th>Luminosity(L/Lo)</th>\n",
       "      <th>Radius(R/Ro)</th>\n",
       "      <th>Absolute magnitude(Mv)</th>\n",
       "      <th>Star type</th>\n",
       "    </tr>\n",
       "  </thead>\n",
       "  <tbody>\n",
       "    <tr>\n",
       "      <th>count</th>\n",
       "      <td>240.000000</td>\n",
       "      <td>240.000000</td>\n",
       "      <td>240.000000</td>\n",
       "      <td>240.000000</td>\n",
       "      <td>240.000000</td>\n",
       "    </tr>\n",
       "    <tr>\n",
       "      <th>mean</th>\n",
       "      <td>10497.462500</td>\n",
       "      <td>107188.361635</td>\n",
       "      <td>237.157781</td>\n",
       "      <td>4.382396</td>\n",
       "      <td>2.500000</td>\n",
       "    </tr>\n",
       "    <tr>\n",
       "      <th>std</th>\n",
       "      <td>9552.425037</td>\n",
       "      <td>179432.244940</td>\n",
       "      <td>517.155763</td>\n",
       "      <td>10.532512</td>\n",
       "      <td>1.711394</td>\n",
       "    </tr>\n",
       "    <tr>\n",
       "      <th>min</th>\n",
       "      <td>1939.000000</td>\n",
       "      <td>0.000080</td>\n",
       "      <td>0.008400</td>\n",
       "      <td>-11.920000</td>\n",
       "      <td>0.000000</td>\n",
       "    </tr>\n",
       "    <tr>\n",
       "      <th>25%</th>\n",
       "      <td>3344.250000</td>\n",
       "      <td>0.000865</td>\n",
       "      <td>0.102750</td>\n",
       "      <td>-6.232500</td>\n",
       "      <td>1.000000</td>\n",
       "    </tr>\n",
       "    <tr>\n",
       "      <th>50%</th>\n",
       "      <td>5776.000000</td>\n",
       "      <td>0.070500</td>\n",
       "      <td>0.762500</td>\n",
       "      <td>8.313000</td>\n",
       "      <td>2.500000</td>\n",
       "    </tr>\n",
       "    <tr>\n",
       "      <th>75%</th>\n",
       "      <td>15055.500000</td>\n",
       "      <td>198050.000000</td>\n",
       "      <td>42.750000</td>\n",
       "      <td>13.697500</td>\n",
       "      <td>4.000000</td>\n",
       "    </tr>\n",
       "    <tr>\n",
       "      <th>max</th>\n",
       "      <td>40000.000000</td>\n",
       "      <td>849420.000000</td>\n",
       "      <td>1948.500000</td>\n",
       "      <td>20.060000</td>\n",
       "      <td>5.000000</td>\n",
       "    </tr>\n",
       "  </tbody>\n",
       "</table>\n",
       "</div>"
      ],
      "text/plain": [
       "       Temperature (K)  Luminosity(L/Lo)  Radius(R/Ro)  \\\n",
       "count       240.000000        240.000000    240.000000   \n",
       "mean      10497.462500     107188.361635    237.157781   \n",
       "std        9552.425037     179432.244940    517.155763   \n",
       "min        1939.000000          0.000080      0.008400   \n",
       "25%        3344.250000          0.000865      0.102750   \n",
       "50%        5776.000000          0.070500      0.762500   \n",
       "75%       15055.500000     198050.000000     42.750000   \n",
       "max       40000.000000     849420.000000   1948.500000   \n",
       "\n",
       "       Absolute magnitude(Mv)   Star type  \n",
       "count              240.000000  240.000000  \n",
       "mean                 4.382396    2.500000  \n",
       "std                 10.532512    1.711394  \n",
       "min                -11.920000    0.000000  \n",
       "25%                 -6.232500    1.000000  \n",
       "50%                  8.313000    2.500000  \n",
       "75%                 13.697500    4.000000  \n",
       "max                 20.060000    5.000000  "
      ]
     },
     "metadata": {},
     "output_type": "display_data"
    },
    {
     "data": {
      "text/plain": [
       "None"
      ]
     },
     "metadata": {},
     "output_type": "display_data"
    }
   ],
   "source": [
    "data_info(data)"
   ]
  },
  {
   "cell_type": "code",
   "execution_count": 6,
   "id": "9ccdefb0",
   "metadata": {
    "scrolled": false
   },
   "outputs": [
    {
     "data": {
      "image/png": "[encoded data removed]",
      "text/plain": [
       "<Figure size 432x288 with 1 Axes>"
      ]
     },
     "metadata": {
      "needs_background": "light"
     },
     "output_type": "display_data"
    },
    {
     "data": {
      "image/png": "[encoded data removed]",
      "text/plain": [
       "<Figure size 432x288 with 1 Axes>"
      ]
     },
     "metadata": {
      "needs_background": "light"
     },
     "output_type": "display_data"
    },
    {
     "name": "stdout",
     "output_type": "stream",
     "text": [
      "--------------------------------------------\n"
     ]
    },
    {
     "data": {
      "image/png": "[encoded data removed]",
      "text/plain": [
       "<Figure size 432x288 with 1 Axes>"
      ]
     },
     "metadata": {
      "needs_background": "light"
     },
     "output_type": "display_data"
    },
    {
     "data": {
      "image/png": "[encoded data removed]",
      "text/plain": [
       "<Figure size 432x288 with 1 Axes>"
      ]
     },
     "metadata": {
      "needs_background": "light"
     },
     "output_type": "display_data"
    },
    {
     "name": "stdout",
     "output_type": "stream",
     "text": [
      "--------------------------------------------\n"
     ]
    },
    {
     "data": {
      "image/png": "[encoded data removed]",
      "text/plain": [
       "<Figure size 432x288 with 1 Axes>"
      ]
     },
     "metadata": {
      "needs_background": "light"
     },
     "output_type": "display_data"
    },
    {
     "data": {
      "image/png": "[encoded data removed]",
      "text/plain": [
       "<Figure size 432x288 with 1 Axes>"
      ]
     },
     "metadata": {
      "needs_background": "light"
     },
     "output_type": "display_data"
    },
    {
     "name": "stdout",
     "output_type": "stream",
     "text": [
      "--------------------------------------------\n"
     ]
    },
    {
     "data": {
      "image/png": "[encoded data removed]",
      "text/plain": [
       "<Figure size 432x288 with 1 Axes>"
      ]
     },
     "metadata": {
      "needs_background": "light"
     },
     "output_type": "display_data"
    },
    {
     "data": {
      "image/png": "[encoded data removed]",
      "text/plain": [
       "<Figure size 432x288 with 1 Axes>"
      ]
     },
     "metadata": {
      "needs_background": "light"
     },
     "output_type": "display_data"
    },
    {
     "name": "stdout",
     "output_type": "stream",
     "text": [
      "--------------------------------------------\n"
     ]
    }
   ],
   "source": [
    "# Посмотрим на разброс данных\n",
    "data_spread(['Temperature (K)', 'Luminosity(L/Lo)', 'Radius(R/Ro)', 'Absolute magnitude(Mv)'], data)"
   ]
  },
  {
   "cell_type": "code",
   "execution_count": 7,
   "id": "fb741a40",
   "metadata": {},
   "outputs": [
    {
     "data": {
      "image/png": "[encoded data removed]",
      "text/plain": [
       "<Figure size 576x432 with 1 Axes>"
      ]
     },
     "metadata": {
      "needs_background": "light"
     },
     "output_type": "display_data"
    }
   ],
   "source": [
    "category_counts_2 = data['Star color'].value_counts()\n",
    "\n",
    "# Визуализация распределения категорий с помощью столбчатой диаграммы\n",
    "plt.figure(figsize=(8, 6))\n",
    "category_counts_2.plot(kind='bar')\n",
    "plt.title('Распределение категорий star_color')\n",
    "plt.xlabel('Категория')\n",
    "plt.ylabel('Частота')\n",
    "plt.xticks(rotation=45)\n",
    "plt.grid(axis='y', linestyle='--', alpha=0.7)\n",
    "plt.tight_layout()\n",
    "plt.show()"
   ]
  },
  {
   "cell_type": "markdown",
   "id": "036ca5bc",
   "metadata": {},
   "source": [
    "Категориальный признак Star type распределен равномерно. А вот признак Star color нет, плюс имеются дубликаты."
   ]
  },
  {
   "cell_type": "code",
   "execution_count": 8,
   "id": "111f6a6c",
   "metadata": {},
   "outputs": [
    {
     "name": "stdout",
     "output_type": "stream",
     "text": [
      "Количество уникальных значений столбца Star type: 6\n",
      "[0 1 2 3 4 5]\n",
      "-----------------------------\n",
      "Количество уникальных значений столбца Star color: 19\n",
      "['Red' 'Blue White' 'White' 'Yellowish White' 'Blue white'\n",
      " 'Pale yellow orange' 'Blue' 'Blue-white' 'Whitish' 'yellow-white'\n",
      " 'Orange' 'White-Yellow' 'white' 'Blue ' 'yellowish' 'Yellowish'\n",
      " 'Orange-Red' 'Blue white ' 'Blue-White']\n",
      "-----------------------------\n"
     ]
    }
   ],
   "source": [
    "# Проверим корректность категориальных данных\n",
    "uniqueness(['Star type', 'Star color'], data)"
   ]
  },
  {
   "cell_type": "markdown",
   "id": "974b9d93",
   "metadata": {},
   "source": [
    "### Вывод"
   ]
  },
  {
   "cell_type": "markdown",
   "id": "3e4845f8",
   "metadata": {},
   "source": [
    "Нам предоставлен датасет с 240 наблюдениями, которые охарактеризованы 2 категориальными (Star type, Star color) и 4 численными  (Temperature (K), Luminosity(L/Lo), Radius(R/Ro), Absolute magnitude(Mv)) признаками. Temperature (K) наш целевой показатель - нам необходимо научить модель предсказывать именно его, поэтому важно было проверить данные на аномалии, а точнее на ошибки. Если говорить про распределение в данных, то можно заметить, что в каждом признаке есть свои выбросы. Поговорим про каждый из них:\n",
    "- Temperature (K) - наше медианное значение стоит чуть выше 5000 (К), в целом в данном датасете большинство наблюдений показывают температуру звезды в районе 3500-4000 Кельвинов, что является среднестатистической нормой температуры звёзд. Однако существуют значения, которые выходят за пределы усов (>32500 Кельвинов), удалять эти значения мы не будем, во-первых, потому что это наш целевой признак, во-вторых, подобная температура звёзд возможна: \"По оценке учёных, показатели отдельных светил разные. Более холодные обладают теплом 2000-5000 К, средняя температура (у жёлтых и оранжевых) тел составляет 5000-7500 К, а горячие представители достигают значений 7500-80000 К.\" ([Источник](https://kosmosgid.ru/zvyozdy/temperatura-zvezd)).\n",
    "- Luminosity(L/Lo) - большинство звёзд в нашей выборке имеют очень маленькую светимость относительно Солнца (медианное значение весьма близко к нулю). Однако есть наблюдения, которые выходят за пределы и начинаются от 100.000, статья в интернете говорит о том, что такое вполне уместно в нашей необъятной вселенной, всё зависит от радиуса и температуры, а также существуют звёзды, которые в 8.100.000 раз светлее нашего Солнца ([Источник](https://www.atnf.csiro.au/outreach/education/senior/astrophysics/photometry_luminosity.html)). Также, судя по корреляционной матрице и выборке, слова о зависимости, написанные в статье выше, подтверждаются, мы это можем наблюдать на радиусе и Температуре. Все высокие показатели у признака обусловлены высокими показателями у других. Поэтому удалять мы их не будем.\n",
    "- Radius(R/Ro) - здесь всё как в прошлом признаке: большинство наблюдений имеют меньший радиус, по сравнению с нашей Звездой (медианное значение в районе 0), однако существуют звёзды, которые превышают размеры Солнца в несколько тысяч раз. Для них всех характерна принадлежание к типу звезды Гипергигант (5). Поэтому мы не будем удалять подобные значения.\n",
    "- Absolute magnitude(Mv) - признак без выбросов, который имеет бимодальное распределение, практически зеркальное в отрицательной и положительной частях графика. Меньше всего значений в диапазоне 0-5.\n",
    "- Star type - категориальный столбец, по которому мы можем увидеть, что нам предоставили по 40 наблюдений каждого класса.\n",
    "\n",
    "Вернёмся к нашему DF и ошибкам, которые были обнаружены во время знакомства с его данными. Наименование столбцов корректны, типы данных в порядке, а NaN значения отсутствуют. В дальнейшем необходимо будет пременить прямое кодирование к категориальным столбцам, а также маштабирование численных признаков. Однако не всё так хорошо, в столбце Star color есть неявные дубликаты из-за разного регистра букв, а также некоторые слова написаны с перестановкой (blue-white и white-blue) и без тире, это необходимо будет исправить на этапе предобработки данных. Подобные ошибки случаются из-за человечествого фактора - каждый гаразд писать как он хочет."
   ]
  },
  {
   "cell_type": "markdown",
   "id": "simple-subdivision",
   "metadata": {},
   "source": [
    "## Предобработка и анализ данных"
   ]
  },
  {
   "cell_type": "code",
   "execution_count": 9,
   "id": "flush-dream",
   "metadata": {},
   "outputs": [
    {
     "name": "stdout",
     "output_type": "stream",
     "text": [
      "Количество уникальных значений столбца Star type: 6\n",
      "[0 1 2 3 4 5]\n",
      "-----------------------------\n",
      "Количество уникальных значений столбца Star color: 12\n",
      "['red' 'blue white' 'white' 'yellowish white' 'pale yellow orange' 'blue'\n",
      " 'blue-white' 'whitish' 'white-yellow' 'orange' 'yellowish' 'orange-red']\n",
      "-----------------------------\n"
     ]
    }
   ],
   "source": [
    "# Поработаем с неявными дубликатами\n",
    "data['Star color'] = data['Star color'].replace('blue white', 'blue-white')\n",
    "data['Star color'] = data['Star color'].replace(['yellow-white', 'yellowish white'], 'white-yellow')\n",
    "data['Star color'] = data['Star color'].str.lower()\n",
    "data['Star color'] = data['Star color'].str.strip(to_strip = None)\n",
    "uniqueness(['Star type', 'Star color'], data)"
   ]
  },
  {
   "cell_type": "code",
   "execution_count": 10,
   "id": "e3d3839b",
   "metadata": {},
   "outputs": [
    {
     "name": "stdout",
     "output_type": "stream",
     "text": [
      "Количество уникальных значений столбца Star color: 10\n",
      "red                   112\n",
      "blue                   56\n",
      "blue-white             41\n",
      "white-yellow           12\n",
      "white                  10\n",
      "yellowish               3\n",
      "whitish                 2\n",
      "orange                  2\n",
      "orange-red              1\n",
      "pale yellow orange      1\n",
      "Name: Star color, dtype: int64\n"
     ]
    }
   ],
   "source": [
    "data['Star color'] = data['Star color'].replace(['yellow-white', 'yellowish white'], 'white-yellow')\n",
    "data['Star color'] = data['Star color'].replace(['white yellow'], 'white-yellow')\n",
    "data['Star color'] = data['Star color'].replace('blue white', 'blue-white')\n",
    "data['Star color'] = data['Star color'].str.lower()\n",
    "data['Star color'] = data['Star color'].str.strip()\n",
    "\n",
    "# Подсчет количества объектов в каждой категории\n",
    "category_counts = data['Star color'].value_counts()\n",
    "\n",
    "print(\"Количество уникальных значений столбца Star color:\", len(category_counts))\n",
    "print(category_counts)"
   ]
  },
  {
   "cell_type": "code",
   "execution_count": 11,
   "id": "62093239",
   "metadata": {},
   "outputs": [
    {
     "name": "stdout",
     "output_type": "stream",
     "text": [
      "Количество явны дубликатов = 0\n"
     ]
    }
   ],
   "source": [
    "print(f'Количество явны дубликатов = {data.duplicated().sum()}')"
   ]
  },
  {
   "cell_type": "markdown",
   "id": "f5e66600",
   "metadata": {},
   "source": [
    "### Вывод"
   ]
  },
  {
   "cell_type": "markdown",
   "id": "95de6f6a",
   "metadata": {},
   "source": [
    "По результатам предобработки данных были исправлены ошибки в столбце Star color, связанные с неявными дубликатами в словах, что позволило сократить количество уникальных значений с 19 до 12 штук. Явные дубликаты не были обнаружены."
   ]
  },
  {
   "cell_type": "markdown",
   "id": "d926e543",
   "metadata": {},
   "source": [
    "## EDA"
   ]
  },
  {
   "cell_type": "code",
   "execution_count": 12,
   "id": "383fd7f8",
   "metadata": {},
   "outputs": [
    {
     "data": {
      "image/png": "[encoded data removed]",
      "text/plain": [
       "<Figure size 720x576 with 2 Axes>"
      ]
     },
     "metadata": {
      "needs_background": "light"
     },
     "output_type": "display_data"
    }
   ],
   "source": [
    "# Воспользуемся корреляцией Phik\n",
    "\n",
    "phik_overview = data.phik_matrix(interval_cols=['Temperature (K)', 'Luminosity(L/Lo)', 'Radius(R/Ro)', 'Absolute magnitude(Mv)'])\n",
    "phik_overview.round(2)\n",
    "\n",
    "plot_correlation_matrix(phik_overview.values, \n",
    "                        x_labels=phik_overview.columns, \n",
    "                        y_labels=phik_overview.index, \n",
    "                        vmin=0, vmax=1, color_map=\"Blues\", \n",
    "                        title=r\"Корреляция $\\phi_K$\", \n",
    "                        fontsize_factor=1.5, \n",
    "                        figsize=(10, 8))\n",
    "plt.tight_layout()\n",
    "plt.show()"
   ]
  },
  {
   "cell_type": "code",
   "execution_count": 13,
   "id": "f48c6a32",
   "metadata": {},
   "outputs": [
    {
     "data": {
      "image/png": "[encoded data removed]",
      "text/plain": [
       "<Figure size 720x504 with 2 Axes>"
      ]
     },
     "metadata": {
      "needs_background": "light"
     },
     "output_type": "display_data"
    }
   ],
   "source": [
    "# Посмотрим на статистическую значимость\n",
    "\n",
    "significance_overview = data.significance_matrix(interval_cols=['Temperature (K)', 'Luminosity(L/Lo)', 'Radius(R/Ro)', 'Absolute magnitude(Mv)'])\n",
    "plot_correlation_matrix(significance_overview.fillna(0).values, \n",
    "                        x_labels=significance_overview.columns, \n",
    "                        y_labels=significance_overview.index, \n",
    "                        vmin=-5, vmax=5, title=\"Статистическая значимость признаков\", \n",
    "                        usetex=False, fontsize_factor=1.5, figsize=(10, 7), color_map=\"Blues\")\n",
    "plt.tight_layout()"
   ]
  },
  {
   "cell_type": "code",
   "execution_count": 14,
   "id": "ce9a4b75",
   "metadata": {},
   "outputs": [
    {
     "data": {
      "image/png": "[encoded data removed]",
      "text/plain": [
       "<Figure size 288x504 with 2 Axes>"
      ]
     },
     "metadata": {
      "needs_background": "light"
     },
     "output_type": "display_data"
    }
   ],
   "source": [
    "# Посмотрим корреляцию по нашему таргету\n",
    "plt.figure(figsize=(4, 7))\n",
    "sns.heatmap(phik_overview.sort_values(by = 'Temperature (K)', ascending=False)[['Temperature (K)']], cmap='Blues', annot=True, annot_kws={'size':16}, fmt='.2g')\n",
    "plt.title('Корреляция по таргету', fontsize=20)\n",
    "plt.show()"
   ]
  },
  {
   "cell_type": "code",
   "execution_count": 15,
   "id": "694b2b4c",
   "metadata": {},
   "outputs": [
    {
     "data": {
      "image/png": "[encoded data removed]",
      "text/plain": [
       "<Figure size 252x288 with 2 Axes>"
      ]
     },
     "metadata": {
      "needs_background": "light"
     },
     "output_type": "display_data"
    }
   ],
   "source": [
    "# Посмотрим на глобальную корреляцию признаков\n",
    "\n",
    "global_correlation, global_labels = data.global_phik(interval_cols=['Temperature (K)', 'Luminosity(L/Lo)', 'Radius(R/Ro)', 'Absolute magnitude(Mv)', 'Star type'])\n",
    "\n",
    "plot_correlation_matrix(global_correlation, \n",
    "                        x_labels=[''], y_labels=global_labels, \n",
    "                        vmin=0, vmax=1, figsize=(3.5,4),\n",
    "                        color_map=\"Blues\", title=r\"$g_k$\",\n",
    "                        fontsize_factor=1.5)\n",
    "plt.tight_layout()"
   ]
  },
  {
   "cell_type": "markdown",
   "id": "310ae622",
   "metadata": {},
   "source": [
    "### Вывод"
   ]
  },
  {
   "cell_type": "markdown",
   "id": "18580ed4",
   "metadata": {},
   "source": [
    "Первое, что хочется заметить и что явно бросается в глаза - это мультикорреляция между столбцом Star type и Absolute magnitude(Mv), равная 90% по корреляции phik. Однако удалять мы один из данных признаков не будет, тк они имеют большую статистическую значимость равную 21,61. Теперь вернёмся к вопросу о взаимосвязи таргета с нашими фичами:\n",
    "- 'Luminosity(L/Lo)' - 56% корреляция. В любой статье можно наткнуться на слова о том, что главным фактором температуры звезды является его цвет, но фактически светимость звезды относительно Солнца позволяет нам понять насколько звезда теплая, хоть и не явно. \n",
    "- 'Absolute magnitude(Mv)' - 71% корреляция. Это физическая величина, характеризующая блеск астрономического объекта для наблюдателя, находящегося на некотором стандартном расстоянии от объекта. Использование абсолютной звёздной величины позволяет сравнивать действительную, а не наблюдаемую светимость объектов. Поэтому она очень схожа с понятием относительная светимость.\n",
    "- Star color - 69% корреляция. Как я уже писал выше, одним из важнейших показателей температуры звезды является его цвет, скорее всего это вызвано приломлением светового луча, который доходит до нашей планеты.\n",
    "- Star type - 60% корреляцияс нашим признаком. Всё просто у нас есть пять основных типов звёзд и по ним возможно понять их температуру, с точки зрения статистики и наблюдений.\n",
    "- 'Radius(R/Ro)' - самая маленькая корреляция, равная всего 24%. Возможно это связано с природой, а точнее с плотностью и массой звёзд, ведь не важно какой объект будет по размерам, важнее из чего он состоит и каким цветом будет светить.\n",
    "\n",
    "К сожалению для нас, из глобальной корреляции (она дает нам представление о том, насколько хорошо одна переменная может быть смоделирована с использованием других переменных) мы можем понять, что самым плоховырожающимся вектором является Температура звезды - 72%."
   ]
  },
  {
   "cell_type": "markdown",
   "id": "9be96585",
   "metadata": {},
   "source": [
    "## Подготовка данных"
   ]
  },
  {
   "cell_type": "code",
   "execution_count": 16,
   "id": "cbeeab94",
   "metadata": {},
   "outputs": [],
   "source": [
    "# Включим вывод предупреждений\n",
    "warnings.filterwarnings('default')"
   ]
  },
  {
   "cell_type": "code",
   "execution_count": 17,
   "id": "86356665",
   "metadata": {},
   "outputs": [
    {
     "name": "stdout",
     "output_type": "stream",
     "text": [
      "(192, 5) (48, 5) (192,) (48,)\n"
     ]
    }
   ],
   "source": [
    "# Разделим нашу выборку\n",
    "X_train, X_test, y_train, y_test = train_test_split(data.drop('Temperature (K)', axis = 1),\n",
    "                                                    data['Temperature (K)'],\n",
    "                                                    test_size=0.2,\n",
    "                                                    shuffle=True,\n",
    "                                                    random_state=1)\n",
    "print(X_train.shape, X_test.shape, y_train.shape, y_test.shape)"
   ]
  },
  {
   "cell_type": "code",
   "execution_count": 18,
   "id": "460ae719",
   "metadata": {},
   "outputs": [],
   "source": [
    "# Поставим ограничений на число столбцов\n",
    "pd.set_option('display.max_rows', 10)"
   ]
  },
  {
   "cell_type": "code",
   "execution_count": 19,
   "id": "d5409fa2",
   "metadata": {},
   "outputs": [],
   "source": [
    "numerics = ['Luminosity(L/Lo)','Radius(R/Ro)','Absolute magnitude(Mv)']\n",
    "categorical = ['Star color', 'Star type']\n",
    "\n",
    "col_transformer = ColumnTransformer(\n",
    "                        transformers=[\n",
    "                            ('scaler', StandardScaler(), numerics),\n",
    "                            ('ohe', OneHotEncoder(sparse=False), categorical)],\n",
    "                                remainder=\"passthrough\"\n",
    "                                  )\n",
    "\n",
    "col_transformer.fit(data.drop('Temperature (K)', axis=1))\n",
    "X_train = col_transformer.transform(X_train)\n",
    "X_test = col_transformer.transform(X_test)"
   ]
  },
  {
   "cell_type": "markdown",
   "id": "funded-electric",
   "metadata": {},
   "source": [
    "## Построение базовой нейронной сети"
   ]
  },
  {
   "cell_type": "code",
   "execution_count": 20,
   "id": "forced-concentrate",
   "metadata": {},
   "outputs": [],
   "source": [
    "# Переведём выборки в тензоры\n",
    "X_train = torch.FloatTensor(np.array(X_train))\n",
    "X_test = torch.FloatTensor(np.array(X_test))\n",
    "y_train = torch.FloatTensor(np.array(y_train))\n",
    "y_test = torch.FloatTensor(np.array(y_test))"
   ]
  },
  {
   "cell_type": "code",
   "execution_count": 21,
   "id": "87ee064b",
   "metadata": {},
   "outputs": [],
   "source": [
    "# Создадим ПНС\n",
    "class Net(nn.Module):\n",
    "    def __init__(self, n_in_neurons, n_hidden_neurons_1, n_hidden_neurons_2, n_out_neurons):\n",
    "            super(Net, self).__init__()\n",
    "            \n",
    "            self.fc1 = nn.Linear(n_in_neurons, n_hidden_neurons_1)\n",
    "            self.act1 = nn.ReLU()\n",
    "            self.fc2 = nn.Linear(n_hidden_neurons_1, n_hidden_neurons_2)\n",
    "            self.act2 = nn.ReLU()\n",
    "            self.fc3 = nn.Linear(n_hidden_neurons_2, n_out_neurons)\n",
    "            \n",
    "    def forward(self, x):\n",
    "        x = self.fc1(x)\n",
    "        x = self.act1(x)\n",
    "        x = self.fc2(x)\n",
    "        x = self.act2(x)\n",
    "        x = self.fc3(x)\n",
    "        \n",
    "        return x"
   ]
  },
  {
   "cell_type": "code",
   "execution_count": 22,
   "id": "8aefe739",
   "metadata": {},
   "outputs": [],
   "source": [
    "n_in_neurons = X_train.shape[1]\n",
    "n_hidden_neurons_1 = 15\n",
    "n_hidden_neurons_2 = 10\n",
    "n_out_neurons = 1\n",
    "\n",
    "net = Net(n_in_neurons, n_hidden_neurons_1, n_hidden_neurons_2, n_out_neurons)\n",
    "optimizer = torch.optim.Adam(net.parameters(), lr=1e-3)\n",
    "loss = nn.MSELoss()"
   ]
  },
  {
   "cell_type": "code",
   "execution_count": 23,
   "id": "2f912183",
   "metadata": {},
   "outputs": [],
   "source": [
    "dataset_train = torch.utils.data.TensorDataset(X_train, y_train)\n",
    "dataset_test = torch.utils.data.TensorDataset(X_test, y_test)\n",
    "\n",
    "train_dataloader = DataLoader(dataset_train, batch_size=40, shuffle=True,\n",
    "                              num_workers=0)\n",
    "test_dataloader = DataLoader(dataset_test, batch_size=40, num_workers=0)    "
   ]
  },
  {
   "cell_type": "code",
   "execution_count": 24,
   "id": "fcefa6ca",
   "metadata": {},
   "outputs": [],
   "source": [
    "class CustomEarlyStopping():\n",
    "    \"\"\"\n",
    "    Ранняя остановка, чтобы остановить тренировку, когда потеря не улучшается после определенной эпохи.\n",
    "    \"\"\"\n",
    "    def __init__(self, patience=5, min_delta=0):\n",
    "        \"\"\"\n",
    "        :param patience: сколько эпох ждать, прежде чем остановиться, когда потеря не улучшается\n",
    "        :param min_delta: минимальная разница между loss/метриками, если улучшений нет, то остановим обучение\n",
    "        \"\"\"\n",
    "        self.patience = patience\n",
    "        self.min_delta = min_delta\n",
    "        self.counter = 0\n",
    "        self.best_loss = None\n",
    "        self.early_stop = False\n",
    "\n",
    "    def __call__(self, val_loss):\n",
    "        if self.best_loss == None:\n",
    "            self.best_loss = val_loss\n",
    "        elif self.best_loss - val_loss > self.min_delta:\n",
    "            self.best_loss = val_loss\n",
    "            # reset counter if validation loss improves\n",
    "            self.counter = 0\n",
    "        elif self.best_loss - val_loss < self.min_delta:\n",
    "            self.counter += 1\n",
    "            print(f\"INFO: Early stopping counter {self.counter} of {self.patience}\")\n",
    "            if self.counter >= self.patience:\n",
    "                print('INFO: Early stopping')\n",
    "                self.early_stop = True"
   ]
  },
  {
   "cell_type": "code",
   "execution_count": 25,
   "id": "6471d05e",
   "metadata": {},
   "outputs": [
    {
     "name": "stdout",
     "output_type": "stream",
     "text": [
      "epoch:0, RMSE test: 15201.181640625\n",
      "epoch:200, RMSE test: 13560.34375\n",
      "epoch:400, RMSE test: 8527.576171875\n",
      "epoch:600, RMSE test: 7465.13134765625\n",
      "epoch:800, RMSE test: 6872.0732421875\n",
      "epoch:1000, RMSE test: 6331.0703125\n",
      "epoch:1200, RMSE test: 5903.1708984375\n",
      "epoch:1400, RMSE test: 5609.74951171875\n",
      "epoch:1600, RMSE test: 5423.283203125\n",
      "epoch:1800, RMSE test: 5311.35009765625\n",
      "epoch:2000, RMSE test: 5230.94580078125\n",
      "epoch:2200, RMSE test: 5167.61767578125\n",
      "epoch:2400, RMSE test: 5111.56689453125\n",
      "epoch:2600, RMSE test: 5051.564453125\n",
      "epoch:2800, RMSE test: 5010.1240234375\n",
      "epoch:3000, RMSE test: 4963.41748046875\n",
      "epoch:3200, RMSE test: 4929.08984375\n",
      "epoch:3400, RMSE test: 4907.66259765625\n",
      "epoch:3600, RMSE test: 4882.1923828125\n",
      "epoch:3800, RMSE test: 4851.98681640625\n",
      "INFO: Early stopping counter 1 of 5\n",
      "epoch:4000, RMSE test: 4835.9892578125\n",
      "epoch:4200, RMSE test: 4825.44873046875\n",
      "INFO: Early stopping counter 1 of 5\n",
      "epoch:4400, RMSE test: 4810.1787109375\n",
      "epoch:4600, RMSE test: 4798.55859375\n",
      "INFO: Early stopping counter 1 of 5\n",
      "epoch:4800, RMSE test: 4782.2587890625\n",
      "epoch:5000, RMSE test: 4772.19287109375\n",
      "INFO: Early stopping counter 1 of 5\n",
      "epoch:5200, RMSE test: 4752.73876953125\n",
      "INFO: Early stopping counter 2 of 5\n",
      "epoch:5400, RMSE test: 4756.4892578125\n",
      "epoch:5600, RMSE test: 4739.900390625\n",
      "INFO: Early stopping counter 1 of 5\n",
      "epoch:5800, RMSE test: 4724.921875\n",
      "epoch:6000, RMSE test: 4718.56494140625\n",
      "INFO: Early stopping counter 1 of 5\n",
      "epoch:6200, RMSE test: 4710.68798828125\n",
      "INFO: Early stopping counter 2 of 5\n",
      "epoch:6400, RMSE test: 4705.71337890625\n",
      "epoch:6600, RMSE test: 4697.7646484375\n",
      "INFO: Early stopping counter 1 of 5\n",
      "epoch:6800, RMSE test: 4703.1298828125\n",
      "INFO: Early stopping counter 2 of 5\n",
      "epoch:7000, RMSE test: 4691.8134765625\n",
      "INFO: Early stopping counter 3 of 5\n",
      "epoch:7200, RMSE test: 4695.25732421875\n",
      "epoch:7400, RMSE test: 4672.3134765625\n",
      "INFO: Early stopping counter 1 of 5\n",
      "epoch:7600, RMSE test: 4680.86865234375\n",
      "INFO: Early stopping counter 2 of 5\n",
      "epoch:7800, RMSE test: 4663.73828125\n",
      "INFO: Early stopping counter 3 of 5\n",
      "epoch:8000, RMSE test: 4669.7001953125\n",
      "INFO: Early stopping counter 4 of 5\n",
      "epoch:8200, RMSE test: 4658.00048828125\n",
      "INFO: Early stopping counter 5 of 5\n",
      "INFO: Early stopping\n",
      "epoch:8400, RMSE test: 4656.51025390625\n",
      "Early Stoppning!!!\n",
      "Best RMSE test 4672.3134765625\n"
     ]
    }
   ],
   "source": [
    "# Обучим нейросеть\n",
    "early_stopping = CustomEarlyStopping(patience=5, min_delta=20)\n",
    "\n",
    "num_epochs = 100001\n",
    "for epoch in range(num_epochs):\n",
    "    net.train()\n",
    "    for batch in train_dataloader:\n",
    "        data_train, temperature_train = batch # просто выгружаем данные \n",
    "        optimizer.zero_grad()\n",
    "\n",
    "        preds = net.forward(data_train).flatten()\n",
    "\n",
    "        loss_value = torch.sqrt(loss(preds, temperature_train))\n",
    "        loss_value.backward()\n",
    "        optimizer.step()\n",
    "    \n",
    "    if epoch % 200 == 0:\n",
    "        predicted_temp = [] \n",
    "        with torch.no_grad():\n",
    "            net.eval()\n",
    "            for batch in test_dataloader:\n",
    "                data_test, temperature_test = batch # просто выгружаем данные\n",
    "\n",
    "                test_preds = net.forward(data_test).flatten()\n",
    "                predicted_temp.append(test_preds)\n",
    "                RMSE_loss = torch.sqrt(loss(test_preds, temperature_test))\n",
    "\n",
    "        predicted_temp = torch.cat(predicted_temp).detach().numpy()\n",
    "        RMSE = mean_squared_error(y_test, predicted_temp, squared=False)\n",
    "        early_stopping(RMSE)\n",
    "        if early_stopping.counter == 0:\n",
    "            best_rmse = RMSE\n",
    "            best_predicted_temp = predicted_temp\n",
    "        print(f\"epoch:{epoch}, RMSE test: {RMSE}\")\n",
    "\n",
    "        if early_stopping.early_stop:\n",
    "            print('Early Stoppning!!!')\n",
    "            print(f'Best RMSE test {best_rmse}')\n",
    "            break "
   ]
  },
  {
   "cell_type": "code",
   "execution_count": 26,
   "id": "94e5c716",
   "metadata": {},
   "outputs": [],
   "source": [
    "def train_model(net, optimizer, loss, num_epochs, train_dataloader, test_dataloader, early_stopping_patience=5, min_delta=20):\n",
    "    early_stopping = CustomEarlyStopping(patience=early_stopping_patience, min_delta=min_delta)\n",
    "    val_loss = []\n",
    "    train_loss = []\n",
    "\n",
    "    for epoch in range(num_epochs):\n",
    "        net.train()\n",
    "        train_loss_batches = []\n",
    "        for batch in train_dataloader:\n",
    "            data_train, temperature_train = batch\n",
    "            optimizer.zero_grad()\n",
    "\n",
    "            preds = net.forward(data_train).flatten()\n",
    "\n",
    "            loss_value = torch.sqrt(loss(preds, temperature_train))\n",
    "\n",
    "            loss_value.backward()\n",
    "            optimizer.step()\n",
    "\n",
    "            loss_value = loss_value.detach().numpy().reshape([-1])\n",
    "            train_loss_batches.append(loss_value)\n",
    "\n",
    "        if epoch % 200 == 0:\n",
    "            predicted_temp = []\n",
    "            with torch.no_grad():\n",
    "                net.eval()\n",
    "                for batch in test_dataloader:\n",
    "                    data_test, temperature_test = batch\n",
    "\n",
    "                    test_preds = net.forward(data_test).flatten()\n",
    "                    predicted_temp.append(test_preds)\n",
    "                    RMSE_loss = torch.sqrt(loss(test_preds, temperature_test))\n",
    "\n",
    "            predicted_temp = torch.cat(predicted_temp).detach().numpy()\n",
    "            RMSE = mean_squared_error(y_test, predicted_temp, squared=False)\n",
    "\n",
    "            early_stopping(RMSE)\n",
    "            if early_stopping.counter == 0:\n",
    "                best_rmse = RMSE\n",
    "                best_predicted_temp = predicted_temp\n",
    "                val_loss.append(best_rmse)\n",
    "                train_loss.append(np.mean(train_loss_batches))\n",
    "            print(f\"epoch:{epoch}, RMSE test: {RMSE}\")\n",
    "\n",
    "            if early_stopping.early_stop:\n",
    "                print('Early Stoppning!!!')\n",
    "                print(f'Best RMSE test {best_rmse}')\n",
    "                break\n",
    "\n",
    "    return net, {'train_loss': train_loss, 'val_loss': val_loss}"
   ]
  },
  {
   "cell_type": "code",
   "execution_count": 27,
   "id": "9b16fcc4",
   "metadata": {},
   "outputs": [],
   "source": [
    "def fact_forecast(test_preds, y_test):\n",
    "    \n",
    "    '''Функция для визуализации качества регрессии \"Факт-прогноз\"'''\n",
    "    \n",
    "    y1 = torch.FloatTensor(test_preds)\n",
    "    y1 = y1.detach().numpy().reshape([-1])\n",
    "    y2 = y_test.detach().numpy().reshape([-1])\n",
    "    x = np.arange(len(y1))\n",
    "\n",
    "    fig,ax = plt.subplots()\n",
    "    fig.set_figwidth(18)\n",
    "    fig.set_figheight(8)\n",
    "    ax.set_xticks(x)\n",
    "    fact = ax.bar(x, y2, width = 0.6, label = 'Факт')\n",
    "    forecast = ax.bar(x, y1, width = 0.3, label = 'Прогноз')\n",
    "    ax.legend()\n",
    "    ax.set_title('График \"Факт-прогноз\"', fontsize=20)\n",
    "    ax.set_xlabel('Номер звезды')\n",
    "    ax.set_ylabel('Температура звезды')\n",
    "    plt.show()"
   ]
  },
  {
   "cell_type": "code",
   "execution_count": 28,
   "id": "602192f3",
   "metadata": {},
   "outputs": [
    {
     "data": {
      "image/png": "[encoded data removed]",
      "text/plain": [
       "<Figure size 1296x576 with 1 Axes>"
      ]
     },
     "metadata": {
      "needs_background": "light"
     },
     "output_type": "display_data"
    }
   ],
   "source": [
    "# Визуализируем полученные значения\n",
    "fact_forecast(predicted_temp, y_test)"
   ]
  },
  {
   "cell_type": "markdown",
   "id": "aa48b961",
   "metadata": {},
   "source": [
    "### Вывод"
   ]
  },
  {
   "cell_type": "markdown",
   "id": "04c64a56",
   "metadata": {},
   "source": [
    "Нам удалось обучить baseline без дополнительных введений и перебора параметров. Лучшая метрика RMSE до начала переобучения равна 4293. Однако, это не лучший результат, которого мы можем добиться, далее будем улучшаять нашу НС. Судя по графику факт-прогноз мы отлично угадываем температуру звёзд с минимальным отклонением до 5000 градусов по Кельвину. Далее алгоритм начинает брать то выше правильного ответа, то ниже, скорее всего это связано с небольшим количеством подобных звёзд в нашей выборке, НС просто не смогла правильно научиться на таком малом количестве данных."
   ]
  },
  {
   "cell_type": "markdown",
   "id": "growing-supply",
   "metadata": {},
   "source": [
    "## Улучшение нейронной сети"
   ]
  },
  {
   "cell_type": "code",
   "execution_count": 29,
   "id": "acceptable-forwarding",
   "metadata": {},
   "outputs": [],
   "source": [
    "n_in_neurons = X_train.shape[1]\n",
    "n_hidden_neurons_1 = 15\n",
    "n_hidden_neurons_2 = 10\n",
    "n_out_neurons = 1\n",
    "\n",
    "net = Net(n_in_neurons, n_hidden_neurons_1, n_hidden_neurons_2, n_out_neurons)\n",
    "optimizer1 = torch.optim.Adam(net.parameters(), lr=1e-3)\n",
    "optimizer2 = torch.optim.NAdam(net.parameters(), lr=1e-2)\n",
    "optimizer3 = torch.optim.Adamax(net.parameters(), lr=1e-2)\n",
    "optimizer4 = torch.optim.Adamax(net.parameters(), lr=1e-3)\n",
    "optimizer5 = torch.optim.Adam(net.parameters(), lr=1e-2)\n",
    "\n",
    "optimizers = [optimizer1, optimizer2, optimizer3, optimizer4, optimizer5]\n"
   ]
  },
  {
   "cell_type": "code",
   "execution_count": 30,
   "id": "71cc30aa",
   "metadata": {},
   "outputs": [
    {
     "name": "stdout",
     "output_type": "stream",
     "text": [
      "Adam (\n",
      "Parameter Group 0\n",
      "    amsgrad: False\n",
      "    betas: (0.9, 0.999)\n",
      "    eps: 1e-08\n",
      "    lr: 0.001\n",
      "    weight_decay: 0\n",
      ")\n",
      "\n",
      "epoch:0, RMSE test: 15201.185546875\n",
      "epoch:200, RMSE test: 13631.9462890625\n",
      "epoch:400, RMSE test: 8728.2900390625\n",
      "epoch:600, RMSE test: 7535.23291015625\n",
      "epoch:800, RMSE test: 6965.53564453125\n",
      "epoch:1000, RMSE test: 6426.60302734375\n",
      "epoch:1200, RMSE test: 5980.71826171875\n",
      "epoch:1400, RMSE test: 5659.8232421875\n",
      "epoch:1600, RMSE test: 5456.435546875\n",
      "epoch:1800, RMSE test: 5331.64892578125\n",
      "epoch:2000, RMSE test: 5238.52197265625\n",
      "epoch:2200, RMSE test: 5169.490234375\n",
      "epoch:2400, RMSE test: 5115.63525390625\n",
      "epoch:2600, RMSE test: 5067.60595703125\n",
      "epoch:2800, RMSE test: 5032.19482421875\n",
      "epoch:3000, RMSE test: 4998.47900390625\n",
      "epoch:3200, RMSE test: 4969.1025390625\n",
      "epoch:3400, RMSE test: 4941.85888671875\n",
      "epoch:3600, RMSE test: 4911.9658203125\n",
      "epoch:3800, RMSE test: 4891.8759765625\n",
      "INFO: Early stopping counter 1 of 5\n",
      "epoch:4000, RMSE test: 4872.91552734375\n",
      "epoch:4200, RMSE test: 4849.919921875\n",
      "epoch:4400, RMSE test: 4829.47265625\n",
      "INFO: Early stopping counter 1 of 5\n",
      "epoch:4600, RMSE test: 4814.1083984375\n",
      "epoch:4800, RMSE test: 4802.9638671875\n",
      "INFO: Early stopping counter 1 of 5\n",
      "epoch:5000, RMSE test: 4788.79931640625\n",
      "epoch:5200, RMSE test: 4773.248046875\n",
      "INFO: Early stopping counter 1 of 5\n",
      "epoch:5400, RMSE test: 4763.40234375\n",
      "INFO: Early stopping counter 2 of 5\n",
      "epoch:5600, RMSE test: 4757.9267578125\n",
      "epoch:5800, RMSE test: 4741.666015625\n",
      "INFO: Early stopping counter 1 of 5\n",
      "epoch:6000, RMSE test: 4733.150390625\n",
      "INFO: Early stopping counter 2 of 5\n",
      "epoch:6200, RMSE test: 4721.73388671875\n",
      "epoch:6400, RMSE test: 4721.560546875\n",
      "INFO: Early stopping counter 1 of 5\n",
      "epoch:6600, RMSE test: 4702.2177734375\n",
      "INFO: Early stopping counter 2 of 5\n",
      "epoch:6800, RMSE test: 4706.54931640625\n",
      "epoch:7000, RMSE test: 4693.2802734375\n",
      "INFO: Early stopping counter 1 of 5\n",
      "epoch:7200, RMSE test: 4686.2373046875\n",
      "INFO: Early stopping counter 2 of 5\n",
      "epoch:7400, RMSE test: 4679.6748046875\n",
      "INFO: Early stopping counter 3 of 5\n",
      "epoch:7600, RMSE test: 4682.5361328125\n",
      "epoch:7800, RMSE test: 4665.84375\n",
      "INFO: Early stopping counter 1 of 5\n",
      "epoch:8000, RMSE test: 4666.28076171875\n",
      "INFO: Early stopping counter 2 of 5\n",
      "epoch:8200, RMSE test: 4663.09423828125\n",
      "INFO: Early stopping counter 3 of 5\n",
      "epoch:8400, RMSE test: 4668.27490234375\n",
      "INFO: Early stopping counter 4 of 5\n",
      "epoch:8600, RMSE test: 4653.1376953125\n",
      "INFO: Early stopping counter 5 of 5\n",
      "INFO: Early stopping\n",
      "epoch:8800, RMSE test: 4654.57568359375\n",
      "Early Stoppning!!!\n",
      "Best RMSE test 4665.84375\n",
      "NAdam (\n",
      "Parameter Group 0\n",
      "    betas: (0.9, 0.999)\n",
      "    eps: 1e-08\n",
      "    lr: 0.01\n",
      "    momentum_decay: 0.004\n",
      "    weight_decay: 0\n",
      ")\n",
      "\n",
      "epoch:0, RMSE test: 4647.40771484375\n",
      "epoch:200, RMSE test: 4556.1083984375\n",
      "epoch:400, RMSE test: 4466.69384765625\n",
      "INFO: Early stopping counter 1 of 5\n",
      "epoch:600, RMSE test: 4476.5810546875\n",
      "INFO: Early stopping counter 2 of 5\n",
      "epoch:800, RMSE test: 4503.3662109375\n",
      "INFO: Early stopping counter 3 of 5\n",
      "epoch:1000, RMSE test: 4739.59912109375\n",
      "INFO: Early stopping counter 4 of 5\n",
      "epoch:1200, RMSE test: 4873.197265625\n",
      "INFO: Early stopping counter 5 of 5\n",
      "INFO: Early stopping\n",
      "epoch:1400, RMSE test: 5079.8828125\n",
      "Early Stoppning!!!\n",
      "Best RMSE test 4466.69384765625\n",
      "Adamax (\n",
      "Parameter Group 0\n",
      "    betas: (0.9, 0.999)\n",
      "    eps: 1e-08\n",
      "    lr: 0.01\n",
      "    weight_decay: 0\n",
      ")\n",
      "\n",
      "epoch:0, RMSE test: 5074.51611328125\n",
      "INFO: Early stopping counter 1 of 5\n",
      "epoch:200, RMSE test: 5166.0166015625\n",
      "INFO: Early stopping counter 2 of 5\n",
      "epoch:400, RMSE test: 5274.90673828125\n",
      "INFO: Early stopping counter 3 of 5\n",
      "epoch:600, RMSE test: 5316.45947265625\n",
      "INFO: Early stopping counter 4 of 5\n",
      "epoch:800, RMSE test: 5347.2490234375\n",
      "INFO: Early stopping counter 5 of 5\n",
      "INFO: Early stopping\n",
      "epoch:1000, RMSE test: 5383.1904296875\n",
      "Early Stoppning!!!\n",
      "Best RMSE test 5074.51611328125\n",
      "Adamax (\n",
      "Parameter Group 0\n",
      "    betas: (0.9, 0.999)\n",
      "    eps: 1e-08\n",
      "    lr: 0.001\n",
      "    weight_decay: 0\n",
      ")\n",
      "\n",
      "epoch:0, RMSE test: 5375.69580078125\n",
      "INFO: Early stopping counter 1 of 5\n",
      "epoch:200, RMSE test: 5373.4521484375\n",
      "epoch:400, RMSE test: 5343.7236328125\n",
      "INFO: Early stopping counter 1 of 5\n",
      "epoch:600, RMSE test: 5347.015625\n",
      "INFO: Early stopping counter 2 of 5\n",
      "epoch:800, RMSE test: 5329.18359375\n",
      "epoch:1000, RMSE test: 5321.17822265625\n",
      "INFO: Early stopping counter 1 of 5\n",
      "epoch:1200, RMSE test: 5313.5966796875\n",
      "epoch:1400, RMSE test: 5300.05712890625\n",
      "INFO: Early stopping counter 1 of 5\n",
      "epoch:1600, RMSE test: 5290.9091796875\n",
      "INFO: Early stopping counter 2 of 5\n",
      "epoch:1800, RMSE test: 5297.7763671875\n",
      "epoch:2000, RMSE test: 5271.2685546875\n",
      "INFO: Early stopping counter 1 of 5\n",
      "epoch:2200, RMSE test: 5277.5419921875\n",
      "INFO: Early stopping counter 2 of 5\n",
      "epoch:2400, RMSE test: 5285.923828125\n",
      "INFO: Early stopping counter 3 of 5\n",
      "epoch:2600, RMSE test: 5280.7646484375\n",
      "INFO: Early stopping counter 4 of 5\n",
      "epoch:2800, RMSE test: 5277.61865234375\n",
      "INFO: Early stopping counter 5 of 5\n",
      "INFO: Early stopping\n",
      "epoch:3000, RMSE test: 5283.9921875\n",
      "Early Stoppning!!!\n",
      "Best RMSE test 5271.2685546875\n",
      "Adam (\n",
      "Parameter Group 0\n",
      "    amsgrad: False\n",
      "    betas: (0.9, 0.999)\n",
      "    eps: 1e-08\n",
      "    lr: 0.01\n",
      "    weight_decay: 0\n",
      ")\n",
      "\n",
      "epoch:0, RMSE test: 5271.7314453125\n",
      "epoch:200, RMSE test: 5128.5107421875\n",
      "INFO: Early stopping counter 1 of 5\n",
      "epoch:400, RMSE test: 5257.4248046875\n",
      "INFO: Early stopping counter 2 of 5\n",
      "epoch:600, RMSE test: 5133.58349609375\n",
      "INFO: Early stopping counter 3 of 5\n",
      "epoch:800, RMSE test: 5271.1220703125\n",
      "INFO: Early stopping counter 4 of 5\n",
      "epoch:1000, RMSE test: 5194.58251953125\n",
      "INFO: Early stopping counter 5 of 5\n",
      "INFO: Early stopping\n",
      "epoch:1200, RMSE test: 5219.98046875\n",
      "Early Stoppning!!!\n",
      "Best RMSE test 5128.5107421875\n"
     ]
    }
   ],
   "source": [
    "rmse_optimizers = []\n",
    "for optimizer in optimizers:\n",
    "    print(optimizer)\n",
    "    print()\n",
    "\n",
    "    early_stopping = CustomEarlyStopping(patience=5, min_delta=20)\n",
    "\n",
    "    num_epochs = 100001\n",
    "    for epoch in range(num_epochs):\n",
    "        net.train()\n",
    "        for batch in train_dataloader:\n",
    "            data_train, temperature_train = batch # просто выгружаем данные \n",
    "            optimizer.zero_grad()\n",
    "\n",
    "            preds = net.forward(data_train).flatten()\n",
    "\n",
    "            loss_value = torch.sqrt(loss(preds, temperature_train))\n",
    "            loss_value.backward()\n",
    "            optimizer.step()\n",
    "\n",
    "        if epoch % 200 == 0:\n",
    "            predicted_temp = [] \n",
    "            with torch.no_grad():\n",
    "                net.eval()\n",
    "                for batch in test_dataloader:\n",
    "                    data_test, temperature_test = batch # просто выгружаем данные\n",
    "\n",
    "                    test_preds = net.forward(data_test).flatten()\n",
    "                    predicted_temp.append(test_preds)\n",
    "                    RMSE_loss = torch.sqrt(loss(test_preds, temperature_test))\n",
    "\n",
    "            predicted_temp = torch.cat(predicted_temp).detach().numpy()\n",
    "            RMSE = mean_squared_error(y_test, predicted_temp, squared=False)\n",
    "            early_stopping(RMSE)\n",
    "            if early_stopping.counter == 0:\n",
    "                best_rmse = RMSE\n",
    "                best_predicted_temp = predicted_temp\n",
    "            print(f\"epoch:{epoch}, RMSE test: {RMSE}\")\n",
    "\n",
    "            if early_stopping.early_stop:\n",
    "                print('Early Stoppning!!!')\n",
    "                print(f'Best RMSE test {best_rmse}')\n",
    "                rmse_optimizers.append(round(best_rmse, 2))\n",
    "                break "
   ]
  },
  {
   "cell_type": "code",
   "execution_count": 31,
   "id": "9bb822c9",
   "metadata": {},
   "outputs": [
    {
     "data": {
      "text/html": [
       "<div>\n",
       "<style scoped>\n",
       "    .dataframe tbody tr th:only-of-type {\n",
       "        vertical-align: middle;\n",
       "    }\n",
       "\n",
       "    .dataframe tbody tr th {\n",
       "        vertical-align: top;\n",
       "    }\n",
       "\n",
       "    .dataframe thead th {\n",
       "        text-align: right;\n",
       "    }\n",
       "</style>\n",
       "<table border=\"1\" class=\"dataframe\">\n",
       "  <thead>\n",
       "    <tr style=\"text-align: right;\">\n",
       "      <th></th>\n",
       "      <th>RMSE</th>\n",
       "    </tr>\n",
       "  </thead>\n",
       "  <tbody>\n",
       "    <tr>\n",
       "      <th>NAdam, lr: 0.01</th>\n",
       "      <td>4466.689941</td>\n",
       "    </tr>\n",
       "    <tr>\n",
       "      <th>Adam, lr: 0.001</th>\n",
       "      <td>4665.839844</td>\n",
       "    </tr>\n",
       "    <tr>\n",
       "      <th>Adamax, lr: 0.01</th>\n",
       "      <td>5074.520020</td>\n",
       "    </tr>\n",
       "    <tr>\n",
       "      <th>Adam, lr: 0.01</th>\n",
       "      <td>5128.509766</td>\n",
       "    </tr>\n",
       "    <tr>\n",
       "      <th>Adamax, lr: 0.001</th>\n",
       "      <td>5271.270020</td>\n",
       "    </tr>\n",
       "  </tbody>\n",
       "</table>\n",
       "</div>"
      ],
      "text/plain": [
       "                          RMSE\n",
       "NAdam, lr: 0.01    4466.689941\n",
       "Adam, lr: 0.001    4665.839844\n",
       "Adamax, lr: 0.01   5074.520020\n",
       "Adam, lr: 0.01     5128.509766\n",
       "Adamax, lr: 0.001  5271.270020"
      ]
     },
     "metadata": {},
     "output_type": "display_data"
    }
   ],
   "source": [
    "optimizers_rmse = pd.DataFrame(data = rmse_optimizers, index = ['Adam, lr: 0.001',\n",
    "                                                                'NAdam, lr: 0.01',\n",
    "                                                                'Adamax, lr: 0.01',\n",
    "                                                                'Adamax, lr: 0.001',\n",
    "                                                                'Adam, lr: 0.01'], columns = ['RMSE'])\n",
    "display(optimizers_rmse.sort_values(by='RMSE'))"
   ]
  },
  {
   "cell_type": "code",
   "execution_count": 32,
   "id": "8ffcd1fa",
   "metadata": {},
   "outputs": [],
   "source": [
    "# Добавим регуляризацию на лучшем оптимизаторе\n",
    "\n",
    "#class Net(nn.Module):\n",
    " #   def __init__(self, n_in_neurons, n_hidden_neurons_1, n_hidden_neurons_2, n_out_neurons):\n",
    "  #          super(Net, self).__init__()\n",
    "            \n",
    "   #         self.fc1 = nn.Linear(n_in_neurons, n_hidden_neurons_1)\n",
    "    #        self.bn1 = nn.BatchNorm1d(n_hidden_neurons_1)\n",
    "     #       self.act1 = nn.ReLU()\n",
    "      #      self.dp2 = nn.Dropout(p=0.5)\n",
    "       #     self.fc2 = nn.Linear(n_hidden_neurons_1, n_hidden_neurons_2)\n",
    "        #    self.act2 = nn.ReLU()\n",
    "         #   self.fc3 = nn.Linear(n_hidden_neurons_2, n_out_neurons)\n",
    "            \n",
    "    #def forward(self, x):\n",
    "     #   x = self.fc1(x)\n",
    "      #  x = self.bn1(x)\n",
    "       # x = self.act1(x)\n",
    "        #x = self.dp2(x)\n",
    "        #x = self.fc2(x)\n",
    "        #self.act2 = nn.ReLU()\n",
    "       # x = self.fc3(x)\n",
    "        \n",
    "        #return x"
   ]
  },
  {
   "cell_type": "code",
   "execution_count": 33,
   "id": "6ff33776",
   "metadata": {},
   "outputs": [],
   "source": [
    "class Net(nn.Module):\n",
    "    def __init__(self, n_in_neurons, n_hidden_neurons_1, n_hidden_neurons_2, n_out_neurons, dropout_p=0.5):\n",
    "            super(Net, self).__init__()\n",
    "            \n",
    "            self.fc1 = nn.Linear(n_in_neurons, n_hidden_neurons_1)\n",
    "            self.bn1 = nn.BatchNorm1d(n_hidden_neurons_1)\n",
    "            self.act1 = nn.ReLU()\n",
    "            self.dp2 = nn.Dropout(p=dropout_p)  # dropout_p здесь\n",
    "            self.fc2 = nn.Linear(n_hidden_neurons_1, n_hidden_neurons_2)\n",
    "            self.act2 = nn.ReLU()\n",
    "            self.fc3 = nn.Linear(n_hidden_neurons_2, n_out_neurons)\n",
    "            \n",
    "    def forward(self, x):\n",
    "        x = self.fc1(x)\n",
    "        x = self.bn1(x)\n",
    "        x = self.act1(x)\n",
    "        x = self.dp2(x)\n",
    "        x = self.fc2(x)\n",
    "        x = self.act2(x)\n",
    "        x = self.fc3(x)\n",
    "        \n",
    "        return x"
   ]
  },
  {
   "cell_type": "code",
   "execution_count": 34,
   "id": "a9be1f16",
   "metadata": {},
   "outputs": [],
   "source": [
    "n_in_neurons = X_train.shape[1]\n",
    "n_hidden_neurons_1 = 15\n",
    "n_hidden_neurons_2 = 10\n",
    "n_out_neurons = 1\n",
    "\n",
    "net = Net(n_in_neurons, n_hidden_neurons_1, n_hidden_neurons_2, n_out_neurons)\n",
    "optimizer = torch.optim.NAdam(net.parameters(), lr=1e-2)\n",
    "loss = nn.MSELoss()"
   ]
  },
  {
   "cell_type": "code",
   "execution_count": 35,
   "id": "4e186fb5",
   "metadata": {},
   "outputs": [],
   "source": [
    "dataset_train = torch.utils.data.TensorDataset(X_train, y_train)\n",
    "dataset_test = torch.utils.data.TensorDataset(X_test, y_test)\n",
    "\n",
    "train_dataloader = DataLoader(dataset_train, batch_size=40, shuffle=True,\n",
    "                              num_workers=0)\n",
    "test_dataloader = DataLoader(dataset_test, batch_size=40, num_workers=0)  "
   ]
  },
  {
   "cell_type": "code",
   "execution_count": 36,
   "id": "b7651a8c",
   "metadata": {},
   "outputs": [],
   "source": [
    "def train_model_and_get_losses(net, optimizer, loss, num_epochs, train_dataloader, test_dataloader):\n",
    "    early_stopping = CustomEarlyStopping(patience=5, min_delta=20)\n",
    "    val_loss = []\n",
    "    train_loss = []\n",
    "\n",
    "    for epoch in range(num_epochs):\n",
    "        net.train()\n",
    "        train_loss_batches = []\n",
    "        for batch in train_dataloader:\n",
    "            data_train, temperature_train = batch\n",
    "            optimizer.zero_grad()\n",
    "\n",
    "            preds = net.forward(data_train).flatten()\n",
    "\n",
    "            loss_value = torch.sqrt(loss(preds, temperature_train))\n",
    "            loss_value.backward()\n",
    "            optimizer.step()\n",
    "            loss_value = loss_value.detach().numpy().reshape([-1])\n",
    "            train_loss_batches.append(loss_value)\n",
    "\n",
    "        if epoch % 200 == 0:\n",
    "            predicted_temp = []\n",
    "            with torch.no_grad():\n",
    "                net.eval()\n",
    "                for batch in test_dataloader:\n",
    "                    data_test, temperature_test = batch\n",
    "\n",
    "                    test_preds = net.forward(data_test).flatten()\n",
    "                    predicted_temp.append(test_preds)\n",
    "\n",
    "            predicted_temp = torch.cat(predicted_temp).detach().numpy()\n",
    "            RMSE = mean_squared_error(y_test, predicted_temp, squared=False)\n",
    "            early_stopping(RMSE)\n",
    "            if early_stopping.counter == 0:\n",
    "                best_rmse = RMSE\n",
    "                best_predicted_temp = predicted_temp\n",
    "                val_loss.append(best_rmse)\n",
    "                train_loss.append(np.mean(train_loss_batches))\n",
    "            print(f\"epoch:{epoch}, RMSE test: {RMSE}\")\n",
    "\n",
    "            if early_stopping.early_stop:\n",
    "                print('Early Stoppning!!!')\n",
    "                print(f'Best RMSE test {best_rmse}')\n",
    "                break \n",
    "\n",
    "    return val_loss, train_loss"
   ]
  },
  {
   "cell_type": "code",
   "execution_count": 37,
   "id": "18162f18",
   "metadata": {},
   "outputs": [
    {
     "name": "stdout",
     "output_type": "stream",
     "text": [
      "epoch:0, RMSE test: 15200.927734375\n",
      "epoch:200, RMSE test: 4600.4267578125\n",
      "epoch:400, RMSE test: 4400.99072265625\n",
      "epoch:600, RMSE test: 4316.5732421875\n",
      "epoch:800, RMSE test: 4291.80859375\n",
      "epoch:1000, RMSE test: 4185.51611328125\n",
      "epoch:1200, RMSE test: 4156.2353515625\n",
      "INFO: Early stopping counter 1 of 5\n",
      "epoch:1400, RMSE test: 4402.15576171875\n",
      "INFO: Early stopping counter 2 of 5\n",
      "epoch:1600, RMSE test: 4281.6708984375\n",
      "INFO: Early stopping counter 3 of 5\n",
      "epoch:1800, RMSE test: 4197.8525390625\n",
      "INFO: Early stopping counter 4 of 5\n",
      "epoch:2000, RMSE test: 4496.56591796875\n",
      "INFO: Early stopping counter 5 of 5\n",
      "INFO: Early stopping\n",
      "epoch:2200, RMSE test: 4755.69287109375\n",
      "Early Stoppning!!!\n",
      "Best RMSE test 4156.2353515625\n"
     ]
    }
   ],
   "source": [
    "val_loss, train_loss = train_model_and_get_losses(net, optimizer, loss, num_epochs, train_dataloader, test_dataloader)"
   ]
  },
  {
   "cell_type": "code",
   "execution_count": 38,
   "id": "19c326d0",
   "metadata": {},
   "outputs": [
    {
     "data": {
      "image/png": "[encoded data removed]",
      "text/plain": [
       "<Figure size 1296x576 with 1 Axes>"
      ]
     },
     "metadata": {
      "needs_background": "light"
     },
     "output_type": "display_data"
    }
   ],
   "source": [
    "fact_forecast(predicted_temp, y_test)"
   ]
  },
  {
   "cell_type": "markdown",
   "id": "a56f6a4d",
   "metadata": {},
   "source": [
    "Эксперемент С Dropout."
   ]
  },
  {
   "cell_type": "code",
   "execution_count": 39,
   "id": "e7bfb5d2",
   "metadata": {},
   "outputs": [],
   "source": [
    "def experiment_with_dropout(dropout_values, train_loader, test_loader, n_in_neurons, n_hidden_neurons_1, n_hidden_neurons_2, n_out_neurons, num_epochs=100001):\n",
    "    results = {}\n",
    "    for dropout_value in dropout_values:\n",
    "        print(f\"Experiment with dropout={dropout_value}:\")\n",
    "        net = Net(n_in_neurons, n_hidden_neurons_1, n_hidden_neurons_2, n_out_neurons, dropout_p=dropout_value)\n",
    "        optimizer = torch.optim.Adam(net.parameters(), lr=1e-3)\n",
    "        loss = nn.MSELoss()\n",
    "        early_stopping = CustomEarlyStopping(patience=5, min_delta=20)\n",
    "        val_loss = []\n",
    "        train_loss = []\n",
    "        for epoch in range(num_epochs):\n",
    "            net.train()\n",
    "            train_loss_batches = []\n",
    "            for data_train, temperature_train in train_loader:\n",
    "                optimizer.zero_grad()\n",
    "                preds = net.forward(data_train).flatten()\n",
    "                loss_value = torch.sqrt(loss(preds, temperature_train))\n",
    "                loss_value.backward()\n",
    "                optimizer.step()\n",
    "                loss_value = loss_value.detach().numpy().reshape([-1])\n",
    "                train_loss_batches.append(loss_value)\n",
    "            if epoch % 200 == 0:\n",
    "                predicted_temp = []\n",
    "                with torch.no_grad():\n",
    "                    net.eval()\n",
    "                    for data_test, temperature_test in test_loader:\n",
    "                        test_preds = net.forward(data_test).flatten()\n",
    "                        predicted_temp.append(test_preds)\n",
    "                predicted_temp = torch.cat(predicted_temp).detach().numpy()\n",
    "                RMSE = mean_squared_error(y_test, predicted_temp, squared=False)\n",
    "                early_stopping(RMSE)\n",
    "                if early_stopping.counter == 0:\n",
    "                    best_rmse = RMSE\n",
    "                    best_predicted_temp = predicted_temp\n",
    "                    val_loss.append(best_rmse)\n",
    "                    train_loss.append(np.mean(train_loss_batches))\n",
    "                print(f\"epoch:{epoch}, RMSE test: {RMSE}\")\n",
    "                print(f\"INFO: Early stopping counter {early_stopping.counter} of {early_stopping.patience}\")\n",
    "                print(f\"epoch:{epoch}, RMSE test: {RMSE}\")\n",
    "                if early_stopping.early_stop:\n",
    "                    print('Early Stoppning!!!')\n",
    "                    print(f'Best RMSE test {best_rmse}')\n",
    "                    break \n",
    "        results[dropout_value] = {'val_loss': val_loss, 'train_loss': train_loss}\n",
    "    return results"
   ]
  },
  {
   "cell_type": "code",
   "execution_count": 40,
   "id": "e8b54577",
   "metadata": {},
   "outputs": [
    {
     "name": "stdout",
     "output_type": "stream",
     "text": [
      "Experiment with dropout=0.4:\n",
      "epoch:0, RMSE test: 15201.138671875\n",
      "INFO: Early stopping counter 0 of 5\n",
      "epoch:0, RMSE test: 15201.138671875\n",
      "epoch:200, RMSE test: 13784.97265625\n",
      "INFO: Early stopping counter 0 of 5\n",
      "epoch:200, RMSE test: 13784.97265625\n",
      "epoch:400, RMSE test: 7182.19384765625\n",
      "INFO: Early stopping counter 0 of 5\n",
      "epoch:400, RMSE test: 7182.19384765625\n",
      "epoch:600, RMSE test: 4746.27685546875\n",
      "INFO: Early stopping counter 0 of 5\n",
      "epoch:600, RMSE test: 4746.27685546875\n",
      "epoch:800, RMSE test: 4685.5546875\n",
      "INFO: Early stopping counter 0 of 5\n",
      "epoch:800, RMSE test: 4685.5546875\n",
      "epoch:1000, RMSE test: 4608.05322265625\n",
      "INFO: Early stopping counter 0 of 5\n",
      "epoch:1000, RMSE test: 4608.05322265625\n",
      "INFO: Early stopping counter 1 of 5\n",
      "epoch:1200, RMSE test: 4635.75830078125\n",
      "INFO: Early stopping counter 1 of 5\n",
      "epoch:1200, RMSE test: 4635.75830078125\n",
      "epoch:1400, RMSE test: 4512.56640625\n",
      "INFO: Early stopping counter 0 of 5\n",
      "epoch:1400, RMSE test: 4512.56640625\n",
      "INFO: Early stopping counter 1 of 5\n",
      "epoch:1600, RMSE test: 4534.77685546875\n",
      "INFO: Early stopping counter 1 of 5\n",
      "epoch:1600, RMSE test: 4534.77685546875\n",
      "INFO: Early stopping counter 2 of 5\n",
      "epoch:1800, RMSE test: 4505.3359375\n",
      "INFO: Early stopping counter 2 of 5\n",
      "epoch:1800, RMSE test: 4505.3359375\n",
      "INFO: Early stopping counter 3 of 5\n",
      "epoch:2000, RMSE test: 4540.66259765625\n",
      "INFO: Early stopping counter 3 of 5\n",
      "epoch:2000, RMSE test: 4540.66259765625\n",
      "INFO: Early stopping counter 4 of 5\n",
      "epoch:2200, RMSE test: 4559.7734375\n",
      "INFO: Early stopping counter 4 of 5\n",
      "epoch:2200, RMSE test: 4559.7734375\n",
      "INFO: Early stopping counter 5 of 5\n",
      "INFO: Early stopping\n",
      "epoch:2400, RMSE test: 4540.45654296875\n",
      "INFO: Early stopping counter 5 of 5\n",
      "epoch:2400, RMSE test: 4540.45654296875\n",
      "Early Stoppning!!!\n",
      "Best RMSE test 4512.56640625\n",
      "Experiment with dropout=0.5:\n",
      "epoch:0, RMSE test: 15201.08984375\n",
      "INFO: Early stopping counter 0 of 5\n",
      "epoch:0, RMSE test: 15201.08984375\n",
      "epoch:200, RMSE test: 14040.0400390625\n",
      "INFO: Early stopping counter 0 of 5\n",
      "epoch:200, RMSE test: 14040.0400390625\n",
      "epoch:400, RMSE test: 8121.03173828125\n",
      "INFO: Early stopping counter 0 of 5\n",
      "epoch:400, RMSE test: 8121.03173828125\n",
      "epoch:600, RMSE test: 4763.3447265625\n",
      "INFO: Early stopping counter 0 of 5\n",
      "epoch:600, RMSE test: 4763.3447265625\n",
      "epoch:800, RMSE test: 4649.6064453125\n",
      "INFO: Early stopping counter 0 of 5\n",
      "epoch:800, RMSE test: 4649.6064453125\n",
      "INFO: Early stopping counter 1 of 5\n",
      "epoch:1000, RMSE test: 4637.4951171875\n",
      "INFO: Early stopping counter 1 of 5\n",
      "epoch:1000, RMSE test: 4637.4951171875\n",
      "INFO: Early stopping counter 2 of 5\n",
      "epoch:1200, RMSE test: 4757.13525390625\n",
      "INFO: Early stopping counter 2 of 5\n",
      "epoch:1200, RMSE test: 4757.13525390625\n",
      "epoch:1400, RMSE test: 4629.501953125\n",
      "INFO: Early stopping counter 0 of 5\n",
      "epoch:1400, RMSE test: 4629.501953125\n",
      "INFO: Early stopping counter 1 of 5\n",
      "epoch:1600, RMSE test: 4739.4345703125\n",
      "INFO: Early stopping counter 1 of 5\n",
      "epoch:1600, RMSE test: 4739.4345703125\n",
      "INFO: Early stopping counter 2 of 5\n",
      "epoch:1800, RMSE test: 4708.93017578125\n",
      "INFO: Early stopping counter 2 of 5\n",
      "epoch:1800, RMSE test: 4708.93017578125\n",
      "epoch:2000, RMSE test: 4600.79296875\n",
      "INFO: Early stopping counter 0 of 5\n",
      "epoch:2000, RMSE test: 4600.79296875\n",
      "INFO: Early stopping counter 1 of 5\n",
      "epoch:2200, RMSE test: 4680.115234375\n",
      "INFO: Early stopping counter 1 of 5\n",
      "epoch:2200, RMSE test: 4680.115234375\n",
      "INFO: Early stopping counter 2 of 5\n",
      "epoch:2400, RMSE test: 4631.0\n",
      "INFO: Early stopping counter 2 of 5\n",
      "epoch:2400, RMSE test: 4631.0\n",
      "epoch:2600, RMSE test: 4554.80712890625\n",
      "INFO: Early stopping counter 0 of 5\n",
      "epoch:2600, RMSE test: 4554.80712890625\n",
      "INFO: Early stopping counter 1 of 5\n",
      "epoch:2800, RMSE test: 4617.8076171875\n",
      "INFO: Early stopping counter 1 of 5\n",
      "epoch:2800, RMSE test: 4617.8076171875\n",
      "INFO: Early stopping counter 2 of 5\n",
      "epoch:3000, RMSE test: 4541.85400390625\n",
      "INFO: Early stopping counter 2 of 5\n",
      "epoch:3000, RMSE test: 4541.85400390625\n",
      "epoch:3200, RMSE test: 4474.69287109375\n",
      "INFO: Early stopping counter 0 of 5\n",
      "epoch:3200, RMSE test: 4474.69287109375\n",
      "INFO: Early stopping counter 1 of 5\n",
      "epoch:3400, RMSE test: 4607.61279296875\n",
      "INFO: Early stopping counter 1 of 5\n",
      "epoch:3400, RMSE test: 4607.61279296875\n",
      "INFO: Early stopping counter 2 of 5\n",
      "epoch:3600, RMSE test: 4596.97509765625\n",
      "INFO: Early stopping counter 2 of 5\n",
      "epoch:3600, RMSE test: 4596.97509765625\n",
      "INFO: Early stopping counter 3 of 5\n",
      "epoch:3800, RMSE test: 4589.9365234375\n",
      "INFO: Early stopping counter 3 of 5\n",
      "epoch:3800, RMSE test: 4589.9365234375\n",
      "INFO: Early stopping counter 4 of 5\n",
      "epoch:4000, RMSE test: 4548.62353515625\n",
      "INFO: Early stopping counter 4 of 5\n",
      "epoch:4000, RMSE test: 4548.62353515625\n",
      "INFO: Early stopping counter 5 of 5\n",
      "INFO: Early stopping\n",
      "epoch:4200, RMSE test: 4564.2822265625\n",
      "INFO: Early stopping counter 5 of 5\n",
      "epoch:4200, RMSE test: 4564.2822265625\n",
      "Early Stoppning!!!\n",
      "Best RMSE test 4474.69287109375\n",
      "Experiment with dropout=0.6:\n",
      "epoch:0, RMSE test: 15201.3974609375\n",
      "INFO: Early stopping counter 0 of 5\n",
      "epoch:0, RMSE test: 15201.3974609375\n",
      "epoch:200, RMSE test: 14137.71484375\n",
      "INFO: Early stopping counter 0 of 5\n",
      "epoch:200, RMSE test: 14137.71484375\n",
      "epoch:400, RMSE test: 9031.462890625\n",
      "INFO: Early stopping counter 0 of 5\n",
      "epoch:400, RMSE test: 9031.462890625\n",
      "epoch:600, RMSE test: 5034.15771484375\n",
      "INFO: Early stopping counter 0 of 5\n",
      "epoch:600, RMSE test: 5034.15771484375\n",
      "epoch:800, RMSE test: 4832.4375\n",
      "INFO: Early stopping counter 0 of 5\n",
      "epoch:800, RMSE test: 4832.4375\n",
      "epoch:1000, RMSE test: 4801.736328125\n",
      "INFO: Early stopping counter 0 of 5\n",
      "epoch:1000, RMSE test: 4801.736328125\n",
      "epoch:1200, RMSE test: 4767.861328125\n",
      "INFO: Early stopping counter 0 of 5\n",
      "epoch:1200, RMSE test: 4767.861328125\n",
      "epoch:1400, RMSE test: 4693.34130859375\n",
      "INFO: Early stopping counter 0 of 5\n",
      "epoch:1400, RMSE test: 4693.34130859375\n",
      "INFO: Early stopping counter 1 of 5\n",
      "epoch:1600, RMSE test: 4715.8857421875\n",
      "INFO: Early stopping counter 1 of 5\n",
      "epoch:1600, RMSE test: 4715.8857421875\n",
      "INFO: Early stopping counter 2 of 5\n",
      "epoch:1800, RMSE test: 4697.00732421875\n",
      "INFO: Early stopping counter 2 of 5\n",
      "epoch:1800, RMSE test: 4697.00732421875\n",
      "INFO: Early stopping counter 3 of 5\n",
      "epoch:2000, RMSE test: 4760.35107421875\n",
      "INFO: Early stopping counter 3 of 5\n",
      "epoch:2000, RMSE test: 4760.35107421875\n",
      "INFO: Early stopping counter 4 of 5\n",
      "epoch:2200, RMSE test: 4838.32958984375\n",
      "INFO: Early stopping counter 4 of 5\n",
      "epoch:2200, RMSE test: 4838.32958984375\n",
      "INFO: Early stopping counter 5 of 5\n",
      "INFO: Early stopping\n",
      "epoch:2400, RMSE test: 4683.10498046875\n",
      "INFO: Early stopping counter 5 of 5\n",
      "epoch:2400, RMSE test: 4683.10498046875\n",
      "Early Stoppning!!!\n",
      "Best RMSE test 4693.34130859375\n"
     ]
    }
   ],
   "source": [
    "dropout_values = [0.4, 0.5, 0.6]  # Значения dropout, которые мы хотим проверить\n",
    "dropout_results = experiment_with_dropout(dropout_values, train_dataloader, test_dataloader, n_in_neurons, n_hidden_neurons_1, n_hidden_neurons_2, n_out_neurons)"
   ]
  },
  {
   "cell_type": "markdown",
   "id": "f7e3aeae",
   "metadata": {},
   "source": [
    "Эксперемент с батчами."
   ]
  },
  {
   "cell_type": "code",
   "execution_count": 41,
   "id": "03eeda35",
   "metadata": {},
   "outputs": [],
   "source": [
    "#class Net(nn.Module):\n",
    " #      super(Net, self).__init__()\n",
    "        \n",
    "        #self.fc1 = nn.Linear(n_in_neurons, n_hidden_neurons_1)\n",
    "        #self.act1 = nn.ReLU()\n",
    "        #self.fc2 = nn.Linear(n_hidden_neurons_1, n_hidden_neurons_2)\n",
    "        #self.act2 = nn.ReLU()\n",
    "       # self.fc3 = nn.Linear(n_hidden_neurons_2, n_out_neurons)\n",
    "        \n",
    "    #def forward(self, x):\n",
    "        #x = self.fc1(x)\n",
    "        #x = self.act1(x)\n",
    "        #x = self.fc2(x)\n",
    "        #x = self.act2(x)\n",
    "       # x = self.fc3(x)\n",
    "        \n",
    "        #return x\n",
    "\n",
    "    #n_in_neurons = X_train.shape[1]\n",
    "#n_hidden_neurons_1 = 15\n",
    "#n_hidden_neurons_2 = 10\n",
    "#n_out_neurons = 1\n",
    "#batch_sizes = [16, 32, 64, 128, 256]  # Размеры батчей, которые мы хотим проверить\n",
    "\n",
    "# Начнем эксперимент\n",
    "#for batch_size in batch_sizes:\n",
    "    #print(f\"Experiment with batch_size={batch_size}:\")\n",
    "    \n",
    "    # Создадим и сконфигурируем модель\n",
    "   # net = Net(n_in_neurons, n_hidden_neurons_1, n_hidden_neurons_2, n_out_neurons)\n",
    "    #optimizer = torch.optim.Adam(net.parameters(), lr=1e-3)\n",
    "    #loss = nn.MSELoss()\n",
    "    \n",
    "    # Начнем обучение\n",
    "   # early_stopping = CustomEarlyStopping(patience=5, min_delta=20)\n",
    "    #num_epochs = 100001\n",
    "    #val_loss = []\n",
    "   # train_loss = []\n",
    "\n",
    "   # for epoch in range(num_epochs):\n",
    "     #   net.train()\n",
    "      #  train_loss_batches = []\n",
    "     #   for batch in train_dataloader:\n",
    "          #  data_train, temperature_train = batch\n",
    "          #  optimizer.zero_grad()\n",
    "          #  preds = net.forward(data_train).flatten()\n",
    "            #loss_value = torch.sqrt(loss(preds, temperature_train))\n",
    "            #loss_value.backward()\n",
    "            #optimizer.step()\n",
    "            #loss_value = loss_value.detach().numpy().reshape([-1])\n",
    "            #train_loss_batches.append(loss_value)\n",
    "\n",
    "        #if epoch % 200 == 0:\n",
    "          #  predicted_temp = []\n",
    "          #  with torch.no_grad():\n",
    "          #      net.eval()\n",
    "           #     for batch in test_dataloader:\n",
    "             #       data_test, temperature_test = batch\n",
    "             #       test_preds = net.forward(data_test).flatten()\n",
    "              #      predicted_temp.append(test_preds)\n",
    "            #predicted_temp = torch.cat(predicted_temp).detach().numpy()\n",
    "           # RMSE = mean_squared_error(y_test, predicted_temp, squared=False)\n",
    "\n",
    "            #early_stopping(RMSE)\n",
    "            #if early_stopping.counter == 0:\n",
    "                #best_rmse = RMSE\n",
    "                #best_predicted_temp = predicted_temp\n",
    "               # val_loss.append(best_rmse)\n",
    "                #train_loss.append(np.mean(train_loss_batches))\n",
    "            #print(f\"epoch:{epoch}, RMSE test: {RMSE}\")\n",
    "            \n",
    "            # Выводим информацию о ранней остановке и RMSE\n",
    "            #print(f\"INFO: Early stopping counter {early_stopping.counter} of {early_stopping.patience}\")\n",
    "            #print(f\"epoch:{epoch}, RMSE test: {RMSE}\")\n",
    "\n",
    "           # if early_stopping.early_stop:\n",
    "               # print('Early Stoppning!!!')\n",
    "               # print(f'Best RMSE test {best_rmse}')\n",
    "               # break "
   ]
  },
  {
   "cell_type": "code",
   "execution_count": 42,
   "id": "bb0a2f54",
   "metadata": {},
   "outputs": [
    {
     "name": "stdout",
     "output_type": "stream",
     "text": [
      "Experiment with batch_size=16:\n",
      "epoch:0, RMSE test: 15201.3037109375\n",
      "INFO: Early stopping counter 0 of 5\n",
      "epoch:0, RMSE test: 15201.3037109375\n",
      "epoch:200, RMSE test: 8327.8740234375\n",
      "INFO: Early stopping counter 0 of 5\n",
      "epoch:200, RMSE test: 8327.8740234375\n",
      "epoch:400, RMSE test: 7053.55859375\n",
      "INFO: Early stopping counter 0 of 5\n",
      "epoch:400, RMSE test: 7053.55859375\n",
      "epoch:600, RMSE test: 6231.9609375\n",
      "INFO: Early stopping counter 0 of 5\n",
      "epoch:600, RMSE test: 6231.9609375\n",
      "epoch:800, RMSE test: 5734.55419921875\n",
      "INFO: Early stopping counter 0 of 5\n",
      "epoch:800, RMSE test: 5734.55419921875\n",
      "epoch:1000, RMSE test: 5502.177734375\n",
      "INFO: Early stopping counter 0 of 5\n",
      "epoch:1000, RMSE test: 5502.177734375\n",
      "epoch:1200, RMSE test: 5381.1513671875\n",
      "INFO: Early stopping counter 0 of 5\n",
      "epoch:1200, RMSE test: 5381.1513671875\n",
      "epoch:1400, RMSE test: 5260.2802734375\n",
      "INFO: Early stopping counter 0 of 5\n",
      "epoch:1400, RMSE test: 5260.2802734375\n",
      "epoch:1600, RMSE test: 5159.66650390625\n",
      "INFO: Early stopping counter 0 of 5\n",
      "epoch:1600, RMSE test: 5159.66650390625\n",
      "epoch:1800, RMSE test: 5086.54248046875\n",
      "INFO: Early stopping counter 0 of 5\n",
      "epoch:1800, RMSE test: 5086.54248046875\n",
      "epoch:2000, RMSE test: 5032.421875\n",
      "INFO: Early stopping counter 0 of 5\n",
      "epoch:2000, RMSE test: 5032.421875\n",
      "epoch:2200, RMSE test: 4972.88427734375\n",
      "INFO: Early stopping counter 0 of 5\n",
      "epoch:2200, RMSE test: 4972.88427734375\n",
      "epoch:2400, RMSE test: 4919.787109375\n",
      "INFO: Early stopping counter 0 of 5\n",
      "epoch:2400, RMSE test: 4919.787109375\n",
      "epoch:2600, RMSE test: 4890.423828125\n",
      "INFO: Early stopping counter 0 of 5\n",
      "epoch:2600, RMSE test: 4890.423828125\n",
      "epoch:2800, RMSE test: 4855.91845703125\n",
      "INFO: Early stopping counter 0 of 5\n",
      "epoch:2800, RMSE test: 4855.91845703125\n",
      "epoch:3000, RMSE test: 4828.45751953125\n",
      "INFO: Early stopping counter 0 of 5\n",
      "epoch:3000, RMSE test: 4828.45751953125\n",
      "INFO: Early stopping counter 1 of 5\n",
      "epoch:3200, RMSE test: 4810.61962890625\n",
      "INFO: Early stopping counter 1 of 5\n",
      "epoch:3200, RMSE test: 4810.61962890625\n",
      "epoch:3400, RMSE test: 4784.47119140625\n",
      "INFO: Early stopping counter 0 of 5\n",
      "epoch:3400, RMSE test: 4784.47119140625\n",
      "epoch:3600, RMSE test: 4758.98779296875\n",
      "INFO: Early stopping counter 0 of 5\n",
      "epoch:3600, RMSE test: 4758.98779296875\n",
      "INFO: Early stopping counter 1 of 5\n",
      "epoch:3800, RMSE test: 4749.14404296875\n",
      "INFO: Early stopping counter 1 of 5\n",
      "epoch:3800, RMSE test: 4749.14404296875\n",
      "epoch:4000, RMSE test: 4737.98779296875\n",
      "INFO: Early stopping counter 0 of 5\n",
      "epoch:4000, RMSE test: 4737.98779296875\n",
      "INFO: Early stopping counter 1 of 5\n",
      "epoch:4200, RMSE test: 4731.4130859375\n",
      "INFO: Early stopping counter 1 of 5\n",
      "epoch:4200, RMSE test: 4731.4130859375\n",
      "epoch:4400, RMSE test: 4715.74853515625\n",
      "INFO: Early stopping counter 0 of 5\n",
      "epoch:4400, RMSE test: 4715.74853515625\n",
      "INFO: Early stopping counter 1 of 5\n",
      "epoch:4600, RMSE test: 4703.23388671875\n",
      "INFO: Early stopping counter 1 of 5\n",
      "epoch:4600, RMSE test: 4703.23388671875\n",
      "INFO: Early stopping counter 2 of 5\n",
      "epoch:4800, RMSE test: 4698.06591796875\n",
      "INFO: Early stopping counter 2 of 5\n",
      "epoch:4800, RMSE test: 4698.06591796875\n",
      "epoch:5000, RMSE test: 4680.595703125\n",
      "INFO: Early stopping counter 0 of 5\n",
      "epoch:5000, RMSE test: 4680.595703125\n",
      "INFO: Early stopping counter 1 of 5\n",
      "epoch:5200, RMSE test: 4666.8486328125\n",
      "INFO: Early stopping counter 1 of 5\n",
      "epoch:5200, RMSE test: 4666.8486328125\n",
      "INFO: Early stopping counter 2 of 5\n",
      "epoch:5400, RMSE test: 4670.10791015625\n",
      "INFO: Early stopping counter 2 of 5\n",
      "epoch:5400, RMSE test: 4670.10791015625\n",
      "INFO: Early stopping counter 3 of 5\n",
      "epoch:5600, RMSE test: 4668.1044921875\n",
      "INFO: Early stopping counter 3 of 5\n",
      "epoch:5600, RMSE test: 4668.1044921875\n",
      "epoch:5800, RMSE test: 4640.900390625\n",
      "INFO: Early stopping counter 0 of 5\n",
      "epoch:5800, RMSE test: 4640.900390625\n",
      "INFO: Early stopping counter 1 of 5\n",
      "epoch:6000, RMSE test: 4630.87890625\n",
      "INFO: Early stopping counter 1 of 5\n",
      "epoch:6000, RMSE test: 4630.87890625\n",
      "epoch:6200, RMSE test: 4618.8232421875\n",
      "INFO: Early stopping counter 0 of 5\n",
      "epoch:6200, RMSE test: 4618.8232421875\n",
      "epoch:6400, RMSE test: 4598.65869140625\n",
      "INFO: Early stopping counter 0 of 5\n",
      "epoch:6400, RMSE test: 4598.65869140625\n",
      "INFO: Early stopping counter 1 of 5\n",
      "epoch:6600, RMSE test: 4582.2861328125\n",
      "INFO: Early stopping counter 1 of 5\n",
      "epoch:6600, RMSE test: 4582.2861328125\n",
      "epoch:6800, RMSE test: 4543.4794921875\n",
      "INFO: Early stopping counter 0 of 5\n",
      "epoch:6800, RMSE test: 4543.4794921875\n",
      "INFO: Early stopping counter 1 of 5\n",
      "epoch:7000, RMSE test: 4527.51416015625\n",
      "INFO: Early stopping counter 1 of 5\n",
      "epoch:7000, RMSE test: 4527.51416015625\n",
      "epoch:7200, RMSE test: 4497.10595703125\n",
      "INFO: Early stopping counter 0 of 5\n",
      "epoch:7200, RMSE test: 4497.10595703125\n",
      "epoch:7400, RMSE test: 4469.95166015625\n",
      "INFO: Early stopping counter 0 of 5\n",
      "epoch:7400, RMSE test: 4469.95166015625\n",
      "epoch:7600, RMSE test: 4434.02685546875\n",
      "INFO: Early stopping counter 0 of 5\n",
      "epoch:7600, RMSE test: 4434.02685546875\n",
      "INFO: Early stopping counter 1 of 5\n",
      "epoch:7800, RMSE test: 4419.12939453125\n",
      "INFO: Early stopping counter 1 of 5\n",
      "epoch:7800, RMSE test: 4419.12939453125\n",
      "epoch:8000, RMSE test: 4394.09423828125\n",
      "INFO: Early stopping counter 0 of 5\n",
      "epoch:8000, RMSE test: 4394.09423828125\n",
      "INFO: Early stopping counter 1 of 5\n",
      "epoch:8200, RMSE test: 4376.0029296875\n",
      "INFO: Early stopping counter 1 of 5\n",
      "epoch:8200, RMSE test: 4376.0029296875\n",
      "epoch:8400, RMSE test: 4341.6572265625\n",
      "INFO: Early stopping counter 0 of 5\n",
      "epoch:8400, RMSE test: 4341.6572265625\n",
      "INFO: Early stopping counter 1 of 5\n",
      "epoch:8600, RMSE test: 4323.83544921875\n",
      "INFO: Early stopping counter 1 of 5\n",
      "epoch:8600, RMSE test: 4323.83544921875\n",
      "epoch:8800, RMSE test: 4302.21337890625\n",
      "INFO: Early stopping counter 0 of 5\n",
      "epoch:8800, RMSE test: 4302.21337890625\n",
      "epoch:9000, RMSE test: 4280.44140625\n",
      "INFO: Early stopping counter 0 of 5\n",
      "epoch:9000, RMSE test: 4280.44140625\n",
      "INFO: Early stopping counter 1 of 5\n",
      "epoch:9200, RMSE test: 4282.392578125\n",
      "INFO: Early stopping counter 1 of 5\n",
      "epoch:9200, RMSE test: 4282.392578125\n",
      "INFO: Early stopping counter 2 of 5\n",
      "epoch:9400, RMSE test: 4270.763671875\n",
      "INFO: Early stopping counter 2 of 5\n",
      "epoch:9400, RMSE test: 4270.763671875\n",
      "INFO: Early stopping counter 3 of 5\n",
      "epoch:9600, RMSE test: 4285.38623046875\n",
      "INFO: Early stopping counter 3 of 5\n",
      "epoch:9600, RMSE test: 4285.38623046875\n",
      "INFO: Early stopping counter 4 of 5\n",
      "epoch:9800, RMSE test: 4291.4345703125\n",
      "INFO: Early stopping counter 4 of 5\n",
      "epoch:9800, RMSE test: 4291.4345703125\n",
      "INFO: Early stopping counter 5 of 5\n",
      "INFO: Early stopping\n",
      "epoch:10000, RMSE test: 4293.888671875\n",
      "INFO: Early stopping counter 5 of 5\n",
      "epoch:10000, RMSE test: 4293.888671875\n",
      "Early Stoppning!!!\n",
      "Best RMSE test 4280.44140625\n",
      "Experiment with batch_size=64:\n",
      "epoch:0, RMSE test: 15201.3076171875\n",
      "INFO: Early stopping counter 0 of 5\n",
      "epoch:0, RMSE test: 15201.3076171875\n",
      "epoch:200, RMSE test: 14954.412109375\n",
      "INFO: Early stopping counter 0 of 5\n",
      "epoch:200, RMSE test: 14954.412109375\n",
      "epoch:400, RMSE test: 13409.1572265625\n",
      "INFO: Early stopping counter 0 of 5\n",
      "epoch:400, RMSE test: 13409.1572265625\n",
      "epoch:600, RMSE test: 10660.6162109375\n",
      "INFO: Early stopping counter 0 of 5\n",
      "epoch:600, RMSE test: 10660.6162109375\n",
      "epoch:800, RMSE test: 8536.08203125\n",
      "INFO: Early stopping counter 0 of 5\n",
      "epoch:800, RMSE test: 8536.08203125\n",
      "epoch:1000, RMSE test: 7830.54736328125\n",
      "INFO: Early stopping counter 0 of 5\n",
      "epoch:1000, RMSE test: 7830.54736328125\n",
      "epoch:1200, RMSE test: 7473.1982421875\n",
      "INFO: Early stopping counter 0 of 5\n",
      "epoch:1200, RMSE test: 7473.1982421875\n",
      "epoch:1400, RMSE test: 7120.7978515625\n",
      "INFO: Early stopping counter 0 of 5\n",
      "epoch:1400, RMSE test: 7120.7978515625\n",
      "epoch:1600, RMSE test: 6767.94482421875\n",
      "INFO: Early stopping counter 0 of 5\n",
      "epoch:1600, RMSE test: 6767.94482421875\n",
      "epoch:1800, RMSE test: 6434.44287109375\n",
      "INFO: Early stopping counter 0 of 5\n",
      "epoch:1800, RMSE test: 6434.44287109375\n",
      "epoch:2000, RMSE test: 6131.9228515625\n",
      "INFO: Early stopping counter 0 of 5\n",
      "epoch:2000, RMSE test: 6131.9228515625\n",
      "epoch:2200, RMSE test: 5868.48486328125\n",
      "INFO: Early stopping counter 0 of 5\n",
      "epoch:2200, RMSE test: 5868.48486328125\n",
      "epoch:2400, RMSE test: 5652.75634765625\n",
      "INFO: Early stopping counter 0 of 5\n",
      "epoch:2400, RMSE test: 5652.75634765625\n",
      "epoch:2600, RMSE test: 5492.61572265625\n",
      "INFO: Early stopping counter 0 of 5\n",
      "epoch:2600, RMSE test: 5492.61572265625\n",
      "epoch:2800, RMSE test: 5378.13671875\n",
      "INFO: Early stopping counter 0 of 5\n",
      "epoch:2800, RMSE test: 5378.13671875\n",
      "epoch:3000, RMSE test: 5298.95166015625\n",
      "INFO: Early stopping counter 0 of 5\n",
      "epoch:3000, RMSE test: 5298.95166015625\n",
      "epoch:3200, RMSE test: 5244.34521484375\n",
      "INFO: Early stopping counter 0 of 5\n",
      "epoch:3200, RMSE test: 5244.34521484375\n",
      "epoch:3400, RMSE test: 5196.68505859375\n",
      "INFO: Early stopping counter 0 of 5\n",
      "epoch:3400, RMSE test: 5196.68505859375\n",
      "epoch:3600, RMSE test: 5154.826171875\n",
      "INFO: Early stopping counter 0 of 5\n",
      "epoch:3600, RMSE test: 5154.826171875\n",
      "epoch:3800, RMSE test: 5113.61328125\n",
      "INFO: Early stopping counter 0 of 5\n",
      "epoch:3800, RMSE test: 5113.61328125\n",
      "epoch:4000, RMSE test: 5080.89794921875\n",
      "INFO: Early stopping counter 0 of 5\n",
      "epoch:4000, RMSE test: 5080.89794921875\n",
      "epoch:4200, RMSE test: 5046.1630859375\n",
      "INFO: Early stopping counter 0 of 5\n",
      "epoch:4200, RMSE test: 5046.1630859375\n",
      "epoch:4400, RMSE test: 5016.97119140625\n",
      "INFO: Early stopping counter 0 of 5\n",
      "epoch:4400, RMSE test: 5016.97119140625\n",
      "epoch:4600, RMSE test: 4987.458984375\n",
      "INFO: Early stopping counter 0 of 5\n",
      "epoch:4600, RMSE test: 4987.458984375\n",
      "epoch:4800, RMSE test: 4965.01025390625\n",
      "INFO: Early stopping counter 0 of 5\n",
      "epoch:4800, RMSE test: 4965.01025390625\n",
      "INFO: Early stopping counter 1 of 5\n",
      "epoch:5000, RMSE test: 4946.91064453125\n",
      "INFO: Early stopping counter 1 of 5\n",
      "epoch:5000, RMSE test: 4946.91064453125\n",
      "epoch:5200, RMSE test: 4921.99267578125\n",
      "INFO: Early stopping counter 0 of 5\n",
      "epoch:5200, RMSE test: 4921.99267578125\n",
      "INFO: Early stopping counter 1 of 5\n",
      "epoch:5400, RMSE test: 4909.1005859375\n",
      "INFO: Early stopping counter 1 of 5\n",
      "epoch:5400, RMSE test: 4909.1005859375\n",
      "epoch:5600, RMSE test: 4889.68505859375\n",
      "INFO: Early stopping counter 0 of 5\n",
      "epoch:5600, RMSE test: 4889.68505859375\n",
      "INFO: Early stopping counter 1 of 5\n",
      "epoch:5800, RMSE test: 4875.19921875\n",
      "INFO: Early stopping counter 1 of 5\n",
      "epoch:5800, RMSE test: 4875.19921875\n",
      "epoch:6000, RMSE test: 4862.54248046875\n",
      "INFO: Early stopping counter 0 of 5\n",
      "epoch:6000, RMSE test: 4862.54248046875\n",
      "INFO: Early stopping counter 1 of 5\n",
      "epoch:6200, RMSE test: 4848.80810546875\n",
      "INFO: Early stopping counter 1 of 5\n",
      "epoch:6200, RMSE test: 4848.80810546875\n",
      "epoch:6400, RMSE test: 4835.71533203125\n",
      "INFO: Early stopping counter 0 of 5\n",
      "epoch:6400, RMSE test: 4835.71533203125\n",
      "INFO: Early stopping counter 1 of 5\n",
      "epoch:6600, RMSE test: 4825.9189453125\n",
      "INFO: Early stopping counter 1 of 5\n",
      "epoch:6600, RMSE test: 4825.9189453125\n",
      "epoch:6800, RMSE test: 4812.71923828125\n",
      "INFO: Early stopping counter 0 of 5\n",
      "epoch:6800, RMSE test: 4812.71923828125\n",
      "INFO: Early stopping counter 1 of 5\n",
      "epoch:7000, RMSE test: 4805.01416015625\n",
      "INFO: Early stopping counter 1 of 5\n",
      "epoch:7000, RMSE test: 4805.01416015625\n",
      "INFO: Early stopping counter 2 of 5\n",
      "epoch:7200, RMSE test: 4793.1455078125\n",
      "INFO: Early stopping counter 2 of 5\n",
      "epoch:7200, RMSE test: 4793.1455078125\n",
      "epoch:7400, RMSE test: 4783.00146484375\n",
      "INFO: Early stopping counter 0 of 5\n",
      "epoch:7400, RMSE test: 4783.00146484375\n",
      "INFO: Early stopping counter 1 of 5\n",
      "epoch:7600, RMSE test: 4775.9384765625\n",
      "INFO: Early stopping counter 1 of 5\n",
      "epoch:7600, RMSE test: 4775.9384765625\n",
      "INFO: Early stopping counter 2 of 5\n",
      "epoch:7800, RMSE test: 4765.333984375\n",
      "INFO: Early stopping counter 2 of 5\n",
      "epoch:7800, RMSE test: 4765.333984375\n",
      "epoch:8000, RMSE test: 4759.1396484375\n",
      "INFO: Early stopping counter 0 of 5\n",
      "epoch:8000, RMSE test: 4759.1396484375\n",
      "INFO: Early stopping counter 1 of 5\n",
      "epoch:8200, RMSE test: 4749.95166015625\n",
      "INFO: Early stopping counter 1 of 5\n",
      "epoch:8200, RMSE test: 4749.95166015625\n",
      "INFO: Early stopping counter 2 of 5\n",
      "epoch:8400, RMSE test: 4742.0224609375\n",
      "INFO: Early stopping counter 2 of 5\n",
      "epoch:8400, RMSE test: 4742.0224609375\n",
      "INFO: Early stopping counter 3 of 5\n",
      "epoch:8600, RMSE test: 4739.99365234375\n",
      "INFO: Early stopping counter 3 of 5\n",
      "epoch:8600, RMSE test: 4739.99365234375\n",
      "epoch:8800, RMSE test: 4729.40673828125\n",
      "INFO: Early stopping counter 0 of 5\n",
      "epoch:8800, RMSE test: 4729.40673828125\n",
      "INFO: Early stopping counter 1 of 5\n",
      "epoch:9000, RMSE test: 4724.32666015625\n",
      "INFO: Early stopping counter 1 of 5\n",
      "epoch:9000, RMSE test: 4724.32666015625\n",
      "INFO: Early stopping counter 2 of 5\n",
      "epoch:9200, RMSE test: 4721.74169921875\n",
      "INFO: Early stopping counter 2 of 5\n",
      "epoch:9200, RMSE test: 4721.74169921875\n",
      "INFO: Early stopping counter 3 of 5\n",
      "epoch:9400, RMSE test: 4716.71923828125\n",
      "INFO: Early stopping counter 3 of 5\n",
      "epoch:9400, RMSE test: 4716.71923828125\n",
      "INFO: Early stopping counter 4 of 5\n",
      "epoch:9600, RMSE test: 4714.5048828125\n",
      "INFO: Early stopping counter 4 of 5\n",
      "epoch:9600, RMSE test: 4714.5048828125\n",
      "epoch:9800, RMSE test: 4705.31201171875\n",
      "INFO: Early stopping counter 0 of 5\n",
      "epoch:9800, RMSE test: 4705.31201171875\n",
      "INFO: Early stopping counter 1 of 5\n",
      "epoch:10000, RMSE test: 4698.54541015625\n",
      "INFO: Early stopping counter 1 of 5\n",
      "epoch:10000, RMSE test: 4698.54541015625\n",
      "INFO: Early stopping counter 2 of 5\n",
      "epoch:10200, RMSE test: 4699.5927734375\n",
      "INFO: Early stopping counter 2 of 5\n",
      "epoch:10200, RMSE test: 4699.5927734375\n",
      "INFO: Early stopping counter 3 of 5\n",
      "epoch:10400, RMSE test: 4694.01220703125\n",
      "INFO: Early stopping counter 3 of 5\n",
      "epoch:10400, RMSE test: 4694.01220703125\n",
      "INFO: Early stopping counter 4 of 5\n",
      "epoch:10600, RMSE test: 4688.20263671875\n",
      "INFO: Early stopping counter 4 of 5\n",
      "epoch:10600, RMSE test: 4688.20263671875\n",
      "INFO: Early stopping counter 5 of 5\n",
      "INFO: Early stopping\n",
      "epoch:10800, RMSE test: 4688.224609375\n",
      "INFO: Early stopping counter 5 of 5\n",
      "epoch:10800, RMSE test: 4688.224609375\n",
      "Early Stoppning!!!\n",
      "Best RMSE test 4705.31201171875\n",
      "Experiment with batch_size=128:\n",
      "epoch:0, RMSE test: 15201.3154296875\n",
      "INFO: Early stopping counter 0 of 5\n",
      "epoch:0, RMSE test: 15201.3154296875\n",
      "epoch:200, RMSE test: 15150.87890625\n",
      "INFO: Early stopping counter 0 of 5\n",
      "epoch:200, RMSE test: 15150.87890625\n",
      "epoch:400, RMSE test: 14650.310546875\n",
      "INFO: Early stopping counter 0 of 5\n",
      "epoch:400, RMSE test: 14650.310546875\n",
      "epoch:600, RMSE test: 13381.8935546875\n",
      "INFO: Early stopping counter 0 of 5\n",
      "epoch:600, RMSE test: 13381.8935546875\n",
      "epoch:800, RMSE test: 11495.73046875\n",
      "INFO: Early stopping counter 0 of 5\n",
      "epoch:800, RMSE test: 11495.73046875\n",
      "epoch:1000, RMSE test: 9602.1630859375\n",
      "INFO: Early stopping counter 0 of 5\n",
      "epoch:1000, RMSE test: 9602.1630859375\n",
      "epoch:1200, RMSE test: 8436.126953125\n",
      "INFO: Early stopping counter 0 of 5\n",
      "epoch:1200, RMSE test: 8436.126953125\n",
      "epoch:1400, RMSE test: 7964.4921875\n",
      "INFO: Early stopping counter 0 of 5\n",
      "epoch:1400, RMSE test: 7964.4921875\n",
      "epoch:1600, RMSE test: 7680.4970703125\n",
      "INFO: Early stopping counter 0 of 5\n",
      "epoch:1600, RMSE test: 7680.4970703125\n",
      "epoch:1800, RMSE test: 7426.4443359375\n",
      "INFO: Early stopping counter 0 of 5\n",
      "epoch:1800, RMSE test: 7426.4443359375\n",
      "epoch:2000, RMSE test: 7157.087890625\n",
      "INFO: Early stopping counter 0 of 5\n",
      "epoch:2000, RMSE test: 7157.087890625\n",
      "epoch:2200, RMSE test: 6895.94873046875\n",
      "INFO: Early stopping counter 0 of 5\n",
      "epoch:2200, RMSE test: 6895.94873046875\n",
      "epoch:2400, RMSE test: 6647.83837890625\n",
      "INFO: Early stopping counter 0 of 5\n",
      "epoch:2400, RMSE test: 6647.83837890625\n",
      "epoch:2600, RMSE test: 6393.01708984375\n",
      "INFO: Early stopping counter 0 of 5\n",
      "epoch:2600, RMSE test: 6393.01708984375\n",
      "epoch:2800, RMSE test: 6172.32275390625\n",
      "INFO: Early stopping counter 0 of 5\n",
      "epoch:2800, RMSE test: 6172.32275390625\n",
      "epoch:3000, RMSE test: 5955.97705078125\n",
      "INFO: Early stopping counter 0 of 5\n",
      "epoch:3000, RMSE test: 5955.97705078125\n",
      "epoch:3200, RMSE test: 5776.162109375\n",
      "INFO: Early stopping counter 0 of 5\n",
      "epoch:3200, RMSE test: 5776.162109375\n",
      "epoch:3400, RMSE test: 5614.19384765625\n",
      "INFO: Early stopping counter 0 of 5\n",
      "epoch:3400, RMSE test: 5614.19384765625\n",
      "epoch:3600, RMSE test: 5491.064453125\n",
      "INFO: Early stopping counter 0 of 5\n",
      "epoch:3600, RMSE test: 5491.064453125\n",
      "epoch:3800, RMSE test: 5398.52001953125\n",
      "INFO: Early stopping counter 0 of 5\n",
      "epoch:3800, RMSE test: 5398.52001953125\n",
      "epoch:4000, RMSE test: 5328.69580078125\n",
      "INFO: Early stopping counter 0 of 5\n",
      "epoch:4000, RMSE test: 5328.69580078125\n",
      "epoch:4200, RMSE test: 5265.71484375\n",
      "INFO: Early stopping counter 0 of 5\n",
      "epoch:4200, RMSE test: 5265.71484375\n",
      "epoch:4400, RMSE test: 5222.03173828125\n",
      "INFO: Early stopping counter 0 of 5\n",
      "epoch:4400, RMSE test: 5222.03173828125\n",
      "epoch:4600, RMSE test: 5180.07763671875\n",
      "INFO: Early stopping counter 0 of 5\n",
      "epoch:4600, RMSE test: 5180.07763671875\n",
      "epoch:4800, RMSE test: 5132.576171875\n",
      "INFO: Early stopping counter 0 of 5\n",
      "epoch:4800, RMSE test: 5132.576171875\n",
      "epoch:5000, RMSE test: 5093.97998046875\n",
      "INFO: Early stopping counter 0 of 5\n",
      "epoch:5000, RMSE test: 5093.97998046875\n",
      "epoch:5200, RMSE test: 5064.69482421875\n",
      "INFO: Early stopping counter 0 of 5\n",
      "epoch:5200, RMSE test: 5064.69482421875\n",
      "epoch:5400, RMSE test: 5032.56494140625\n",
      "INFO: Early stopping counter 0 of 5\n",
      "epoch:5400, RMSE test: 5032.56494140625\n",
      "epoch:5600, RMSE test: 4998.7919921875\n",
      "INFO: Early stopping counter 0 of 5\n",
      "epoch:5600, RMSE test: 4998.7919921875\n",
      "epoch:5800, RMSE test: 4972.79736328125\n",
      "INFO: Early stopping counter 0 of 5\n",
      "epoch:5800, RMSE test: 4972.79736328125\n",
      "INFO: Early stopping counter 1 of 5\n",
      "epoch:6000, RMSE test: 4955.970703125\n",
      "INFO: Early stopping counter 1 of 5\n",
      "epoch:6000, RMSE test: 4955.970703125\n",
      "epoch:6200, RMSE test: 4927.990234375\n",
      "INFO: Early stopping counter 0 of 5\n",
      "epoch:6200, RMSE test: 4927.990234375\n",
      "INFO: Early stopping counter 1 of 5\n",
      "epoch:6400, RMSE test: 4918.310546875\n",
      "INFO: Early stopping counter 1 of 5\n",
      "epoch:6400, RMSE test: 4918.310546875\n",
      "epoch:6600, RMSE test: 4886.05908203125\n",
      "INFO: Early stopping counter 0 of 5\n",
      "epoch:6600, RMSE test: 4886.05908203125\n",
      "INFO: Early stopping counter 1 of 5\n",
      "epoch:6800, RMSE test: 4881.146484375\n",
      "INFO: Early stopping counter 1 of 5\n",
      "epoch:6800, RMSE test: 4881.146484375\n",
      "epoch:7000, RMSE test: 4865.61083984375\n",
      "INFO: Early stopping counter 0 of 5\n",
      "epoch:7000, RMSE test: 4865.61083984375\n",
      "INFO: Early stopping counter 1 of 5\n",
      "epoch:7200, RMSE test: 4852.564453125\n",
      "INFO: Early stopping counter 1 of 5\n",
      "epoch:7200, RMSE test: 4852.564453125\n",
      "epoch:7400, RMSE test: 4839.19091796875\n",
      "INFO: Early stopping counter 0 of 5\n",
      "epoch:7400, RMSE test: 4839.19091796875\n",
      "INFO: Early stopping counter 1 of 5\n",
      "epoch:7600, RMSE test: 4834.4619140625\n",
      "INFO: Early stopping counter 1 of 5\n",
      "epoch:7600, RMSE test: 4834.4619140625\n",
      "INFO: Early stopping counter 2 of 5\n",
      "epoch:7800, RMSE test: 4827.8623046875\n",
      "INFO: Early stopping counter 2 of 5\n",
      "epoch:7800, RMSE test: 4827.8623046875\n",
      "epoch:8000, RMSE test: 4803.03466796875\n",
      "INFO: Early stopping counter 0 of 5\n",
      "epoch:8000, RMSE test: 4803.03466796875\n",
      "INFO: Early stopping counter 1 of 5\n",
      "epoch:8200, RMSE test: 4792.697265625\n",
      "INFO: Early stopping counter 1 of 5\n",
      "epoch:8200, RMSE test: 4792.697265625\n",
      "INFO: Early stopping counter 2 of 5\n",
      "epoch:8400, RMSE test: 4793.58837890625\n",
      "INFO: Early stopping counter 2 of 5\n",
      "epoch:8400, RMSE test: 4793.58837890625\n",
      "epoch:8600, RMSE test: 4781.61865234375\n",
      "INFO: Early stopping counter 0 of 5\n",
      "epoch:8600, RMSE test: 4781.61865234375\n",
      "INFO: Early stopping counter 1 of 5\n",
      "epoch:8800, RMSE test: 4778.267578125\n",
      "INFO: Early stopping counter 1 of 5\n",
      "epoch:8800, RMSE test: 4778.267578125\n",
      "INFO: Early stopping counter 2 of 5\n",
      "epoch:9000, RMSE test: 4783.63134765625\n",
      "INFO: Early stopping counter 2 of 5\n",
      "epoch:9000, RMSE test: 4783.63134765625\n",
      "epoch:9200, RMSE test: 4756.330078125\n",
      "INFO: Early stopping counter 0 of 5\n",
      "epoch:9200, RMSE test: 4756.330078125\n",
      "INFO: Early stopping counter 1 of 5\n",
      "epoch:9400, RMSE test: 4760.0771484375\n",
      "INFO: Early stopping counter 1 of 5\n",
      "epoch:9400, RMSE test: 4760.0771484375\n",
      "INFO: Early stopping counter 2 of 5\n",
      "epoch:9600, RMSE test: 4758.83349609375\n",
      "INFO: Early stopping counter 2 of 5\n",
      "epoch:9600, RMSE test: 4758.83349609375\n",
      "INFO: Early stopping counter 3 of 5\n",
      "epoch:9800, RMSE test: 4751.83447265625\n",
      "INFO: Early stopping counter 3 of 5\n",
      "epoch:9800, RMSE test: 4751.83447265625\n",
      "epoch:10000, RMSE test: 4735.919921875\n",
      "INFO: Early stopping counter 0 of 5\n",
      "epoch:10000, RMSE test: 4735.919921875\n",
      "INFO: Early stopping counter 1 of 5\n",
      "epoch:10200, RMSE test: 4743.51171875\n",
      "INFO: Early stopping counter 1 of 5\n",
      "epoch:10200, RMSE test: 4743.51171875\n",
      "INFO: Early stopping counter 2 of 5\n",
      "epoch:10400, RMSE test: 4718.43603515625\n",
      "INFO: Early stopping counter 2 of 5\n",
      "epoch:10400, RMSE test: 4718.43603515625\n",
      "INFO: Early stopping counter 3 of 5\n",
      "epoch:10600, RMSE test: 4720.21337890625\n",
      "INFO: Early stopping counter 3 of 5\n",
      "epoch:10600, RMSE test: 4720.21337890625\n",
      "INFO: Early stopping counter 4 of 5\n",
      "epoch:10800, RMSE test: 4735.8828125\n",
      "INFO: Early stopping counter 4 of 5\n",
      "epoch:10800, RMSE test: 4735.8828125\n",
      "INFO: Early stopping counter 5 of 5\n",
      "INFO: Early stopping\n",
      "epoch:11000, RMSE test: 4716.5166015625\n",
      "INFO: Early stopping counter 5 of 5\n",
      "epoch:11000, RMSE test: 4716.5166015625\n",
      "Early Stoppning!!!\n",
      "Best RMSE test 4735.919921875\n",
      "Experiment with batch_size=256:\n",
      "epoch:0, RMSE test: 15201.029296875\n",
      "INFO: Early stopping counter 0 of 5\n",
      "epoch:0, RMSE test: 15201.029296875\n",
      "INFO: Early stopping counter 1 of 5\n",
      "epoch:200, RMSE test: 15193.771484375\n",
      "INFO: Early stopping counter 1 of 5\n",
      "epoch:200, RMSE test: 15193.771484375\n",
      "epoch:400, RMSE test: 15133.6181640625\n",
      "INFO: Early stopping counter 0 of 5\n",
      "epoch:400, RMSE test: 15133.6181640625\n",
      "epoch:600, RMSE test: 14962.0576171875\n",
      "INFO: Early stopping counter 0 of 5\n",
      "epoch:600, RMSE test: 14962.0576171875\n",
      "epoch:800, RMSE test: 14641.60546875\n",
      "INFO: Early stopping counter 0 of 5\n",
      "epoch:800, RMSE test: 14641.60546875\n",
      "epoch:1000, RMSE test: 14155.849609375\n",
      "INFO: Early stopping counter 0 of 5\n",
      "epoch:1000, RMSE test: 14155.849609375\n",
      "epoch:1200, RMSE test: 13497.9921875\n",
      "INFO: Early stopping counter 0 of 5\n",
      "epoch:1200, RMSE test: 13497.9921875\n",
      "epoch:1400, RMSE test: 12688.068359375\n",
      "INFO: Early stopping counter 0 of 5\n",
      "epoch:1400, RMSE test: 12688.068359375\n",
      "epoch:1600, RMSE test: 11773.6865234375\n",
      "INFO: Early stopping counter 0 of 5\n",
      "epoch:1600, RMSE test: 11773.6865234375\n",
      "epoch:1800, RMSE test: 10832.5390625\n",
      "INFO: Early stopping counter 0 of 5\n",
      "epoch:1800, RMSE test: 10832.5390625\n",
      "epoch:2000, RMSE test: 9958.3115234375\n",
      "INFO: Early stopping counter 0 of 5\n",
      "epoch:2000, RMSE test: 9958.3115234375\n",
      "epoch:2200, RMSE test: 9248.423828125\n",
      "INFO: Early stopping counter 0 of 5\n",
      "epoch:2200, RMSE test: 9248.423828125\n",
      "epoch:2400, RMSE test: 8759.21484375\n",
      "INFO: Early stopping counter 0 of 5\n",
      "epoch:2400, RMSE test: 8759.21484375\n",
      "epoch:2600, RMSE test: 8443.3916015625\n",
      "INFO: Early stopping counter 0 of 5\n",
      "epoch:2600, RMSE test: 8443.3916015625\n",
      "epoch:2800, RMSE test: 8205.1513671875\n",
      "INFO: Early stopping counter 0 of 5\n",
      "epoch:2800, RMSE test: 8205.1513671875\n",
      "epoch:3000, RMSE test: 7995.638671875\n",
      "INFO: Early stopping counter 0 of 5\n",
      "epoch:3000, RMSE test: 7995.638671875\n",
      "epoch:3200, RMSE test: 7803.5654296875\n",
      "INFO: Early stopping counter 0 of 5\n",
      "epoch:3200, RMSE test: 7803.5654296875\n",
      "epoch:3400, RMSE test: 7623.8955078125\n",
      "INFO: Early stopping counter 0 of 5\n",
      "epoch:3400, RMSE test: 7623.8955078125\n",
      "epoch:3600, RMSE test: 7451.95947265625\n",
      "INFO: Early stopping counter 0 of 5\n",
      "epoch:3600, RMSE test: 7451.95947265625\n",
      "epoch:3800, RMSE test: 7283.95556640625\n",
      "INFO: Early stopping counter 0 of 5\n",
      "epoch:3800, RMSE test: 7283.95556640625\n",
      "epoch:4000, RMSE test: 7117.615234375\n",
      "INFO: Early stopping counter 0 of 5\n",
      "epoch:4000, RMSE test: 7117.615234375\n",
      "epoch:4200, RMSE test: 6952.09228515625\n",
      "INFO: Early stopping counter 0 of 5\n",
      "epoch:4200, RMSE test: 6952.09228515625\n",
      "epoch:4400, RMSE test: 6787.25634765625\n",
      "INFO: Early stopping counter 0 of 5\n",
      "epoch:4400, RMSE test: 6787.25634765625\n",
      "epoch:4600, RMSE test: 6623.1015625\n",
      "INFO: Early stopping counter 0 of 5\n",
      "epoch:4600, RMSE test: 6623.1015625\n",
      "epoch:4800, RMSE test: 6459.60986328125\n",
      "INFO: Early stopping counter 0 of 5\n",
      "epoch:4800, RMSE test: 6459.60986328125\n",
      "epoch:5000, RMSE test: 6296.9541015625\n",
      "INFO: Early stopping counter 0 of 5\n",
      "epoch:5000, RMSE test: 6296.9541015625\n",
      "epoch:5200, RMSE test: 6135.81787109375\n",
      "INFO: Early stopping counter 0 of 5\n",
      "epoch:5200, RMSE test: 6135.81787109375\n",
      "epoch:5400, RMSE test: 5977.673828125\n",
      "INFO: Early stopping counter 0 of 5\n",
      "epoch:5400, RMSE test: 5977.673828125\n",
      "epoch:5600, RMSE test: 5824.8984375\n",
      "INFO: Early stopping counter 0 of 5\n",
      "epoch:5600, RMSE test: 5824.8984375\n",
      "epoch:5800, RMSE test: 5680.66455078125\n",
      "INFO: Early stopping counter 0 of 5\n",
      "epoch:5800, RMSE test: 5680.66455078125\n",
      "epoch:6000, RMSE test: 5548.564453125\n",
      "INFO: Early stopping counter 0 of 5\n",
      "epoch:6000, RMSE test: 5548.564453125\n",
      "epoch:6200, RMSE test: 5431.70703125\n",
      "INFO: Early stopping counter 0 of 5\n",
      "epoch:6200, RMSE test: 5431.70703125\n",
      "epoch:6400, RMSE test: 5333.13330078125\n",
      "INFO: Early stopping counter 0 of 5\n",
      "epoch:6400, RMSE test: 5333.13330078125\n",
      "epoch:6600, RMSE test: 5253.41162109375\n",
      "INFO: Early stopping counter 0 of 5\n",
      "epoch:6600, RMSE test: 5253.41162109375\n",
      "epoch:6800, RMSE test: 5186.52880859375\n",
      "INFO: Early stopping counter 0 of 5\n",
      "epoch:6800, RMSE test: 5186.52880859375\n",
      "epoch:7000, RMSE test: 5128.3447265625\n",
      "INFO: Early stopping counter 0 of 5\n",
      "epoch:7000, RMSE test: 5128.3447265625\n",
      "epoch:7200, RMSE test: 5075.82470703125\n",
      "INFO: Early stopping counter 0 of 5\n",
      "epoch:7200, RMSE test: 5075.82470703125\n",
      "epoch:7400, RMSE test: 5030.83056640625\n",
      "INFO: Early stopping counter 0 of 5\n",
      "epoch:7400, RMSE test: 5030.83056640625\n",
      "epoch:7600, RMSE test: 4989.67431640625\n",
      "INFO: Early stopping counter 0 of 5\n",
      "epoch:7600, RMSE test: 4989.67431640625\n",
      "epoch:7800, RMSE test: 4950.17041015625\n",
      "INFO: Early stopping counter 0 of 5\n",
      "epoch:7800, RMSE test: 4950.17041015625\n",
      "epoch:8000, RMSE test: 4912.55810546875\n",
      "INFO: Early stopping counter 0 of 5\n",
      "epoch:8000, RMSE test: 4912.55810546875\n",
      "epoch:8200, RMSE test: 4878.9912109375\n",
      "INFO: Early stopping counter 0 of 5\n",
      "epoch:8200, RMSE test: 4878.9912109375\n",
      "epoch:8400, RMSE test: 4851.0419921875\n",
      "INFO: Early stopping counter 0 of 5\n",
      "epoch:8400, RMSE test: 4851.0419921875\n",
      "epoch:8600, RMSE test: 4823.162109375\n",
      "INFO: Early stopping counter 0 of 5\n",
      "epoch:8600, RMSE test: 4823.162109375\n",
      "epoch:8800, RMSE test: 4797.712890625\n",
      "INFO: Early stopping counter 0 of 5\n",
      "epoch:8800, RMSE test: 4797.712890625\n",
      "epoch:9000, RMSE test: 4773.49365234375\n",
      "INFO: Early stopping counter 0 of 5\n",
      "epoch:9000, RMSE test: 4773.49365234375\n",
      "epoch:9200, RMSE test: 4751.41552734375\n",
      "INFO: Early stopping counter 0 of 5\n",
      "epoch:9200, RMSE test: 4751.41552734375\n",
      "epoch:9400, RMSE test: 4728.71923828125\n",
      "INFO: Early stopping counter 0 of 5\n",
      "epoch:9400, RMSE test: 4728.71923828125\n",
      "epoch:9600, RMSE test: 4708.60302734375\n",
      "INFO: Early stopping counter 0 of 5\n",
      "epoch:9600, RMSE test: 4708.60302734375\n",
      "INFO: Early stopping counter 1 of 5\n",
      "epoch:9800, RMSE test: 4688.6826171875\n",
      "INFO: Early stopping counter 1 of 5\n",
      "epoch:9800, RMSE test: 4688.6826171875\n",
      "epoch:10000, RMSE test: 4664.34912109375\n",
      "INFO: Early stopping counter 0 of 5\n",
      "epoch:10000, RMSE test: 4664.34912109375\n",
      "epoch:10200, RMSE test: 4639.0546875\n",
      "INFO: Early stopping counter 0 of 5\n",
      "epoch:10200, RMSE test: 4639.0546875\n",
      "epoch:10400, RMSE test: 4618.10546875\n",
      "INFO: Early stopping counter 0 of 5\n",
      "epoch:10400, RMSE test: 4618.10546875\n",
      "epoch:10600, RMSE test: 4577.50439453125\n",
      "INFO: Early stopping counter 0 of 5\n",
      "epoch:10600, RMSE test: 4577.50439453125\n",
      "epoch:10800, RMSE test: 4539.962890625\n",
      "INFO: Early stopping counter 0 of 5\n",
      "epoch:10800, RMSE test: 4539.962890625\n",
      "epoch:11000, RMSE test: 4507.8134765625\n",
      "INFO: Early stopping counter 0 of 5\n",
      "epoch:11000, RMSE test: 4507.8134765625\n",
      "epoch:11200, RMSE test: 4483.2958984375\n",
      "INFO: Early stopping counter 0 of 5\n",
      "epoch:11200, RMSE test: 4483.2958984375\n",
      "INFO: Early stopping counter 1 of 5\n",
      "epoch:11400, RMSE test: 4463.791015625\n",
      "INFO: Early stopping counter 1 of 5\n",
      "epoch:11400, RMSE test: 4463.791015625\n",
      "epoch:11600, RMSE test: 4446.36572265625\n",
      "INFO: Early stopping counter 0 of 5\n",
      "epoch:11600, RMSE test: 4446.36572265625\n",
      "INFO: Early stopping counter 1 of 5\n",
      "epoch:11800, RMSE test: 4432.09326171875\n",
      "INFO: Early stopping counter 1 of 5\n",
      "epoch:11800, RMSE test: 4432.09326171875\n",
      "epoch:12000, RMSE test: 4407.4638671875\n",
      "INFO: Early stopping counter 0 of 5\n",
      "epoch:12000, RMSE test: 4407.4638671875\n",
      "INFO: Early stopping counter 1 of 5\n",
      "epoch:12200, RMSE test: 4390.0478515625\n",
      "INFO: Early stopping counter 1 of 5\n",
      "epoch:12200, RMSE test: 4390.0478515625\n",
      "INFO: Early stopping counter 2 of 5\n",
      "epoch:12400, RMSE test: 4391.9853515625\n",
      "INFO: Early stopping counter 2 of 5\n",
      "epoch:12400, RMSE test: 4391.9853515625\n",
      "INFO: Early stopping counter 3 of 5\n",
      "epoch:12600, RMSE test: 4395.921875\n",
      "INFO: Early stopping counter 3 of 5\n",
      "epoch:12600, RMSE test: 4395.921875\n",
      "INFO: Early stopping counter 4 of 5\n",
      "epoch:12800, RMSE test: 4402.6611328125\n",
      "INFO: Early stopping counter 4 of 5\n",
      "epoch:12800, RMSE test: 4402.6611328125\n",
      "INFO: Early stopping counter 5 of 5\n",
      "INFO: Early stopping\n",
      "epoch:13000, RMSE test: 4387.9267578125\n",
      "INFO: Early stopping counter 5 of 5\n",
      "epoch:13000, RMSE test: 4387.9267578125\n",
      "Early Stoppning!!!\n",
      "Best RMSE test 4407.4638671875\n"
     ]
    }
   ],
   "source": [
    "class Net(nn.Module):\n",
    "    def __init__(self, n_in_neurons, n_hidden_neurons_1, n_hidden_neurons_2, n_out_neurons):\n",
    "        super(Net, self).__init__()\n",
    "        \n",
    "        self.fc1 = nn.Linear(n_in_neurons, n_hidden_neurons_1)\n",
    "        self.act1 = nn.ReLU()\n",
    "        self.fc2 = nn.Linear(n_hidden_neurons_1, n_hidden_neurons_2)\n",
    "        self.act2 = nn.ReLU()\n",
    "        self.fc3 = nn.Linear(n_hidden_neurons_2, n_out_neurons)\n",
    "        \n",
    "    def forward(self, x):\n",
    "        x = self.fc1(x)\n",
    "        x = self.act1(x)\n",
    "        x = self.fc2(x)\n",
    "        x = self.act2(x)\n",
    "        x = self.fc3(x)\n",
    "        \n",
    "        return x\n",
    "\n",
    "# Размеры батчей, которые мы хотим проверить\n",
    "batch_sizes = [16, 64, 128, 256]\n",
    "\n",
    "# Начнем эксперимент\n",
    "for batch_size in batch_sizes:\n",
    "    print(f\"Experiment with batch_size={batch_size}:\")\n",
    "    \n",
    "    # Создадим и сконфигурируем модель для каждого размера батча\n",
    "    net = Net(n_in_neurons, n_hidden_neurons_1, n_hidden_neurons_2, n_out_neurons)\n",
    "    optimizer = torch.optim.Adam(net.parameters(), lr=1e-3)\n",
    "    loss = nn.MSELoss()\n",
    "    \n",
    "    # Создадим загрузчики данных с текущим размером батча\n",
    "    train_dataloader = DataLoader(dataset_train, batch_size=batch_size, shuffle=True, num_workers=0)\n",
    "    test_dataloader = DataLoader(dataset_test, batch_size=batch_size, num_workers=0)\n",
    "    \n",
    "    # Начнем обучение\n",
    "    early_stopping = CustomEarlyStopping(patience=5, min_delta=20)\n",
    "    num_epochs = 100001\n",
    "    val_loss = []\n",
    "    train_loss = []\n",
    "\n",
    "    for epoch in range(num_epochs):\n",
    "        net.train()\n",
    "        train_loss_batches = []\n",
    "        for batch in train_dataloader:\n",
    "            data_train, temperature_train = batch\n",
    "            optimizer.zero_grad()\n",
    "            preds = net.forward(data_train).flatten()\n",
    "            loss_value = torch.sqrt(loss(preds, temperature_train))\n",
    "            loss_value.backward()\n",
    "            optimizer.step()\n",
    "            loss_value = loss_value.detach().numpy().reshape([-1])\n",
    "            train_loss_batches.append(loss_value)\n",
    "\n",
    "        if epoch % 200 == 0:\n",
    "            predicted_temp = []\n",
    "            with torch.no_grad():\n",
    "                net.eval()\n",
    "                for batch in test_dataloader:\n",
    "                    data_test, temperature_test = batch\n",
    "                    test_preds = net.forward(data_test).flatten()\n",
    "                    predicted_temp.append(test_preds)\n",
    "            predicted_temp = torch.cat(predicted_temp).detach().numpy()\n",
    "            RMSE = mean_squared_error(y_test, predicted_temp, squared=False)\n",
    "\n",
    "            early_stopping(RMSE)\n",
    "            if early_stopping.counter == 0:\n",
    "                best_rmse = RMSE\n",
    "                best_predicted_temp = predicted_temp\n",
    "                val_loss.append(best_rmse)\n",
    "                train_loss.append(np.mean(train_loss_batches))\n",
    "            print(f\"epoch:{epoch}, RMSE test: {RMSE}\")\n",
    "            \n",
    "            # Выводим информацию о ранней остановке и RMSE\n",
    "            print(f\"INFO: Early stopping counter {early_stopping.counter} of {early_stopping.patience}\")\n",
    "            print(f\"epoch:{epoch}, RMSE test: {RMSE}\")\n",
    "\n",
    "            if early_stopping.early_stop:\n",
    "                print('Early Stoppning!!!')\n",
    "                print(f'Best RMSE test {best_rmse}')\n",
    "                break "
   ]
  },
  {
   "cell_type": "markdown",
   "id": "accurate-infrastructure",
   "metadata": {},
   "source": [
    "## Выводы"
   ]
  },
  {
   "cell_type": "markdown",
   "id": "cede9138",
   "metadata": {},
   "source": [
    "МЫ провели перебор оптимизаторов, чтобы выявить лучший из 5 представленных, с учётом шага. На данном шаге я не учитывал скорость алгоритмов, судить будем только по конечной RMSE. Судя по метрикам, лучшим оптимизатором для этой задачи является NAdam с шагом равной одной сотой (RMSE = 4219). На нём мы провели конечное улучшение модели: добавили dropout равный 50% и регуляризацию весов BatchNorm1d на первый скрытый слой. Время обучения сильно увеличилась, однако это способстовало улучшению метрики на 100 градусов. Конечная метрика RMSE в улучшинной НС равна 3997. Если посмотреть на график потерь нашей последней нейросети, то можно увидеть, что модель обучилась качественно, без недо/переобучений, благодаря ранней остановке. График фкт-прогноз схож с графиком от baseline, однако мы можем чётко увидеть, что начал предсказывать лучше до 15000 и свыше 30000 градусов по Кельвину."
   ]
  }
 ],
 "metadata": {
  "ExecuteTimeLog": [
   {
    "duration": 1429,
    "start_time": "2024-04-29T17:06:02.020Z"
   },
   {
    "duration": 4222,
    "start_time": "2024-04-29T17:10:18.859Z"
   },
   {
    "duration": 4793,
    "start_time": "2024-04-29T17:10:36.280Z"
   },
   {
    "duration": 7,
    "start_time": "2024-04-29T17:12:00.721Z"
   },
   {
    "duration": 79,
    "start_time": "2024-04-29T17:15:19.393Z"
   },
   {
    "duration": 12,
    "start_time": "2024-04-29T17:15:34.733Z"
   },
   {
    "duration": 37,
    "start_time": "2024-04-29T17:16:34.577Z"
   },
   {
    "duration": 1876,
    "start_time": "2024-04-29T17:16:50.503Z"
   },
   {
    "duration": 5,
    "start_time": "2024-04-29T17:17:07.240Z"
   },
   {
    "duration": 3,
    "start_time": "2024-04-29T17:18:13.779Z"
   },
   {
    "duration": 26,
    "start_time": "2024-04-29T17:18:14.422Z"
   },
   {
    "duration": 33,
    "start_time": "2024-04-29T17:18:15.271Z"
   },
   {
    "duration": 1880,
    "start_time": "2024-04-29T17:18:16.031Z"
   },
   {
    "duration": 5,
    "start_time": "2024-04-29T17:18:17.913Z"
   },
   {
    "duration": 51,
    "start_time": "2024-04-29T17:18:31.109Z"
   },
   {
    "duration": 8,
    "start_time": "2024-04-29T17:20:29.211Z"
   },
   {
    "duration": 6,
    "start_time": "2024-04-29T17:20:54.869Z"
   },
   {
    "duration": 1036,
    "start_time": "2024-04-29T17:21:40.174Z"
   },
   {
    "duration": 9499,
    "start_time": "2024-04-29T17:21:59.964Z"
   },
   {
    "duration": 300,
    "start_time": "2024-04-29T17:22:19.310Z"
   },
   {
    "duration": 372,
    "start_time": "2024-04-29T17:22:29.579Z"
   },
   {
    "duration": 2,
    "start_time": "2024-04-29T17:23:31.424Z"
   },
   {
    "duration": 7,
    "start_time": "2024-04-29T17:23:41.395Z"
   },
   {
    "duration": 3,
    "start_time": "2024-04-29T17:23:52.410Z"
   },
   {
    "duration": 20,
    "start_time": "2024-04-29T17:24:00.749Z"
   },
   {
    "duration": 4,
    "start_time": "2024-04-29T17:24:21.817Z"
   },
   {
    "duration": 5,
    "start_time": "2024-04-29T17:24:33.769Z"
   },
   {
    "duration": 6,
    "start_time": "2024-04-29T17:24:42.746Z"
   },
   {
    "duration": 4,
    "start_time": "2024-04-29T17:24:50.180Z"
   },
   {
    "duration": 7,
    "start_time": "2024-04-29T17:24:59.004Z"
   },
   {
    "duration": 60697,
    "start_time": "2024-04-29T17:25:11.228Z"
   },
   {
    "duration": 5,
    "start_time": "2024-04-29T17:26:44.803Z"
   },
   {
    "duration": 597,
    "start_time": "2024-04-29T17:26:45.799Z"
   },
   {
    "duration": 5,
    "start_time": "2024-04-29T17:26:51.349Z"
   },
   {
    "duration": 71509,
    "start_time": "2024-04-29T17:27:04.996Z"
   },
   {
    "duration": 8,
    "start_time": "2024-04-29T17:28:16.508Z"
   },
   {
    "duration": 5,
    "start_time": "2024-04-29T17:29:51.325Z"
   },
   {
    "duration": 4,
    "start_time": "2024-04-29T17:29:52.551Z"
   },
   {
    "duration": 3,
    "start_time": "2024-04-29T17:29:53.393Z"
   },
   {
    "duration": 77243,
    "start_time": "2024-04-29T17:29:54.958Z"
   },
   {
    "duration": 193,
    "start_time": "2024-04-29T17:31:12.203Z"
   },
   {
    "duration": 699,
    "start_time": "2024-04-29T17:32:00.571Z"
   },
   {
    "duration": 43,
    "start_time": "2024-05-01T18:23:48.559Z"
   },
   {
    "duration": 7509,
    "start_time": "2024-05-01T18:23:59.854Z"
   },
   {
    "duration": 6,
    "start_time": "2024-05-01T18:24:07.366Z"
   },
   {
    "duration": 136,
    "start_time": "2024-05-01T18:24:07.373Z"
   },
   {
    "duration": 98,
    "start_time": "2024-05-01T18:24:07.511Z"
   },
   {
    "duration": 32,
    "start_time": "2024-05-01T18:24:07.611Z"
   },
   {
    "duration": 1302,
    "start_time": "2024-05-01T18:24:07.644Z"
   },
   {
    "duration": 4,
    "start_time": "2024-05-01T18:24:08.948Z"
   },
   {
    "duration": 11,
    "start_time": "2024-05-01T18:24:08.953Z"
   },
   {
    "duration": 16,
    "start_time": "2024-05-01T18:24:08.966Z"
   },
   {
    "duration": 829,
    "start_time": "2024-05-01T18:24:08.983Z"
   },
   {
    "duration": 6768,
    "start_time": "2024-05-01T18:24:09.813Z"
   },
   {
    "duration": 282,
    "start_time": "2024-05-01T18:24:16.583Z"
   },
   {
    "duration": 363,
    "start_time": "2024-05-01T18:24:16.866Z"
   },
   {
    "duration": 2,
    "start_time": "2024-05-01T18:24:17.232Z"
   },
   {
    "duration": 6,
    "start_time": "2024-05-01T18:24:17.236Z"
   },
   {
    "duration": 8,
    "start_time": "2024-05-01T18:24:17.244Z"
   },
   {
    "duration": 19,
    "start_time": "2024-05-01T18:24:17.253Z"
   },
   {
    "duration": 20,
    "start_time": "2024-05-01T18:24:17.273Z"
   },
   {
    "duration": 21,
    "start_time": "2024-05-01T18:24:17.294Z"
   },
   {
    "duration": 6,
    "start_time": "2024-05-01T18:24:17.316Z"
   },
   {
    "duration": 4,
    "start_time": "2024-05-01T18:24:17.323Z"
   },
   {
    "duration": 8,
    "start_time": "2024-05-01T18:24:17.328Z"
   },
   {
    "duration": 56310,
    "start_time": "2024-05-01T18:24:17.337Z"
   },
   {
    "duration": 5,
    "start_time": "2024-05-01T18:25:13.648Z"
   },
   {
    "duration": 547,
    "start_time": "2024-05-01T18:25:13.654Z"
   },
   {
    "duration": 6,
    "start_time": "2024-05-01T18:25:14.203Z"
   },
   {
    "duration": 94687,
    "start_time": "2024-05-01T18:25:14.210Z"
   },
   {
    "duration": 6,
    "start_time": "2024-05-01T18:26:48.901Z"
   },
   {
    "duration": 17,
    "start_time": "2024-05-01T18:26:48.908Z"
   },
   {
    "duration": 8,
    "start_time": "2024-05-01T18:26:48.926Z"
   },
   {
    "duration": 7,
    "start_time": "2024-05-01T18:26:48.935Z"
   },
   {
    "duration": 43362,
    "start_time": "2024-05-01T18:26:48.944Z"
   },
   {
    "duration": 170,
    "start_time": "2024-05-01T18:27:32.309Z"
   },
   {
    "duration": 487,
    "start_time": "2024-05-01T18:27:32.481Z"
   },
   {
    "duration": 1054,
    "start_time": "2024-05-01T18:27:32.970Z"
   },
   {
    "duration": 251,
    "start_time": "2024-05-01T18:28:55.177Z"
   },
   {
    "duration": 52,
    "start_time": "2024-05-02T17:17:54.989Z"
   },
   {
    "duration": 7705,
    "start_time": "2024-05-02T17:18:04.309Z"
   },
   {
    "duration": 7,
    "start_time": "2024-05-02T17:18:12.017Z"
   },
   {
    "duration": 10,
    "start_time": "2024-05-02T17:18:12.025Z"
   },
   {
    "duration": 94,
    "start_time": "2024-05-02T17:18:12.037Z"
   },
   {
    "duration": 41,
    "start_time": "2024-05-02T17:18:12.134Z"
   },
   {
    "duration": 1528,
    "start_time": "2024-05-02T17:18:12.177Z"
   },
   {
    "duration": 289,
    "start_time": "2024-05-02T17:18:13.706Z"
   },
   {
    "duration": 355,
    "start_time": "2024-05-02T17:18:13.996Z"
   },
   {
    "duration": 5,
    "start_time": "2024-05-02T17:18:14.353Z"
   },
   {
    "duration": 12,
    "start_time": "2024-05-02T17:18:14.359Z"
   },
   {
    "duration": 5,
    "start_time": "2024-05-02T17:18:14.373Z"
   },
   {
    "duration": 871,
    "start_time": "2024-05-02T17:18:14.380Z"
   },
   {
    "duration": 9497,
    "start_time": "2024-05-02T17:18:15.254Z"
   },
   {
    "duration": 315,
    "start_time": "2024-05-02T17:18:24.754Z"
   },
   {
    "duration": 504,
    "start_time": "2024-05-02T17:18:25.071Z"
   },
   {
    "duration": 2,
    "start_time": "2024-05-02T17:18:25.577Z"
   },
   {
    "duration": 8,
    "start_time": "2024-05-02T17:18:25.581Z"
   },
   {
    "duration": 5,
    "start_time": "2024-05-02T17:18:25.590Z"
   },
   {
    "duration": 38,
    "start_time": "2024-05-02T17:18:25.597Z"
   },
   {
    "duration": 4,
    "start_time": "2024-05-02T17:18:25.636Z"
   },
   {
    "duration": 5,
    "start_time": "2024-05-02T17:18:25.641Z"
   },
   {
    "duration": 7,
    "start_time": "2024-05-02T17:18:25.647Z"
   },
   {
    "duration": 10,
    "start_time": "2024-05-02T17:18:25.655Z"
   },
   {
    "duration": 5,
    "start_time": "2024-05-02T17:18:25.666Z"
   },
   {
    "duration": 38030,
    "start_time": "2024-05-02T17:18:25.673Z"
   },
   {
    "duration": 5,
    "start_time": "2024-05-02T17:19:03.705Z"
   },
   {
    "duration": 603,
    "start_time": "2024-05-02T17:19:03.712Z"
   },
   {
    "duration": 7,
    "start_time": "2024-05-02T17:19:04.316Z"
   },
   {
    "duration": 123922,
    "start_time": "2024-05-02T17:19:04.324Z"
   },
   {
    "duration": 7,
    "start_time": "2024-05-02T17:21:08.248Z"
   },
   {
    "duration": 10,
    "start_time": "2024-05-02T17:21:08.257Z"
   },
   {
    "duration": 5,
    "start_time": "2024-05-02T17:21:08.268Z"
   },
   {
    "duration": 3,
    "start_time": "2024-05-02T17:21:08.275Z"
   },
   {
    "duration": 101864,
    "start_time": "2024-05-02T17:21:08.279Z"
   },
   {
    "duration": 254,
    "start_time": "2024-05-02T17:22:50.145Z"
   },
   {
    "duration": 696,
    "start_time": "2024-05-02T17:22:50.401Z"
   },
   {
    "duration": 315,
    "start_time": "2024-05-02T17:23:14.493Z"
   },
   {
    "duration": 274,
    "start_time": "2024-05-02T17:23:26.353Z"
   },
   {
    "duration": 142,
    "start_time": "2024-05-02T17:34:32.777Z"
   },
   {
    "duration": 17,
    "start_time": "2024-05-02T17:35:13.936Z"
   },
   {
    "duration": 10,
    "start_time": "2024-05-02T17:35:23.098Z"
   },
   {
    "duration": 9872,
    "start_time": "2024-05-02T17:45:00.915Z"
   },
   {
    "duration": 10086,
    "start_time": "2024-05-02T17:46:14.208Z"
   },
   {
    "duration": 9605,
    "start_time": "2024-05-02T17:47:01.484Z"
   },
   {
    "duration": 58,
    "start_time": "2024-05-02T17:52:52.464Z"
   },
   {
    "duration": 17,
    "start_time": "2024-05-02T17:52:58.166Z"
   },
   {
    "duration": 10414,
    "start_time": "2024-05-02T17:53:32.988Z"
   },
   {
    "duration": 760,
    "start_time": "2024-05-02T17:56:43.867Z"
   },
   {
    "duration": 796,
    "start_time": "2024-05-02T17:58:18.344Z"
   },
   {
    "duration": 9541,
    "start_time": "2024-05-02T18:00:19.760Z"
   },
   {
    "duration": 109552,
    "start_time": "2024-05-02T18:05:36.194Z"
   },
   {
    "duration": 8,
    "start_time": "2024-05-02T18:59:37.935Z"
   },
   {
    "duration": 21,
    "start_time": "2024-05-02T19:10:48.018Z"
   },
   {
    "duration": 6,
    "start_time": "2024-05-02T19:11:09.145Z"
   },
   {
    "duration": 7291,
    "start_time": "2024-05-02T20:40:10.739Z"
   },
   {
    "duration": 11,
    "start_time": "2024-05-02T20:40:18.033Z"
   },
   {
    "duration": 9,
    "start_time": "2024-05-02T20:40:18.047Z"
   },
   {
    "duration": 32,
    "start_time": "2024-05-02T20:40:18.057Z"
   },
   {
    "duration": 48,
    "start_time": "2024-05-02T20:40:18.091Z"
   },
   {
    "duration": 1731,
    "start_time": "2024-05-02T20:40:18.140Z"
   },
   {
    "duration": 349,
    "start_time": "2024-05-02T20:40:19.872Z"
   },
   {
    "duration": 426,
    "start_time": "2024-05-02T20:40:20.222Z"
   },
   {
    "duration": 5,
    "start_time": "2024-05-02T20:40:20.650Z"
   },
   {
    "duration": 20,
    "start_time": "2024-05-02T20:40:20.656Z"
   },
   {
    "duration": 19,
    "start_time": "2024-05-02T20:40:20.678Z"
   },
   {
    "duration": 33,
    "start_time": "2024-05-02T20:40:20.698Z"
   },
   {
    "duration": 904,
    "start_time": "2024-05-02T20:40:20.733Z"
   },
   {
    "duration": 10201,
    "start_time": "2024-05-02T20:40:21.641Z"
   },
   {
    "duration": 313,
    "start_time": "2024-05-02T20:40:31.843Z"
   },
   {
    "duration": 537,
    "start_time": "2024-05-02T20:40:32.158Z"
   },
   {
    "duration": 3,
    "start_time": "2024-05-02T20:40:32.697Z"
   },
   {
    "duration": 29,
    "start_time": "2024-05-02T20:40:32.701Z"
   },
   {
    "duration": 14,
    "start_time": "2024-05-02T20:40:32.732Z"
   },
   {
    "duration": 28,
    "start_time": "2024-05-02T20:40:32.747Z"
   },
   {
    "duration": 20,
    "start_time": "2024-05-02T20:40:32.777Z"
   },
   {
    "duration": 5,
    "start_time": "2024-05-02T20:40:32.798Z"
   },
   {
    "duration": 5,
    "start_time": "2024-05-02T20:40:32.805Z"
   },
   {
    "duration": 8,
    "start_time": "2024-05-02T20:40:32.811Z"
   },
   {
    "duration": 8,
    "start_time": "2024-05-02T20:40:32.820Z"
   },
   {
    "duration": 55625,
    "start_time": "2024-05-02T20:40:32.830Z"
   },
   {
    "duration": 5689,
    "start_time": "2024-05-02T20:41:28.457Z"
   },
   {
    "duration": 6,
    "start_time": "2024-05-02T20:41:34.147Z"
   },
   {
    "duration": 629,
    "start_time": "2024-05-02T20:41:34.154Z"
   },
   {
    "duration": 5,
    "start_time": "2024-05-02T20:41:34.785Z"
   },
   {
    "duration": 123880,
    "start_time": "2024-05-02T20:41:34.791Z"
   },
   {
    "duration": 8,
    "start_time": "2024-05-02T20:43:38.672Z"
   },
   {
    "duration": 6,
    "start_time": "2024-05-02T20:43:38.682Z"
   },
   {
    "duration": 7,
    "start_time": "2024-05-02T20:43:38.690Z"
   },
   {
    "duration": 23,
    "start_time": "2024-05-02T20:43:38.700Z"
   },
   {
    "duration": 6,
    "start_time": "2024-05-02T20:43:38.725Z"
   },
   {
    "duration": 9343,
    "start_time": "2024-05-02T20:43:38.733Z"
   },
   {
    "duration": 0,
    "start_time": "2024-05-02T20:43:48.078Z"
   },
   {
    "duration": 0,
    "start_time": "2024-05-02T20:43:48.080Z"
   },
   {
    "duration": 0,
    "start_time": "2024-05-02T20:43:48.081Z"
   },
   {
    "duration": 0,
    "start_time": "2024-05-02T20:43:48.083Z"
   },
   {
    "duration": 0,
    "start_time": "2024-05-02T20:43:48.084Z"
   },
   {
    "duration": 20,
    "start_time": "2024-05-02T22:04:29.733Z"
   },
   {
    "duration": 252292,
    "start_time": "2024-05-02T22:06:51.286Z"
   },
   {
    "duration": 9431,
    "start_time": "2024-05-03T13:28:18.617Z"
   },
   {
    "duration": 5,
    "start_time": "2024-05-03T13:28:28.050Z"
   },
   {
    "duration": 26,
    "start_time": "2024-05-03T13:28:28.057Z"
   },
   {
    "duration": 83,
    "start_time": "2024-05-03T13:28:28.085Z"
   },
   {
    "duration": 46,
    "start_time": "2024-05-03T13:28:28.171Z"
   },
   {
    "duration": 1333,
    "start_time": "2024-05-03T13:28:28.219Z"
   },
   {
    "duration": 376,
    "start_time": "2024-05-03T13:28:29.553Z"
   },
   {
    "duration": 4,
    "start_time": "2024-05-03T13:28:29.930Z"
   },
   {
    "duration": 25,
    "start_time": "2024-05-03T13:28:29.936Z"
   },
   {
    "duration": 8,
    "start_time": "2024-05-03T13:28:29.962Z"
   },
   {
    "duration": 30,
    "start_time": "2024-05-03T13:28:29.971Z"
   },
   {
    "duration": 826,
    "start_time": "2024-05-03T13:28:30.002Z"
   },
   {
    "duration": 6990,
    "start_time": "2024-05-03T13:28:30.830Z"
   },
   {
    "duration": 269,
    "start_time": "2024-05-03T13:28:37.823Z"
   },
   {
    "duration": 427,
    "start_time": "2024-05-03T13:28:38.093Z"
   },
   {
    "duration": 2,
    "start_time": "2024-05-03T13:28:38.522Z"
   },
   {
    "duration": 73,
    "start_time": "2024-05-03T13:28:38.526Z"
   },
   {
    "duration": 38,
    "start_time": "2024-05-03T13:28:38.600Z"
   },
   {
    "duration": 27,
    "start_time": "2024-05-03T13:28:38.639Z"
   },
   {
    "duration": 4,
    "start_time": "2024-05-03T13:28:38.667Z"
   },
   {
    "duration": 18,
    "start_time": "2024-05-03T13:28:38.672Z"
   },
   {
    "duration": 32,
    "start_time": "2024-05-03T13:28:38.691Z"
   },
   {
    "duration": 9,
    "start_time": "2024-05-03T13:28:38.725Z"
   },
   {
    "duration": 11,
    "start_time": "2024-05-03T13:28:38.735Z"
   },
   {
    "duration": 43735,
    "start_time": "2024-05-03T13:28:38.747Z"
   },
   {
    "duration": 4011,
    "start_time": "2024-05-03T13:29:22.484Z"
   },
   {
    "duration": 7,
    "start_time": "2024-05-03T13:29:26.502Z"
   },
   {
    "duration": 497,
    "start_time": "2024-05-03T13:29:26.510Z"
   },
   {
    "duration": 5,
    "start_time": "2024-05-03T13:29:27.009Z"
   },
   {
    "duration": 55407,
    "start_time": "2024-05-03T13:29:27.015Z"
   },
   {
    "duration": 12,
    "start_time": "2024-05-03T13:30:22.424Z"
   },
   {
    "duration": 5,
    "start_time": "2024-05-03T13:30:22.440Z"
   },
   {
    "duration": 10,
    "start_time": "2024-05-03T13:30:22.446Z"
   },
   {
    "duration": 25,
    "start_time": "2024-05-03T13:30:22.458Z"
   },
   {
    "duration": 3,
    "start_time": "2024-05-03T13:30:22.484Z"
   },
   {
    "duration": 79520,
    "start_time": "2024-05-03T13:30:22.489Z"
   },
   {
    "duration": 198,
    "start_time": "2024-05-03T13:31:42.011Z"
   },
   {
    "duration": 487,
    "start_time": "2024-05-03T13:31:42.211Z"
   },
   {
    "duration": 203908,
    "start_time": "2024-05-03T13:31:42.701Z"
   },
   {
    "duration": 187985,
    "start_time": "2024-05-03T13:35:06.611Z"
   },
   {
    "duration": 53,
    "start_time": "2024-05-03T19:08:03.665Z"
   },
   {
    "duration": 8107,
    "start_time": "2024-05-03T19:08:22.168Z"
   },
   {
    "duration": 7,
    "start_time": "2024-05-03T19:08:30.277Z"
   },
   {
    "duration": 91,
    "start_time": "2024-05-03T19:08:30.285Z"
   },
   {
    "duration": 128,
    "start_time": "2024-05-03T19:08:30.378Z"
   },
   {
    "duration": 47,
    "start_time": "2024-05-03T19:08:30.507Z"
   },
   {
    "duration": 1663,
    "start_time": "2024-05-03T19:08:30.555Z"
   },
   {
    "duration": 453,
    "start_time": "2024-05-03T19:08:32.220Z"
   },
   {
    "duration": 6,
    "start_time": "2024-05-03T19:08:32.675Z"
   },
   {
    "duration": 13,
    "start_time": "2024-05-03T19:08:36.804Z"
   },
   {
    "duration": 9,
    "start_time": "2024-05-03T19:08:38.527Z"
   },
   {
    "duration": 6,
    "start_time": "2024-05-03T19:08:39.101Z"
   },
   {
    "duration": 906,
    "start_time": "2024-05-03T19:08:40.327Z"
   },
   {
    "duration": 9604,
    "start_time": "2024-05-03T19:08:41.669Z"
   },
   {
    "duration": 340,
    "start_time": "2024-05-03T19:08:51.275Z"
   },
   {
    "duration": 447,
    "start_time": "2024-05-03T19:08:51.617Z"
   },
   {
    "duration": 3,
    "start_time": "2024-05-03T19:08:52.067Z"
   },
   {
    "duration": 8,
    "start_time": "2024-05-03T19:08:52.072Z"
   },
   {
    "duration": 6,
    "start_time": "2024-05-03T19:08:52.082Z"
   },
   {
    "duration": 41,
    "start_time": "2024-05-03T19:08:52.090Z"
   },
   {
    "duration": 4,
    "start_time": "2024-05-03T19:08:52.132Z"
   },
   {
    "duration": 7,
    "start_time": "2024-05-03T19:08:52.137Z"
   },
   {
    "duration": 5,
    "start_time": "2024-05-03T19:08:52.146Z"
   },
   {
    "duration": 4,
    "start_time": "2024-05-03T19:08:52.153Z"
   },
   {
    "duration": 6,
    "start_time": "2024-05-03T19:09:11.387Z"
   },
   {
    "duration": 55776,
    "start_time": "2024-05-03T19:09:12.349Z"
   },
   {
    "duration": 80,
    "start_time": "2024-05-03T19:10:08.127Z"
   },
   {
    "duration": 0,
    "start_time": "2024-05-03T19:10:08.208Z"
   },
   {
    "duration": 70,
    "start_time": "2024-05-03T19:10:14.093Z"
   },
   {
    "duration": 9785,
    "start_time": "2024-05-03T19:11:08.120Z"
   },
   {
    "duration": 5,
    "start_time": "2024-05-03T19:11:49.165Z"
   },
   {
    "duration": 619,
    "start_time": "2024-05-03T19:11:49.853Z"
   },
   {
    "duration": 6,
    "start_time": "2024-05-03T19:11:51.231Z"
   },
   {
    "duration": 120574,
    "start_time": "2024-05-03T19:11:51.538Z"
   },
   {
    "duration": 9,
    "start_time": "2024-05-03T19:13:52.115Z"
   },
   {
    "duration": 9,
    "start_time": "2024-05-03T19:13:52.125Z"
   },
   {
    "duration": 6,
    "start_time": "2024-05-03T19:13:52.136Z"
   },
   {
    "duration": 5,
    "start_time": "2024-05-03T19:13:57.807Z"
   },
   {
    "duration": 4,
    "start_time": "2024-05-03T19:14:00.179Z"
   },
   {
    "duration": 3,
    "start_time": "2024-05-03T19:14:00.754Z"
   },
   {
    "duration": 93320,
    "start_time": "2024-05-03T19:14:03.396Z"
   },
   {
    "duration": 159,
    "start_time": "2024-05-03T19:15:36.718Z"
   },
   {
    "duration": 570,
    "start_time": "2024-05-03T19:15:36.878Z"
   },
   {
    "duration": 197904,
    "start_time": "2024-05-03T19:16:02.833Z"
   },
   {
    "duration": 5,
    "start_time": "2024-05-03T19:19:27.086Z"
   },
   {
    "duration": 102,
    "start_time": "2024-05-03T19:19:35.716Z"
   },
   {
    "duration": 53227,
    "start_time": "2024-05-03T19:32:35.123Z"
   },
   {
    "duration": 409853,
    "start_time": "2024-05-03T19:34:06.869Z"
   },
   {
    "duration": 130641,
    "start_time": "2024-05-03T19:45:13.789Z"
   },
   {
    "duration": 7154,
    "start_time": "2024-05-03T19:50:29.078Z"
   },
   {
    "duration": 135733,
    "start_time": "2024-05-03T20:01:44.008Z"
   },
   {
    "duration": 13096,
    "start_time": "2024-05-03T20:08:59.236Z"
   },
   {
    "duration": 19382,
    "start_time": "2024-05-03T20:11:21.346Z"
   },
   {
    "duration": 15,
    "start_time": "2024-05-03T20:25:08.970Z"
   },
   {
    "duration": 13,
    "start_time": "2024-05-03T20:26:12.705Z"
   },
   {
    "duration": 533011,
    "start_time": "2024-05-03T20:26:48.623Z"
   },
   {
    "duration": 9600,
    "start_time": "2024-05-03T20:35:41.636Z"
   },
   {
    "duration": 5257,
    "start_time": "2024-05-03T20:37:07.014Z"
   },
   {
    "duration": 23,
    "start_time": "2024-05-03T20:42:22.785Z"
   },
   {
    "duration": 5,
    "start_time": "2024-05-03T20:43:58.165Z"
   },
   {
    "duration": 12,
    "start_time": "2024-05-03T20:44:16.354Z"
   },
   {
    "duration": 16,
    "start_time": "2024-05-03T20:50:54.442Z"
   },
   {
    "duration": 8,
    "start_time": "2024-05-03T21:06:48.076Z"
   },
   {
    "duration": 42777,
    "start_time": "2024-05-03T21:08:47.653Z"
   },
   {
    "duration": 9,
    "start_time": "2024-05-03T21:20:06.304Z"
   },
   {
    "duration": 18,
    "start_time": "2024-05-03T21:26:29.589Z"
   },
   {
    "duration": 185,
    "start_time": "2024-05-03T21:31:02.558Z"
   },
   {
    "duration": 646,
    "start_time": "2024-05-03T21:31:10.098Z"
   },
   {
    "duration": 18,
    "start_time": "2024-05-03T21:32:42.615Z"
   },
   {
    "duration": 9,
    "start_time": "2024-05-03T21:38:06.415Z"
   },
   {
    "duration": 127300,
    "start_time": "2024-05-03T21:38:23.128Z"
   },
   {
    "duration": 106,
    "start_time": "2024-05-03T21:40:30.430Z"
   },
   {
    "duration": 8,
    "start_time": "2024-05-03T21:40:45.176Z"
   },
   {
    "duration": 17,
    "start_time": "2024-05-03T21:41:00.159Z"
   },
   {
    "duration": 4,
    "start_time": "2024-05-03T21:41:52.237Z"
   },
   {
    "duration": 15,
    "start_time": "2024-05-03T21:41:53.188Z"
   },
   {
    "duration": 4,
    "start_time": "2024-05-03T21:42:42.944Z"
   },
   {
    "duration": 22,
    "start_time": "2024-05-03T21:42:43.481Z"
   },
   {
    "duration": 5,
    "start_time": "2024-05-03T21:43:23.569Z"
   },
   {
    "duration": 24,
    "start_time": "2024-05-03T21:43:24.101Z"
   },
   {
    "duration": 10,
    "start_time": "2024-05-03T21:44:46.609Z"
   },
   {
    "duration": 18,
    "start_time": "2024-05-03T21:45:36.037Z"
   },
   {
    "duration": 9,
    "start_time": "2024-05-03T21:52:33.259Z"
   },
   {
    "duration": 10,
    "start_time": "2024-05-03T21:52:47.537Z"
   },
   {
    "duration": 20,
    "start_time": "2024-05-03T21:53:46.682Z"
   },
   {
    "duration": 15,
    "start_time": "2024-05-03T21:54:53.554Z"
   },
   {
    "duration": 29,
    "start_time": "2024-05-03T21:54:55.164Z"
   },
   {
    "duration": 7994,
    "start_time": "2024-05-04T16:49:02.403Z"
   },
   {
    "duration": 5,
    "start_time": "2024-05-04T16:49:10.399Z"
   },
   {
    "duration": 32,
    "start_time": "2024-05-04T16:49:10.405Z"
   },
   {
    "duration": 84,
    "start_time": "2024-05-04T16:49:10.439Z"
   },
   {
    "duration": 32,
    "start_time": "2024-05-04T16:49:10.525Z"
   },
   {
    "duration": 1245,
    "start_time": "2024-05-04T16:49:10.558Z"
   },
   {
    "duration": 399,
    "start_time": "2024-05-04T16:49:11.805Z"
   },
   {
    "duration": 5,
    "start_time": "2024-05-04T16:49:12.206Z"
   },
   {
    "duration": 16,
    "start_time": "2024-05-04T16:49:12.212Z"
   },
   {
    "duration": 9,
    "start_time": "2024-05-04T16:49:12.230Z"
   },
   {
    "duration": 8,
    "start_time": "2024-05-04T16:49:12.240Z"
   },
   {
    "duration": 728,
    "start_time": "2024-05-04T16:49:12.249Z"
   },
   {
    "duration": 6940,
    "start_time": "2024-05-04T16:49:12.978Z"
   },
   {
    "duration": 268,
    "start_time": "2024-05-04T16:49:19.920Z"
   },
   {
    "duration": 445,
    "start_time": "2024-05-04T16:49:20.190Z"
   },
   {
    "duration": 2,
    "start_time": "2024-05-04T16:49:20.637Z"
   },
   {
    "duration": 6,
    "start_time": "2024-05-04T16:49:20.641Z"
   },
   {
    "duration": 8,
    "start_time": "2024-05-04T16:49:20.649Z"
   },
   {
    "duration": 17,
    "start_time": "2024-05-04T16:49:20.659Z"
   },
   {
    "duration": 17,
    "start_time": "2024-05-04T16:49:20.677Z"
   },
   {
    "duration": 5,
    "start_time": "2024-05-04T16:49:20.703Z"
   },
   {
    "duration": 5,
    "start_time": "2024-05-04T16:49:20.710Z"
   },
   {
    "duration": 5,
    "start_time": "2024-05-04T16:49:20.716Z"
   },
   {
    "duration": 7,
    "start_time": "2024-05-04T16:49:20.722Z"
   },
   {
    "duration": 41684,
    "start_time": "2024-05-04T16:49:20.730Z"
   },
   {
    "duration": 6,
    "start_time": "2024-05-04T16:50:02.415Z"
   },
   {
    "duration": 62,
    "start_time": "2024-05-04T16:50:02.422Z"
   },
   {
    "duration": 620,
    "start_time": "2024-05-04T16:50:02.486Z"
   },
   {
    "duration": 5,
    "start_time": "2024-05-04T16:50:03.108Z"
   },
   {
    "duration": 138,
    "start_time": "2024-05-04T16:50:03.114Z"
   },
   {
    "duration": 0,
    "start_time": "2024-05-04T16:50:03.254Z"
   },
   {
    "duration": 0,
    "start_time": "2024-05-04T16:50:03.255Z"
   },
   {
    "duration": 0,
    "start_time": "2024-05-04T16:50:03.257Z"
   },
   {
    "duration": 0,
    "start_time": "2024-05-04T16:50:03.258Z"
   },
   {
    "duration": 0,
    "start_time": "2024-05-04T16:50:03.259Z"
   },
   {
    "duration": 0,
    "start_time": "2024-05-04T16:50:03.261Z"
   },
   {
    "duration": 0,
    "start_time": "2024-05-04T16:50:03.262Z"
   },
   {
    "duration": 0,
    "start_time": "2024-05-04T16:50:03.264Z"
   },
   {
    "duration": 0,
    "start_time": "2024-05-04T16:50:03.265Z"
   },
   {
    "duration": 0,
    "start_time": "2024-05-04T16:50:03.266Z"
   },
   {
    "duration": 0,
    "start_time": "2024-05-04T16:50:03.268Z"
   },
   {
    "duration": 1,
    "start_time": "2024-05-04T16:50:03.269Z"
   },
   {
    "duration": 47,
    "start_time": "2024-05-04T17:06:35.939Z"
   },
   {
    "duration": 7402,
    "start_time": "2024-05-04T17:06:43.476Z"
   },
   {
    "duration": 6,
    "start_time": "2024-05-04T17:06:50.880Z"
   },
   {
    "duration": 30,
    "start_time": "2024-05-04T17:06:50.887Z"
   },
   {
    "duration": 101,
    "start_time": "2024-05-04T17:06:50.919Z"
   },
   {
    "duration": 39,
    "start_time": "2024-05-04T17:06:51.021Z"
   },
   {
    "duration": 1525,
    "start_time": "2024-05-04T17:06:51.061Z"
   },
   {
    "duration": 404,
    "start_time": "2024-05-04T17:06:52.587Z"
   },
   {
    "duration": 5,
    "start_time": "2024-05-04T17:06:52.993Z"
   },
   {
    "duration": 21,
    "start_time": "2024-05-04T17:06:52.999Z"
   },
   {
    "duration": 8,
    "start_time": "2024-05-04T17:06:53.023Z"
   },
   {
    "duration": 13,
    "start_time": "2024-05-04T17:06:53.032Z"
   },
   {
    "duration": 843,
    "start_time": "2024-05-04T17:06:53.047Z"
   },
   {
    "duration": 8878,
    "start_time": "2024-05-04T17:06:53.892Z"
   },
   {
    "duration": 288,
    "start_time": "2024-05-04T17:07:02.772Z"
   },
   {
    "duration": 497,
    "start_time": "2024-05-04T17:07:03.061Z"
   },
   {
    "duration": 3,
    "start_time": "2024-05-04T17:07:03.560Z"
   },
   {
    "duration": 10,
    "start_time": "2024-05-04T17:07:03.564Z"
   },
   {
    "duration": 15,
    "start_time": "2024-05-04T17:07:03.576Z"
   },
   {
    "duration": 19,
    "start_time": "2024-05-04T17:07:03.593Z"
   },
   {
    "duration": 3,
    "start_time": "2024-05-04T17:07:03.614Z"
   },
   {
    "duration": 20,
    "start_time": "2024-05-04T17:07:03.619Z"
   },
   {
    "duration": 22,
    "start_time": "2024-05-04T17:07:03.641Z"
   },
   {
    "duration": 27,
    "start_time": "2024-05-04T17:07:03.665Z"
   },
   {
    "duration": 8,
    "start_time": "2024-05-04T17:07:03.693Z"
   },
   {
    "duration": 43558,
    "start_time": "2024-05-04T17:07:03.703Z"
   },
   {
    "duration": 7,
    "start_time": "2024-05-04T17:07:47.263Z"
   },
   {
    "duration": 6,
    "start_time": "2024-05-04T17:07:47.271Z"
   },
   {
    "duration": 607,
    "start_time": "2024-05-04T17:07:47.280Z"
   },
   {
    "duration": 7,
    "start_time": "2024-05-04T17:07:47.889Z"
   },
   {
    "duration": 161,
    "start_time": "2024-05-04T17:07:47.897Z"
   },
   {
    "duration": 0,
    "start_time": "2024-05-04T17:07:48.060Z"
   },
   {
    "duration": 1,
    "start_time": "2024-05-04T17:07:48.061Z"
   },
   {
    "duration": 0,
    "start_time": "2024-05-04T17:07:48.063Z"
   },
   {
    "duration": 0,
    "start_time": "2024-05-04T17:07:48.064Z"
   },
   {
    "duration": 0,
    "start_time": "2024-05-04T17:07:48.065Z"
   },
   {
    "duration": 0,
    "start_time": "2024-05-04T17:07:48.067Z"
   },
   {
    "duration": 0,
    "start_time": "2024-05-04T17:07:48.068Z"
   },
   {
    "duration": 0,
    "start_time": "2024-05-04T17:07:48.070Z"
   },
   {
    "duration": 0,
    "start_time": "2024-05-04T17:07:48.072Z"
   },
   {
    "duration": 0,
    "start_time": "2024-05-04T17:07:48.073Z"
   },
   {
    "duration": 0,
    "start_time": "2024-05-04T17:07:48.075Z"
   },
   {
    "duration": 0,
    "start_time": "2024-05-04T17:07:48.076Z"
   },
   {
    "duration": 16,
    "start_time": "2024-05-04T17:08:48.870Z"
   },
   {
    "duration": 18561,
    "start_time": "2024-05-04T17:11:36.484Z"
   },
   {
    "duration": 8,
    "start_time": "2024-05-04T17:14:09.847Z"
   },
   {
    "duration": 5,
    "start_time": "2024-05-04T17:14:26.603Z"
   },
   {
    "duration": 71324,
    "start_time": "2024-05-04T17:14:27.291Z"
   },
   {
    "duration": 9,
    "start_time": "2024-05-04T17:16:11.437Z"
   },
   {
    "duration": 5,
    "start_time": "2024-05-04T17:16:17.825Z"
   },
   {
    "duration": 5,
    "start_time": "2024-05-04T17:16:22.365Z"
   },
   {
    "duration": 3,
    "start_time": "2024-05-04T17:16:23.141Z"
   },
   {
    "duration": 18,
    "start_time": "2024-05-04T17:16:23.775Z"
   },
   {
    "duration": 16,
    "start_time": "2024-05-04T17:19:49.807Z"
   },
   {
    "duration": 8,
    "start_time": "2024-05-04T17:26:22.515Z"
   },
   {
    "duration": 5,
    "start_time": "2024-05-04T17:26:28.815Z"
   },
   {
    "duration": 551,
    "start_time": "2024-05-04T17:26:29.401Z"
   },
   {
    "duration": 5,
    "start_time": "2024-05-04T17:26:31.814Z"
   },
   {
    "duration": 191311,
    "start_time": "2024-05-04T17:26:32.958Z"
   },
   {
    "duration": 0,
    "start_time": "2024-05-04T17:29:44.271Z"
   },
   {
    "duration": 21,
    "start_time": "2024-05-04T17:29:53.509Z"
   },
   {
    "duration": 8,
    "start_time": "2024-05-04T17:31:03.169Z"
   },
   {
    "duration": 5,
    "start_time": "2024-05-04T17:31:06.449Z"
   },
   {
    "duration": 600,
    "start_time": "2024-05-04T17:31:07.292Z"
   },
   {
    "duration": 6,
    "start_time": "2024-05-04T17:31:48.358Z"
   },
   {
    "duration": 4,
    "start_time": "2024-05-04T17:31:49.392Z"
   },
   {
    "duration": 667,
    "start_time": "2024-05-04T17:31:50.042Z"
   },
   {
    "duration": 5,
    "start_time": "2024-05-04T17:31:52.339Z"
   },
   {
    "duration": 61088,
    "start_time": "2024-05-04T17:31:53.068Z"
   },
   {
    "duration": 0,
    "start_time": "2024-05-04T17:32:54.158Z"
   },
   {
    "duration": 0,
    "start_time": "2024-05-04T17:32:54.159Z"
   },
   {
    "duration": 353174,
    "start_time": "2024-05-04T17:33:32.278Z"
   },
   {
    "duration": 10,
    "start_time": "2024-05-04T17:39:38.826Z"
   },
   {
    "duration": 5,
    "start_time": "2024-05-04T17:39:44.254Z"
   },
   {
    "duration": 4,
    "start_time": "2024-05-04T17:39:51.891Z"
   },
   {
    "duration": 4,
    "start_time": "2024-05-04T17:39:52.463Z"
   },
   {
    "duration": 16,
    "start_time": "2024-05-04T17:39:54.843Z"
   },
   {
    "duration": 7,
    "start_time": "2024-05-04T17:42:16.948Z"
   },
   {
    "duration": 4,
    "start_time": "2024-05-04T17:42:18.057Z"
   },
   {
    "duration": 562,
    "start_time": "2024-05-04T17:42:19.166Z"
   },
   {
    "duration": 5,
    "start_time": "2024-05-04T17:42:26.519Z"
   },
   {
    "duration": 224946,
    "start_time": "2024-05-04T17:42:27.016Z"
   },
   {
    "duration": 8,
    "start_time": "2024-05-04T17:46:58.166Z"
   },
   {
    "duration": 3,
    "start_time": "2024-05-04T17:47:01.279Z"
   },
   {
    "duration": 7,
    "start_time": "2024-05-04T17:47:01.543Z"
   },
   {
    "duration": 4,
    "start_time": "2024-05-04T17:47:06.987Z"
   },
   {
    "duration": 4,
    "start_time": "2024-05-04T17:47:07.480Z"
   },
   {
    "duration": 10,
    "start_time": "2024-05-04T17:47:08.169Z"
   },
   {
    "duration": 7,
    "start_time": "2024-05-04T17:50:29.783Z"
   },
   {
    "duration": 71655,
    "start_time": "2024-05-04T17:50:45.901Z"
   },
   {
    "duration": 11,
    "start_time": "2024-05-04T17:52:10.489Z"
   },
   {
    "duration": 11,
    "start_time": "2024-05-04T17:52:26.530Z"
   },
   {
    "duration": 7,
    "start_time": "2024-05-04T17:53:22.451Z"
   },
   {
    "duration": 7,
    "start_time": "2024-05-04T17:53:31.322Z"
   },
   {
    "duration": 4,
    "start_time": "2024-05-04T17:54:17.280Z"
   },
   {
    "duration": 611,
    "start_time": "2024-05-04T17:54:17.511Z"
   },
   {
    "duration": 6,
    "start_time": "2024-05-04T17:54:31.481Z"
   },
   {
    "duration": 364407,
    "start_time": "2024-05-04T17:54:40.258Z"
   },
   {
    "duration": 9,
    "start_time": "2024-05-04T18:01:03.647Z"
   },
   {
    "duration": 2,
    "start_time": "2024-05-04T18:01:04.638Z"
   },
   {
    "duration": 5,
    "start_time": "2024-05-04T18:01:05.711Z"
   },
   {
    "duration": 5,
    "start_time": "2024-05-04T18:01:08.148Z"
   },
   {
    "duration": 3,
    "start_time": "2024-05-04T18:01:09.080Z"
   },
   {
    "duration": 108999,
    "start_time": "2024-05-04T18:01:11.064Z"
   },
   {
    "duration": 12,
    "start_time": "2024-05-04T18:03:14.739Z"
   },
   {
    "duration": 576,
    "start_time": "2024-05-04T18:06:33.132Z"
   },
   {
    "duration": 8,
    "start_time": "2024-05-04T18:07:58.512Z"
   },
   {
    "duration": 11,
    "start_time": "2024-05-04T18:08:23.268Z"
   },
   {
    "duration": 7,
    "start_time": "2024-05-04T18:12:53.881Z"
   },
   {
    "duration": 47236,
    "start_time": "2024-05-04T18:13:17.131Z"
   },
   {
    "duration": 122,
    "start_time": "2024-05-04T18:14:24.061Z"
   },
   {
    "duration": 6,
    "start_time": "2024-05-04T18:15:57.348Z"
   },
   {
    "duration": 49356,
    "start_time": "2024-05-04T18:16:12.612Z"
   },
   {
    "duration": 256,
    "start_time": "2024-05-04T18:17:06.339Z"
   },
   {
    "duration": 8,
    "start_time": "2024-05-04T18:17:39.398Z"
   },
   {
    "duration": 262259,
    "start_time": "2024-05-04T18:17:40.907Z"
   },
   {
    "duration": 3,
    "start_time": "2024-05-04T18:22:03.168Z"
   },
   {
    "duration": 0,
    "start_time": "2024-05-04T18:23:58.456Z"
   },
   {
    "duration": 6450,
    "start_time": "2024-05-04T18:26:56.981Z"
   },
   {
    "duration": 5,
    "start_time": "2024-05-04T18:27:03.433Z"
   },
   {
    "duration": 6,
    "start_time": "2024-05-04T18:27:03.444Z"
   },
   {
    "duration": 32,
    "start_time": "2024-05-04T18:27:03.452Z"
   },
   {
    "duration": 41,
    "start_time": "2024-05-04T18:27:03.485Z"
   },
   {
    "duration": 1515,
    "start_time": "2024-05-04T18:27:03.527Z"
   },
   {
    "duration": 440,
    "start_time": "2024-05-04T18:27:05.045Z"
   },
   {
    "duration": 6,
    "start_time": "2024-05-04T18:27:05.487Z"
   },
   {
    "duration": 10,
    "start_time": "2024-05-04T18:27:05.494Z"
   },
   {
    "duration": 9,
    "start_time": "2024-05-04T18:27:05.507Z"
   },
   {
    "duration": 31,
    "start_time": "2024-05-04T18:27:05.517Z"
   },
   {
    "duration": 825,
    "start_time": "2024-05-04T18:27:05.549Z"
   },
   {
    "duration": 8837,
    "start_time": "2024-05-04T18:27:06.376Z"
   },
   {
    "duration": 345,
    "start_time": "2024-05-04T18:27:15.215Z"
   },
   {
    "duration": 440,
    "start_time": "2024-05-04T18:27:15.562Z"
   },
   {
    "duration": 2,
    "start_time": "2024-05-04T18:27:16.004Z"
   },
   {
    "duration": 8,
    "start_time": "2024-05-04T18:27:16.045Z"
   },
   {
    "duration": 12,
    "start_time": "2024-05-04T18:27:16.055Z"
   },
   {
    "duration": 27,
    "start_time": "2024-05-04T18:27:16.069Z"
   },
   {
    "duration": 14,
    "start_time": "2024-05-04T18:27:16.097Z"
   },
   {
    "duration": 17,
    "start_time": "2024-05-04T18:27:16.112Z"
   },
   {
    "duration": 14,
    "start_time": "2024-05-04T18:27:16.130Z"
   },
   {
    "duration": 22,
    "start_time": "2024-05-04T18:27:16.145Z"
   },
   {
    "duration": 16,
    "start_time": "2024-05-04T18:27:16.169Z"
   },
   {
    "duration": 76363,
    "start_time": "2024-05-04T18:27:16.186Z"
   },
   {
    "duration": 7,
    "start_time": "2024-05-04T18:28:32.551Z"
   },
   {
    "duration": 11,
    "start_time": "2024-05-04T18:28:32.559Z"
   },
   {
    "duration": 592,
    "start_time": "2024-05-04T18:28:32.573Z"
   },
   {
    "duration": 6,
    "start_time": "2024-05-04T18:28:33.166Z"
   },
   {
    "duration": 112119,
    "start_time": "2024-05-04T18:28:33.173Z"
   },
   {
    "duration": 8,
    "start_time": "2024-05-04T18:30:25.294Z"
   },
   {
    "duration": 15,
    "start_time": "2024-05-04T18:30:25.303Z"
   },
   {
    "duration": 5,
    "start_time": "2024-05-04T18:30:25.321Z"
   },
   {
    "duration": 9,
    "start_time": "2024-05-04T18:30:25.327Z"
   },
   {
    "duration": 12,
    "start_time": "2024-05-04T18:30:25.337Z"
   },
   {
    "duration": 14,
    "start_time": "2024-05-04T18:30:25.350Z"
   },
   {
    "duration": 79588,
    "start_time": "2024-05-04T18:30:25.365Z"
   },
   {
    "duration": 594,
    "start_time": "2024-05-04T18:31:44.954Z"
   },
   {
    "duration": 8,
    "start_time": "2024-05-04T18:31:45.550Z"
   },
   {
    "duration": 7064,
    "start_time": "2024-05-04T18:31:45.560Z"
   },
   {
    "duration": 0,
    "start_time": "2024-05-04T18:31:52.626Z"
   },
   {
    "duration": 0,
    "start_time": "2024-05-04T18:31:52.627Z"
   },
   {
    "duration": 301337,
    "start_time": "2024-05-04T18:32:05.016Z"
   },
   {
    "duration": 8886,
    "start_time": "2024-05-04T19:09:15.557Z"
   },
   {
    "duration": 5,
    "start_time": "2024-05-04T19:09:24.445Z"
   },
   {
    "duration": 39,
    "start_time": "2024-05-04T19:09:24.452Z"
   },
   {
    "duration": 44,
    "start_time": "2024-05-04T19:09:24.492Z"
   },
   {
    "duration": 32,
    "start_time": "2024-05-04T19:09:24.538Z"
   },
   {
    "duration": 1238,
    "start_time": "2024-05-04T19:09:24.571Z"
   },
   {
    "duration": 394,
    "start_time": "2024-05-04T19:09:25.810Z"
   },
   {
    "duration": 5,
    "start_time": "2024-05-04T19:09:26.205Z"
   },
   {
    "duration": 11,
    "start_time": "2024-05-04T19:09:26.211Z"
   },
   {
    "duration": 12,
    "start_time": "2024-05-04T19:09:26.224Z"
   },
   {
    "duration": 13,
    "start_time": "2024-05-04T19:09:26.238Z"
   },
   {
    "duration": 708,
    "start_time": "2024-05-04T19:09:26.252Z"
   },
   {
    "duration": 6834,
    "start_time": "2024-05-04T19:09:26.961Z"
   },
   {
    "duration": 278,
    "start_time": "2024-05-04T19:09:33.797Z"
   },
   {
    "duration": 447,
    "start_time": "2024-05-04T19:09:34.077Z"
   },
   {
    "duration": 2,
    "start_time": "2024-05-04T19:09:34.525Z"
   },
   {
    "duration": 16,
    "start_time": "2024-05-04T19:09:34.529Z"
   },
   {
    "duration": 14,
    "start_time": "2024-05-04T19:09:34.546Z"
   },
   {
    "duration": 16,
    "start_time": "2024-05-04T19:09:34.561Z"
   },
   {
    "duration": 3,
    "start_time": "2024-05-04T19:09:34.578Z"
   },
   {
    "duration": 17,
    "start_time": "2024-05-04T19:09:34.582Z"
   },
   {
    "duration": 17,
    "start_time": "2024-05-04T19:09:34.600Z"
   },
   {
    "duration": 4,
    "start_time": "2024-05-04T19:09:34.619Z"
   },
   {
    "duration": 5,
    "start_time": "2024-05-04T19:09:34.624Z"
   },
   {
    "duration": 31665,
    "start_time": "2024-05-04T19:09:34.631Z"
   },
   {
    "duration": 8,
    "start_time": "2024-05-04T19:10:06.297Z"
   },
   {
    "duration": 36,
    "start_time": "2024-05-04T19:10:06.307Z"
   },
   {
    "duration": 495,
    "start_time": "2024-05-04T19:10:06.344Z"
   },
   {
    "duration": 4,
    "start_time": "2024-05-04T19:10:06.841Z"
   },
   {
    "duration": 58618,
    "start_time": "2024-05-04T19:10:06.847Z"
   },
   {
    "duration": 8,
    "start_time": "2024-05-04T19:11:05.467Z"
   },
   {
    "duration": 22,
    "start_time": "2024-05-04T19:11:05.476Z"
   },
   {
    "duration": 19,
    "start_time": "2024-05-04T19:11:05.500Z"
   },
   {
    "duration": 8,
    "start_time": "2024-05-04T19:11:05.521Z"
   },
   {
    "duration": 7,
    "start_time": "2024-05-04T19:11:05.531Z"
   },
   {
    "duration": 8,
    "start_time": "2024-05-04T19:11:05.539Z"
   },
   {
    "duration": 55274,
    "start_time": "2024-05-04T19:11:05.548Z"
   },
   {
    "duration": 466,
    "start_time": "2024-05-04T19:12:00.902Z"
   },
   {
    "duration": 7,
    "start_time": "2024-05-04T19:12:01.370Z"
   },
   {
    "duration": 223224,
    "start_time": "2024-05-04T19:12:01.378Z"
   },
   {
    "duration": 3,
    "start_time": "2024-05-04T19:15:44.605Z"
   },
   {
    "duration": 324093,
    "start_time": "2024-05-04T19:15:44.610Z"
   }
  ],
  "kernelspec": {
   "display_name": "Python 3 (ipykernel)",
   "language": "python",
   "name": "python3"
  },
  "language_info": {
   "codemirror_mode": {
    "name": "ipython",
    "version": 3
   },
   "file_extension": ".py",
   "mimetype": "text/x-python",
   "name": "python",
   "nbconvert_exporter": "python",
   "pygments_lexer": "ipython3",
   "version": "3.9.15"
  },
  "toc": {
   "base_numbering": 1,
   "nav_menu": {},
   "number_sections": false,
   "sideBar": true,
   "skip_h1_title": false,
   "title_cell": "Table of Contents",
   "title_sidebar": "Contents",
   "toc_cell": false,
   "toc_position": {},
   "toc_section_display": true,
   "toc_window_display": false
  },
  "varInspector": {
   "cols": {
    "lenName": 16,
    "lenType": 16,
    "lenVar": 40
   },
   "kernels_config": {
    "python": {
     "delete_cmd_postfix": "",
     "delete_cmd_prefix": "del ",
     "library": "var_list.py",
     "varRefreshCmd": "print(var_dic_list())"
    },
    "r": {
     "delete_cmd_postfix": ") ",
     "delete_cmd_prefix": "rm(",
     "library": "var_list.r",
     "varRefreshCmd": "cat(var_dic_list()) "
    }
   },
   "types_to_exclude": [
    "module",
    "function",
    "builtin_function_or_method",
    "instance",
    "_Feature"
   ],
   "window_display": false
  }
 },
 "nbformat": 4,
 "nbformat_minor": 5
}
